{
 "cells": [
  {
   "cell_type": "markdown",
   "metadata": {},
   "source": [
    "# BITS F312 | NNFL | Python Tutorial"
   ]
  },
  {
   "cell_type": "markdown",
   "metadata": {},
   "source": [
    "Adapted from the `CS231n` Python tutorial by Justin Johnson (http://cs231n.github.io/python-numpy-tutorial/)."
   ]
  },
  {
   "cell_type": "markdown",
   "metadata": {},
   "source": [
    "## Introduction"
   ]
  },
  {
   "cell_type": "markdown",
   "metadata": {
    "ExecuteTime": {
     "end_time": "2019-01-31T12:47:11.432216Z",
     "start_time": "2019-01-31T12:47:11.424824Z"
    }
   },
   "source": [
    "In these two days we will cover a few essential tools required by data-scientists, machine-learning engineers and NNFL students"
   ]
  },
  {
   "cell_type": "markdown",
   "metadata": {},
   "source": [
    "In today's session, we will cover:\n",
    "\n",
    "* Basic data types (Containers, Lists, Dictionaries, Sets, Tuples), Functions, Classes\n",
    "* Object Oriented and Functional Programming\n",
    "* Other Useful Pointers and Guidelines"
   ]
  },
  {
   "cell_type": "markdown",
   "metadata": {},
   "source": [
    "## Basics of Python"
   ]
  },
  {
   "cell_type": "markdown",
   "metadata": {},
   "source": [
    "Python is a high-level, dynamically typed multiparadigm programming language. Python code is often said to be almost like pseudocode, since it allows you to express very powerful ideas in very few lines of code while being very readable. As an example, here is an implementation of the classic quicksort algorithm in Python:"
   ]
  },
  {
   "cell_type": "code",
   "execution_count": 124,
   "metadata": {
    "ExecuteTime": {
     "end_time": "2019-02-02T10:32:39.098060Z",
     "start_time": "2019-02-02T10:32:39.083086Z"
    }
   },
   "outputs": [
    {
     "name": "stdout",
     "output_type": "stream",
     "text": [
      "[1, 1, 2, 3, 6, 8, 10]\n"
     ]
    }
   ],
   "source": [
    "def quicksort(arr):\n",
    "    if len(arr) <= 1:\n",
    "        return arr\n",
    "    pivot = arr[len(arr) // 2]\n",
    "    left = [x for x in arr if x < pivot]\n",
    "    middle = [x for x in arr if x == pivot]\n",
    "    right = [x for x in arr if x > pivot]\n",
    "    return quicksort(left) + middle + quicksort(right)\n",
    "\n",
    "print(quicksort([3,6,8,10,1,2,1]))"
   ]
  },
  {
   "cell_type": "markdown",
   "metadata": {},
   "source": [
    "or, we could just do this"
   ]
  },
  {
   "cell_type": "code",
   "execution_count": 125,
   "metadata": {
    "ExecuteTime": {
     "end_time": "2019-02-02T10:32:41.013389Z",
     "start_time": "2019-02-02T10:32:41.005732Z"
    }
   },
   "outputs": [
    {
     "data": {
      "text/plain": [
       "[1, 1, 2, 3, 6, 8, 10]"
      ]
     },
     "execution_count": 125,
     "metadata": {},
     "output_type": "execute_result"
    }
   ],
   "source": [
    "sorted([3,6,8,10,1,2,1])"
   ]
  },
  {
   "cell_type": "markdown",
   "metadata": {},
   "source": [
    "It internally uses an algorithm called 'Timsort' for sorting."
   ]
  },
  {
   "cell_type": "markdown",
   "metadata": {},
   "source": [
    "### Basic data types"
   ]
  },
  {
   "cell_type": "markdown",
   "metadata": {},
   "source": [
    "#### Numbers"
   ]
  },
  {
   "cell_type": "markdown",
   "metadata": {},
   "source": [
    "Integers and floats work as you would expect from other languages:"
   ]
  },
  {
   "cell_type": "code",
   "execution_count": 126,
   "metadata": {
    "ExecuteTime": {
     "end_time": "2019-02-02T10:32:56.122402Z",
     "start_time": "2019-02-02T10:32:56.119219Z"
    }
   },
   "outputs": [],
   "source": [
    "x = 3"
   ]
  },
  {
   "cell_type": "code",
   "execution_count": 127,
   "metadata": {
    "ExecuteTime": {
     "end_time": "2019-02-02T10:32:57.511474Z",
     "start_time": "2019-02-02T10:32:57.505768Z"
    }
   },
   "outputs": [
    {
     "data": {
      "text/plain": [
       "int"
      ]
     },
     "execution_count": 127,
     "metadata": {},
     "output_type": "execute_result"
    }
   ],
   "source": [
    "type(x)"
   ]
  },
  {
   "cell_type": "code",
   "execution_count": 128,
   "metadata": {
    "ExecuteTime": {
     "end_time": "2019-02-02T10:32:58.519017Z",
     "start_time": "2019-02-02T10:32:58.514594Z"
    }
   },
   "outputs": [
    {
     "name": "stdout",
     "output_type": "stream",
     "text": [
      "4\n",
      "2\n",
      "6\n",
      "9\n"
     ]
    }
   ],
   "source": [
    "print(x + 1)   # Addition;\n",
    "print(x - 1)   # Subtraction;\n",
    "print(x * 2)   # Multiplication;\n",
    "print(x ** 2)  # Exponentiation;"
   ]
  },
  {
   "cell_type": "code",
   "execution_count": 129,
   "metadata": {
    "ExecuteTime": {
     "end_time": "2019-02-02T10:32:59.633193Z",
     "start_time": "2019-02-02T10:32:59.624332Z"
    }
   },
   "outputs": [
    {
     "name": "stdout",
     "output_type": "stream",
     "text": [
      "4\n",
      "8\n"
     ]
    }
   ],
   "source": [
    "x += 1\n",
    "print(x)  # Prints \"4\"\n",
    "x *= 2\n",
    "print(x)  # Prints \"8\""
   ]
  },
  {
   "cell_type": "code",
   "execution_count": 130,
   "metadata": {
    "ExecuteTime": {
     "end_time": "2019-02-02T10:33:00.546551Z",
     "start_time": "2019-02-02T10:33:00.537710Z"
    }
   },
   "outputs": [
    {
     "name": "stdout",
     "output_type": "stream",
     "text": [
      "<class 'float'>\n",
      "2.5 3.5 5.0 6.25\n"
     ]
    }
   ],
   "source": [
    "y = 2.5\n",
    "print(type(y)) # Prints \"<type 'float'>\"\n",
    "print(y, y + 1, y * 2, y ** 2) # Prints \"2.5 3.5 5.0 6.25\""
   ]
  },
  {
   "cell_type": "markdown",
   "metadata": {},
   "source": [
    "Note that unlike many languages, Python does not have unary increment (x++) or decrement (x--) operators.\n",
    "\n",
    "Python also has built-in types for long integers and complex numbers; you can find all of the details in the [documentation](https://docs.python.org/2/library/stdtypes.html#numeric-types-int-float-long-complex)."
   ]
  },
  {
   "cell_type": "markdown",
   "metadata": {},
   "source": [
    "#### Booleans"
   ]
  },
  {
   "cell_type": "markdown",
   "metadata": {},
   "source": [
    "Python implements all of the usual operators for Boolean logic, but uses English words rather than symbols (`&&`, `||`, etc.):"
   ]
  },
  {
   "cell_type": "code",
   "execution_count": 131,
   "metadata": {
    "ExecuteTime": {
     "end_time": "2019-02-02T10:33:04.390207Z",
     "start_time": "2019-02-02T10:33:04.385380Z"
    }
   },
   "outputs": [
    {
     "name": "stdout",
     "output_type": "stream",
     "text": [
      "<class 'bool'>\n"
     ]
    }
   ],
   "source": [
    "t, f = True, False\n",
    "print(type(t)) # Prints \"<type 'bool'>\""
   ]
  },
  {
   "cell_type": "markdown",
   "metadata": {},
   "source": [
    "Yes, we can assign like that :D"
   ]
  },
  {
   "cell_type": "code",
   "execution_count": 132,
   "metadata": {
    "ExecuteTime": {
     "end_time": "2019-02-02T10:33:05.339724Z",
     "start_time": "2019-02-02T10:33:05.334583Z"
    }
   },
   "outputs": [],
   "source": [
    "a = 1\n",
    "b = 2"
   ]
  },
  {
   "cell_type": "code",
   "execution_count": 133,
   "metadata": {
    "ExecuteTime": {
     "end_time": "2019-02-02T10:33:06.419349Z",
     "start_time": "2019-02-02T10:33:06.413749Z"
    }
   },
   "outputs": [],
   "source": [
    "a,b = b,a"
   ]
  },
  {
   "cell_type": "code",
   "execution_count": 134,
   "metadata": {
    "ExecuteTime": {
     "end_time": "2019-02-02T10:33:07.398028Z",
     "start_time": "2019-02-02T10:33:07.393583Z"
    }
   },
   "outputs": [
    {
     "name": "stdout",
     "output_type": "stream",
     "text": [
      "2 1\n"
     ]
    }
   ],
   "source": [
    "print(a,b)"
   ]
  },
  {
   "cell_type": "markdown",
   "metadata": {},
   "source": [
    "Now we let's look at the operations:"
   ]
  },
  {
   "cell_type": "code",
   "execution_count": 135,
   "metadata": {
    "ExecuteTime": {
     "end_time": "2019-02-02T10:33:08.279235Z",
     "start_time": "2019-02-02T10:33:08.274225Z"
    }
   },
   "outputs": [
    {
     "name": "stdout",
     "output_type": "stream",
     "text": [
      "False\n",
      "True\n",
      "False\n",
      "True\n"
     ]
    }
   ],
   "source": [
    "print(t and f) # Logical AND;\n",
    "print(t or f)  # Logical OR;\n",
    "print(not t)   # Logical NOT;\n",
    "print(t != f)  # Logical XOR;"
   ]
  },
  {
   "cell_type": "markdown",
   "metadata": {},
   "source": [
    "#### Strings"
   ]
  },
  {
   "cell_type": "code",
   "execution_count": 136,
   "metadata": {
    "ExecuteTime": {
     "end_time": "2019-02-02T10:33:11.049864Z",
     "start_time": "2019-02-02T10:33:11.042761Z"
    }
   },
   "outputs": [
    {
     "name": "stdout",
     "output_type": "stream",
     "text": [
      "hello\n"
     ]
    },
    {
     "data": {
      "text/plain": [
       "(None, 5)"
      ]
     },
     "execution_count": 136,
     "metadata": {},
     "output_type": "execute_result"
    }
   ],
   "source": [
    "hello = 'hello'   # String literals can use single quotes\n",
    "world = \"world\"   # or double quotes; it does not matter.\n",
    "print(hello), len(hello)"
   ]
  },
  {
   "cell_type": "code",
   "execution_count": 137,
   "metadata": {
    "ExecuteTime": {
     "end_time": "2019-02-02T10:33:12.332592Z",
     "start_time": "2019-02-02T10:33:12.328665Z"
    }
   },
   "outputs": [
    {
     "name": "stdout",
     "output_type": "stream",
     "text": [
      "hello world\n"
     ]
    }
   ],
   "source": [
    "hw = hello + ' ' + world  # String concatenation\n",
    "print(hw)  # prints \"hello world\""
   ]
  },
  {
   "cell_type": "markdown",
   "metadata": {},
   "source": [
    "String objects have a bunch of useful methods; for example:"
   ]
  },
  {
   "cell_type": "code",
   "execution_count": 138,
   "metadata": {
    "ExecuteTime": {
     "end_time": "2019-02-02T10:33:13.731119Z",
     "start_time": "2019-02-02T10:33:13.726477Z"
    }
   },
   "outputs": [
    {
     "name": "stdout",
     "output_type": "stream",
     "text": [
      "Hello\n",
      "HELLO\n",
      "  hello\n",
      " hello \n",
      "he(ell)(ell)o\n",
      "world\n"
     ]
    }
   ],
   "source": [
    "s = \"hello\"\n",
    "print(s.capitalize())  # Capitalize a string; prints \"Hello\"\n",
    "print(s.upper())       # Convert a string to uppercase; prints \"HELLO\"\n",
    "print(s.rjust(7))      # Right-justify a string, padding with spaces; prints \"  hello\"\n",
    "print(s.center(7))     # Center a string, padding with spaces; prints \" hello \"\n",
    "print(s.replace('l', '(ell)'))  # Replace all instances of one substring with another;\n",
    "                               # prints \"he(ell)(ell)o\"\n",
    "print('  world '.strip())  # Strip leading and trailing whitespace; prints \"world\""
   ]
  },
  {
   "cell_type": "markdown",
   "metadata": {},
   "source": [
    "You can find a list of all string methods in the [documentation](https://docs.python.org/2/library/stdtypes.html#string-methods)."
   ]
  },
  {
   "cell_type": "markdown",
   "metadata": {},
   "source": [
    "### Containers"
   ]
  },
  {
   "cell_type": "markdown",
   "metadata": {},
   "source": [
    "Python includes several built-in container types: lists, dictionaries, sets, and tuples."
   ]
  },
  {
   "cell_type": "markdown",
   "metadata": {},
   "source": [
    "#### Lists"
   ]
  },
  {
   "cell_type": "markdown",
   "metadata": {},
   "source": [
    "A list is the Python equivalent of an array, but is resizeable and can contain elements of different types:"
   ]
  },
  {
   "cell_type": "code",
   "execution_count": 139,
   "metadata": {
    "ExecuteTime": {
     "end_time": "2019-02-02T10:33:18.951399Z",
     "start_time": "2019-02-02T10:33:18.947258Z"
    }
   },
   "outputs": [
    {
     "name": "stdout",
     "output_type": "stream",
     "text": [
      "[3, 1, 2] 2\n",
      "2\n"
     ]
    }
   ],
   "source": [
    "xs = [3, 1, 2]   # Create a list\n",
    "print(xs, xs[2])\n",
    "print(xs[-1])     # Negative indices count from the end of the list; prints \"2\""
   ]
  },
  {
   "cell_type": "code",
   "execution_count": 140,
   "metadata": {
    "ExecuteTime": {
     "end_time": "2019-02-02T10:33:19.926490Z",
     "start_time": "2019-02-02T10:33:19.922220Z"
    }
   },
   "outputs": [
    {
     "name": "stdout",
     "output_type": "stream",
     "text": [
      "[3, 1, 'foo']\n"
     ]
    }
   ],
   "source": [
    "xs[2] = 'foo'    # Lists can contain elements of different types\n",
    "print(xs)\n"
   ]
  },
  {
   "cell_type": "code",
   "execution_count": 141,
   "metadata": {
    "ExecuteTime": {
     "end_time": "2019-02-02T10:33:20.905609Z",
     "start_time": "2019-02-02T10:33:20.899207Z"
    }
   },
   "outputs": [
    {
     "name": "stdout",
     "output_type": "stream",
     "text": [
      "[3, 1, 'foo', 'bar']\n"
     ]
    }
   ],
   "source": [
    "xs.append('bar') # Add a new element to the end of the list\n",
    "print(xs)"
   ]
  },
  {
   "cell_type": "code",
   "execution_count": 142,
   "metadata": {
    "ExecuteTime": {
     "end_time": "2019-02-02T10:33:21.865767Z",
     "start_time": "2019-02-02T10:33:21.854302Z"
    }
   },
   "outputs": [
    {
     "name": "stdout",
     "output_type": "stream",
     "text": [
      "bar [3, 1, 'foo']\n"
     ]
    }
   ],
   "source": [
    "x = xs.pop()     # Remove and return the last element of the list\n",
    "print(x, xs)"
   ]
  },
  {
   "cell_type": "markdown",
   "metadata": {},
   "source": [
    "As usual, you can find all the gory details about lists in the [documentation](https://docs.python.org/2/tutorial/datastructures.html#more-on-lists)."
   ]
  },
  {
   "cell_type": "markdown",
   "metadata": {},
   "source": [
    "#### Slicing"
   ]
  },
  {
   "cell_type": "markdown",
   "metadata": {},
   "source": [
    "In addition to accessing list elements one at a time, Python provides concise syntax to access sublists; this is known as slicing:"
   ]
  },
  {
   "cell_type": "code",
   "execution_count": 143,
   "metadata": {
    "ExecuteTime": {
     "end_time": "2019-02-02T10:33:23.343219Z",
     "start_time": "2019-02-02T10:33:23.337994Z"
    }
   },
   "outputs": [
    {
     "name": "stdout",
     "output_type": "stream",
     "text": [
      "[0, 1, 2, 3, 4]\n",
      "[2, 3]\n",
      "[2, 3, 4]\n",
      "[0, 1]\n",
      "[0, 1, 2, 3, 4]\n",
      "[0, 1, 2, 3]\n",
      "[0, 1, 8, 9, 4]\n"
     ]
    }
   ],
   "source": [
    "nums = list(range(5))    # range is a built-in function that creates a list of integers\n",
    "print(nums)         # Prints \"[0, 1, 2, 3, 4]\"\n",
    "print(nums[2:4])    # Get a slice from index 2 to 4 (exclusive); prints \"[2, 3]\"\n",
    "print(nums[2:])     # Get a slice from index 2 to the end; prints \"[2, 3, 4]\"\n",
    "print(nums[:2])     # Get a slice from the start to index 2 (exclusive); prints \"[0, 1]\"\n",
    "print(nums[:])      # Get a slice of the whole list; prints [\"0, 1, 2, 3, 4]\"\n",
    "print(nums[:-1])    # Slice indices can be negative; prints [\"0, 1, 2, 3]\"\n",
    "nums[2:4] = [8, 9] # Assign a new sublist to a slice\n",
    "print(nums)         # Prints \"[0, 1, 8, 9, 4]\""
   ]
  },
  {
   "cell_type": "markdown",
   "metadata": {},
   "source": [
    "#### Loops"
   ]
  },
  {
   "cell_type": "markdown",
   "metadata": {},
   "source": [
    "You can loop over the elements of a list like this:"
   ]
  },
  {
   "cell_type": "code",
   "execution_count": 144,
   "metadata": {
    "ExecuteTime": {
     "end_time": "2019-02-02T10:33:25.839179Z",
     "start_time": "2019-02-02T10:33:25.835235Z"
    }
   },
   "outputs": [
    {
     "name": "stdout",
     "output_type": "stream",
     "text": [
      "cat\n",
      "dog\n",
      "monkey\n"
     ]
    }
   ],
   "source": [
    "animals = ['cat', 'dog', 'monkey']\n",
    "for animal in animals:\n",
    "    print(animal)"
   ]
  },
  {
   "cell_type": "markdown",
   "metadata": {},
   "source": [
    "If you want access to the index of each element within the body of a loop, use the built-in `enumerate` function:"
   ]
  },
  {
   "cell_type": "code",
   "execution_count": 145,
   "metadata": {
    "ExecuteTime": {
     "end_time": "2019-02-02T10:33:27.051089Z",
     "start_time": "2019-02-02T10:33:27.047339Z"
    }
   },
   "outputs": [
    {
     "name": "stdout",
     "output_type": "stream",
     "text": [
      "#1: cat\n",
      "#2: dog\n",
      "#3: monkey\n"
     ]
    }
   ],
   "source": [
    "animals = ['cat', 'dog', 'monkey']\n",
    "for idx, animal in enumerate(animals):\n",
    "    print('#%d: %s' % (idx + 1, animal))"
   ]
  },
  {
   "cell_type": "markdown",
   "metadata": {},
   "source": [
    "#### List comprehensions:"
   ]
  },
  {
   "cell_type": "markdown",
   "metadata": {},
   "source": [
    "When programming, frequently we want to transform one type of data into another. As a simple example, consider the following code that computes square numbers:"
   ]
  },
  {
   "cell_type": "code",
   "execution_count": 150,
   "metadata": {
    "ExecuteTime": {
     "end_time": "2019-02-02T10:34:16.081885Z",
     "start_time": "2019-02-02T10:34:16.076952Z"
    }
   },
   "outputs": [
    {
     "name": "stdout",
     "output_type": "stream",
     "text": [
      "[0, 1, 4, 9, 16]\n"
     ]
    }
   ],
   "source": [
    "nums = [0, 1, 2, 3, 4]\n",
    "squares = []\n",
    "for x in nums:\n",
    "    squares.append(x ** 2)\n",
    "print(squares)"
   ]
  },
  {
   "cell_type": "markdown",
   "metadata": {},
   "source": [
    "You can make this code simpler using a list comprehension:"
   ]
  },
  {
   "cell_type": "markdown",
   "metadata": {},
   "source": [
    "List comprehensions also offer a small speedup."
   ]
  },
  {
   "cell_type": "code",
   "execution_count": 151,
   "metadata": {
    "ExecuteTime": {
     "end_time": "2019-02-02T10:34:17.081305Z",
     "start_time": "2019-02-02T10:34:17.077694Z"
    }
   },
   "outputs": [
    {
     "name": "stdout",
     "output_type": "stream",
     "text": [
      "[0, 1, 4, 9, 16]\n"
     ]
    }
   ],
   "source": [
    "squares = [x ** 2 for x in nums]\n",
    "print(squares)"
   ]
  },
  {
   "cell_type": "markdown",
   "metadata": {},
   "source": [
    "List comprehensions can also contain conditions:"
   ]
  },
  {
   "cell_type": "code",
   "execution_count": 153,
   "metadata": {
    "ExecuteTime": {
     "end_time": "2019-02-02T10:34:27.703215Z",
     "start_time": "2019-02-02T10:34:27.699160Z"
    }
   },
   "outputs": [
    {
     "name": "stdout",
     "output_type": "stream",
     "text": [
      "[0, 4, 16]\n"
     ]
    }
   ],
   "source": [
    "even_squares = [x ** 2 for x in nums if x % 2 == 0]\n",
    "print(even_squares)"
   ]
  },
  {
   "cell_type": "markdown",
   "metadata": {},
   "source": [
    "#### Dictionaries"
   ]
  },
  {
   "cell_type": "markdown",
   "metadata": {},
   "source": [
    "A dictionary stores (key, value) pairs, similar to a `Map` in Java or an object in Javascript. You can use it like this:"
   ]
  },
  {
   "cell_type": "code",
   "execution_count": 154,
   "metadata": {
    "ExecuteTime": {
     "end_time": "2019-02-02T10:34:39.886855Z",
     "start_time": "2019-02-02T10:34:39.882538Z"
    }
   },
   "outputs": [
    {
     "name": "stdout",
     "output_type": "stream",
     "text": [
      "cute\n",
      "True\n"
     ]
    }
   ],
   "source": [
    "d = {'cat': 'cute', 'dog': 'furry'}  # Create a new dictionary with some data\n",
    "print(d['cat'])       # Get an entry from a dictionary; prints \"cute\"\n",
    "print('cat' in d)     # Check if a dictionary has a given key; prints \"True\""
   ]
  },
  {
   "cell_type": "code",
   "execution_count": 155,
   "metadata": {
    "ExecuteTime": {
     "end_time": "2019-02-02T10:34:41.350267Z",
     "start_time": "2019-02-02T10:34:41.346473Z"
    }
   },
   "outputs": [
    {
     "name": "stdout",
     "output_type": "stream",
     "text": [
      "wet\n"
     ]
    }
   ],
   "source": [
    "d['fish'] = 'wet'    # Set an entry in a dictionary\n",
    "print(d['fish'])      # Prints \"wet\""
   ]
  },
  {
   "cell_type": "code",
   "execution_count": 156,
   "metadata": {
    "ExecuteTime": {
     "end_time": "2019-02-02T10:34:45.903765Z",
     "start_time": "2019-02-02T10:34:45.901138Z"
    }
   },
   "outputs": [],
   "source": [
    "del d['fish'] "
   ]
  },
  {
   "cell_type": "code",
   "execution_count": 157,
   "metadata": {
    "ExecuteTime": {
     "end_time": "2019-02-02T10:34:46.987611Z",
     "start_time": "2019-02-02T10:34:46.966633Z"
    }
   },
   "outputs": [
    {
     "ename": "KeyError",
     "evalue": "'monkey'",
     "output_type": "error",
     "traceback": [
      "\u001b[0;31m---------------------------------------------------------------------------\u001b[0m",
      "\u001b[0;31mKeyError\u001b[0m                                  Traceback (most recent call last)",
      "\u001b[0;32m<ipython-input-157-78fc9745d9cf>\u001b[0m in \u001b[0;36m<module>\u001b[0;34m()\u001b[0m\n\u001b[0;32m----> 1\u001b[0;31m \u001b[0mprint\u001b[0m\u001b[0;34m(\u001b[0m\u001b[0md\u001b[0m\u001b[0;34m[\u001b[0m\u001b[0;34m'monkey'\u001b[0m\u001b[0;34m]\u001b[0m\u001b[0;34m)\u001b[0m  \u001b[0;31m# KeyError: 'monkey' not a key of d\u001b[0m\u001b[0;34m\u001b[0m\u001b[0m\n\u001b[0m",
      "\u001b[0;31mKeyError\u001b[0m: 'monkey'"
     ]
    }
   ],
   "source": [
    "print(d['monkey'])  # KeyError: 'monkey' not a key of d"
   ]
  },
  {
   "cell_type": "code",
   "execution_count": 158,
   "metadata": {
    "ExecuteTime": {
     "end_time": "2019-02-02T10:34:49.755329Z",
     "start_time": "2019-02-02T10:34:49.751762Z"
    }
   },
   "outputs": [
    {
     "name": "stdout",
     "output_type": "stream",
     "text": [
      "None\n"
     ]
    }
   ],
   "source": [
    "print(d.get('monkey'))"
   ]
  },
  {
   "cell_type": "code",
   "execution_count": 159,
   "metadata": {
    "ExecuteTime": {
     "end_time": "2019-02-02T10:34:50.841152Z",
     "start_time": "2019-02-02T10:34:50.834684Z"
    }
   },
   "outputs": [
    {
     "name": "stdout",
     "output_type": "stream",
     "text": [
      "Not there :(\n",
      "You recently deleted it!\n"
     ]
    }
   ],
   "source": [
    "print(d.get('monkey', 'Not there :('))  # Get an element with a default; prints \"N/A\"\n",
    "print(d.get('fish', 'You recently deleted it!'))    # Get an element with a default; prints \"wet\""
   ]
  },
  {
   "cell_type": "markdown",
   "metadata": {},
   "source": [
    "You can find all you need to know about dictionaries in the [documentation](https://docs.python.org/2/library/stdtypes.html#dict)."
   ]
  },
  {
   "cell_type": "markdown",
   "metadata": {},
   "source": [
    "It is easy to iterate over the keys in a dictionary:"
   ]
  },
  {
   "cell_type": "code",
   "execution_count": 160,
   "metadata": {
    "ExecuteTime": {
     "end_time": "2019-02-02T10:34:55.017028Z",
     "start_time": "2019-02-02T10:34:55.012841Z"
    }
   },
   "outputs": [
    {
     "name": "stdout",
     "output_type": "stream",
     "text": [
      "A person has 2 legs\n",
      "A cat has 4 legs\n",
      "A spider has 8 legs\n"
     ]
    }
   ],
   "source": [
    "d = {'person': 2, 'cat': 4, 'spider': 8}\n",
    "for animal in d:\n",
    "    legs = d[animal]\n",
    "    print('A %s has %d legs' % (animal, legs))"
   ]
  },
  {
   "cell_type": "markdown",
   "metadata": {},
   "source": [
    "If you want access to keys and their corresponding values, use the iteritems method:"
   ]
  },
  {
   "cell_type": "code",
   "execution_count": 161,
   "metadata": {
    "ExecuteTime": {
     "end_time": "2019-02-02T10:35:00.612536Z",
     "start_time": "2019-02-02T10:35:00.609263Z"
    }
   },
   "outputs": [
    {
     "name": "stdout",
     "output_type": "stream",
     "text": [
      "dict_items([('person', 2), ('cat', 4), ('spider', 8)])\n"
     ]
    }
   ],
   "source": [
    "print(d.items())"
   ]
  },
  {
   "cell_type": "code",
   "execution_count": 162,
   "metadata": {
    "ExecuteTime": {
     "end_time": "2019-02-02T10:35:01.765702Z",
     "start_time": "2019-02-02T10:35:01.759768Z"
    }
   },
   "outputs": [
    {
     "name": "stdout",
     "output_type": "stream",
     "text": [
      "A person has 2 legs\n",
      "A cat has 4 legs\n",
      "A spider has 8 legs\n"
     ]
    }
   ],
   "source": [
    "d = {'person': 2, 'cat': 4, 'spider': 8}\n",
    "for animal, legs in d.items():\n",
    "    print('A %s has %d legs' % (animal, legs))"
   ]
  },
  {
   "cell_type": "markdown",
   "metadata": {},
   "source": [
    "Dictionary comprehensions: These are similar to list comprehensions, but allow you to easily construct dictionaries. For example:"
   ]
  },
  {
   "cell_type": "code",
   "execution_count": 163,
   "metadata": {
    "ExecuteTime": {
     "end_time": "2019-02-02T10:35:03.342555Z",
     "start_time": "2019-02-02T10:35:03.337805Z"
    }
   },
   "outputs": [
    {
     "name": "stdout",
     "output_type": "stream",
     "text": [
      "{0: 0, 2: 4, 4: 16}\n"
     ]
    }
   ],
   "source": [
    "nums = [0, 1, 2, 3, 4]\n",
    "even_num_to_square = {x: x ** 2 for x in nums if x % 2 == 0}\n",
    "print(even_num_to_square)"
   ]
  },
  {
   "cell_type": "markdown",
   "metadata": {},
   "source": [
    "#### Sets"
   ]
  },
  {
   "cell_type": "markdown",
   "metadata": {},
   "source": [
    "A set is an unordered collection of distinct elements. As a simple example, consider the following:"
   ]
  },
  {
   "cell_type": "code",
   "execution_count": 164,
   "metadata": {
    "ExecuteTime": {
     "end_time": "2019-02-02T10:35:04.946015Z",
     "start_time": "2019-02-02T10:35:04.941225Z"
    }
   },
   "outputs": [
    {
     "name": "stdout",
     "output_type": "stream",
     "text": [
      "True\n",
      "False\n"
     ]
    }
   ],
   "source": [
    "animals = {'cat', 'dog'}\n",
    "print('cat' in animals)   # Check if an element is in a set; prints \"True\"\n",
    "print('fish' in animals)  # prints \"False\""
   ]
  },
  {
   "cell_type": "code",
   "execution_count": 165,
   "metadata": {
    "ExecuteTime": {
     "end_time": "2019-02-02T10:35:05.039391Z",
     "start_time": "2019-02-02T10:35:05.035431Z"
    }
   },
   "outputs": [
    {
     "name": "stdout",
     "output_type": "stream",
     "text": [
      "True\n",
      "3\n"
     ]
    }
   ],
   "source": [
    "animals.add('fish')      # Add an element to a set\n",
    "print('fish' in animals)\n",
    "print(len(animals))       # Number of elements in a set;"
   ]
  },
  {
   "cell_type": "code",
   "execution_count": 166,
   "metadata": {
    "ExecuteTime": {
     "end_time": "2019-02-02T10:35:07.062289Z",
     "start_time": "2019-02-02T10:35:07.056862Z"
    }
   },
   "outputs": [
    {
     "name": "stdout",
     "output_type": "stream",
     "text": [
      "3\n",
      "2\n"
     ]
    }
   ],
   "source": [
    "animals.add('cat')       # Adding an element that is already in the set does nothing\n",
    "print(len(animals))       \n",
    "animals.remove('cat')    # Remove an element from a set\n",
    "print(len(animals))"
   ]
  },
  {
   "cell_type": "markdown",
   "metadata": {},
   "source": [
    "_Loops_: Iterating over a set has the same syntax as iterating over a list; however since sets are unordered, you cannot make assumptions about the order in which you visit the elements of the set:"
   ]
  },
  {
   "cell_type": "code",
   "execution_count": 167,
   "metadata": {
    "ExecuteTime": {
     "end_time": "2019-02-02T10:35:07.072939Z",
     "start_time": "2019-02-02T10:35:07.065694Z"
    }
   },
   "outputs": [
    {
     "name": "stdout",
     "output_type": "stream",
     "text": [
      "#1: fish\n",
      "#2: cat\n",
      "#3: dog\n"
     ]
    }
   ],
   "source": [
    "animals = {'cat', 'dog', 'fish'}\n",
    "for idx, animal in enumerate(animals):\n",
    "    print('#%d: %s' % (idx + 1, animal))\n",
    "# Prints \"#1: fish\", \"#2: dog\", \"#3: cat\""
   ]
  },
  {
   "cell_type": "markdown",
   "metadata": {},
   "source": [
    "Set comprehensions: Like lists and dictionaries, we can easily construct sets using set comprehensions:"
   ]
  },
  {
   "cell_type": "code",
   "execution_count": 168,
   "metadata": {
    "ExecuteTime": {
     "end_time": "2019-02-02T10:35:07.103352Z",
     "start_time": "2019-02-02T10:35:07.076751Z"
    }
   },
   "outputs": [
    {
     "name": "stdout",
     "output_type": "stream",
     "text": [
      "{0, 1, 2, 3, 4, 5}\n"
     ]
    }
   ],
   "source": [
    "from math import sqrt\n",
    "print({int(sqrt(x)) for x in list(range(30))})"
   ]
  },
  {
   "cell_type": "markdown",
   "metadata": {},
   "source": [
    "#### Tuples"
   ]
  },
  {
   "cell_type": "markdown",
   "metadata": {},
   "source": [
    "A tuple is an (immutable) ordered list of values. A tuple is in many ways similar to a list; one of the most important differences is that tuples can be used as keys in dictionaries and as elements of sets, while lists cannot. Here is a trivial example:"
   ]
  },
  {
   "cell_type": "code",
   "execution_count": 169,
   "metadata": {
    "ExecuteTime": {
     "end_time": "2019-02-02T10:35:09.949268Z",
     "start_time": "2019-02-02T10:35:09.942775Z"
    }
   },
   "outputs": [
    {
     "name": "stdout",
     "output_type": "stream",
     "text": [
      "<class 'tuple'>\n",
      "5\n",
      "1\n"
     ]
    }
   ],
   "source": [
    "d = {(x, x + 1): x for x in list(range(10))}  # Create a dictionary with tuple keys\n",
    "t = (5, 6)       # Create a tuple\n",
    "print(type(t))\n",
    "print(d[t])       \n",
    "print(d[(1, 2)])"
   ]
  },
  {
   "cell_type": "code",
   "execution_count": 177,
   "metadata": {
    "ExecuteTime": {
     "end_time": "2019-02-02T10:36:37.154085Z",
     "start_time": "2019-02-02T10:36:37.144169Z"
    }
   },
   "outputs": [
    {
     "ename": "TypeError",
     "evalue": "'tuple' object does not support item assignment",
     "output_type": "error",
     "traceback": [
      "\u001b[0;31m---------------------------------------------------------------------------\u001b[0m",
      "\u001b[0;31mTypeError\u001b[0m                                 Traceback (most recent call last)",
      "\u001b[0;32m<ipython-input-177-d123b68b0527>\u001b[0m in \u001b[0;36m<module>\u001b[0;34m()\u001b[0m\n\u001b[0;32m----> 1\u001b[0;31m \u001b[0mt\u001b[0m\u001b[0;34m[\u001b[0m\u001b[0;36m0\u001b[0m\u001b[0;34m]\u001b[0m \u001b[0;34m=\u001b[0m \u001b[0;36m1\u001b[0m \u001b[0;31m# Error because they are immutabLe\u001b[0m\u001b[0;34m\u001b[0m\u001b[0m\n\u001b[0m",
      "\u001b[0;31mTypeError\u001b[0m: 'tuple' object does not support item assignment"
     ]
    }
   ],
   "source": [
    "t[0] = 1 # Error because they are immutabLe"
   ]
  },
  {
   "cell_type": "markdown",
   "metadata": {
    "ExecuteTime": {
     "end_time": "2019-02-02T05:11:57.241955Z",
     "start_time": "2019-02-02T05:11:57.239532Z"
    }
   },
   "source": [
    "#### ZIP"
   ]
  },
  {
   "cell_type": "code",
   "execution_count": 4,
   "metadata": {
    "ExecuteTime": {
     "end_time": "2019-02-02T09:37:51.217868Z",
     "start_time": "2019-02-02T09:37:51.212708Z"
    }
   },
   "outputs": [
    {
     "name": "stdout",
     "output_type": "stream",
     "text": [
      "[(1, 'one'), (2, 'two'), (3, 'three')]\n"
     ]
    }
   ],
   "source": [
    "numbers = [1, 2, 3]\n",
    "words = ['one', 'two', 'three']\n",
    "\n",
    "# Two iterables are passed\n",
    "result = zip(numbers, words)\n",
    "\n",
    "# Converting itertor to set\n",
    "resultList = list(result)\n",
    "\n",
    "print(resultList)"
   ]
  },
  {
   "cell_type": "code",
   "execution_count": 5,
   "metadata": {
    "ExecuteTime": {
     "end_time": "2019-02-02T09:37:52.453192Z",
     "start_time": "2019-02-02T09:37:52.448528Z"
    }
   },
   "outputs": [
    {
     "name": "stdout",
     "output_type": "stream",
     "text": [
      "{(1, 'one'), (2, 'two')}\n",
      "{(1, 'one', 'ONE'), (2, 'two', 'TWO')}\n"
     ]
    }
   ],
   "source": [
    "numbers = [1, 2, 3]\n",
    "lower_words = ['one', 'two']\n",
    "upper_words = ('ONE', 'TWO', 'THREE', 'FOUR')\n",
    "\n",
    "result = zip(numbers, lower_words)\n",
    "\n",
    "# Converting to set\n",
    "resultSet = set(result)\n",
    "print(resultSet)\n",
    "\n",
    "result = zip(numbers, lower_words, upper_words)\n",
    "\n",
    "# Converting to set\n",
    "resultSet = set(result)\n",
    "print(resultSet)"
   ]
  },
  {
   "cell_type": "markdown",
   "metadata": {
    "ExecuteTime": {
     "end_time": "2019-02-02T05:12:25.785650Z",
     "start_time": "2019-02-02T05:12:25.783770Z"
    }
   },
   "source": [
    "#### UNZIP"
   ]
  },
  {
   "cell_type": "code",
   "execution_count": 6,
   "metadata": {
    "ExecuteTime": {
     "end_time": "2019-02-02T09:37:59.219231Z",
     "start_time": "2019-02-02T09:37:59.213808Z"
    }
   },
   "outputs": [
    {
     "name": "stdout",
     "output_type": "stream",
     "text": [
      "[('x', 3), ('y', 4), ('z', 5)]\n",
      "c = ('x', 'y', 'z')\n",
      "v = (3, 4, 5)\n"
     ]
    }
   ],
   "source": [
    "coordinate = ['x', 'y', 'z']\n",
    "value = [3, 4, 5, 0, 9]\n",
    "\n",
    "result = zip(coordinate, value)\n",
    "resultList = list(result)\n",
    "print(resultList)\n",
    "\n",
    "c, v =  zip(*resultList)\n",
    "print('c =', c)\n",
    "print('v =', v)"
   ]
  },
  {
   "cell_type": "markdown",
   "metadata": {},
   "source": [
    "### Functions"
   ]
  },
  {
   "cell_type": "markdown",
   "metadata": {},
   "source": [
    "Python functions are defined using the `def` keyword. For example:"
   ]
  },
  {
   "cell_type": "code",
   "execution_count": 178,
   "metadata": {
    "ExecuteTime": {
     "end_time": "2019-02-02T10:36:58.796163Z",
     "start_time": "2019-02-02T10:36:58.792087Z"
    }
   },
   "outputs": [
    {
     "name": "stdout",
     "output_type": "stream",
     "text": [
      "negative\n",
      "zero\n",
      "positive\n"
     ]
    }
   ],
   "source": [
    "def sign(x):\n",
    "    if x > 0:\n",
    "        return 'positive'\n",
    "    elif x < 0:\n",
    "        return 'negative'\n",
    "    else:\n",
    "        return 'zero'\n",
    "\n",
    "for x in [-1, 0, 1]:\n",
    "    print(sign(x))"
   ]
  },
  {
   "cell_type": "markdown",
   "metadata": {},
   "source": [
    "We will often define functions to take optional keyword arguments, like this:"
   ]
  },
  {
   "cell_type": "code",
   "execution_count": 179,
   "metadata": {
    "ExecuteTime": {
     "end_time": "2019-02-02T10:37:01.404372Z",
     "start_time": "2019-02-02T10:37:01.400424Z"
    }
   },
   "outputs": [
    {
     "name": "stdout",
     "output_type": "stream",
     "text": [
      "Hello, Bob!\n",
      "HELLO, FRED\n"
     ]
    }
   ],
   "source": [
    "def hello(name, loud=False):\n",
    "    if loud:\n",
    "        print('HELLO, %s' % name.upper())\n",
    "    else:\n",
    "        print('Hello, %s!' % name)\n",
    "\n",
    "hello('Bob')\n",
    "hello('Fred', loud=True)"
   ]
  },
  {
   "cell_type": "code",
   "execution_count": 180,
   "metadata": {
    "ExecuteTime": {
     "end_time": "2019-02-02T10:37:02.530469Z",
     "start_time": "2019-02-02T10:37:02.524464Z"
    }
   },
   "outputs": [],
   "source": [
    "def myFun(*argv):  \n",
    "    for arg in argv:  \n",
    "        print(arg) \n"
   ]
  },
  {
   "cell_type": "code",
   "execution_count": 181,
   "metadata": {
    "ExecuteTime": {
     "end_time": "2019-02-02T10:37:03.518670Z",
     "start_time": "2019-02-02T10:37:03.515105Z"
    }
   },
   "outputs": [
    {
     "name": "stdout",
     "output_type": "stream",
     "text": [
      "Welcome\n",
      " to \n",
      "CS F\n",
      "312\n"
     ]
    }
   ],
   "source": [
    "w = \"Welcome\"\n",
    "myFun(w, ' to ', 'CS F' , 312)  "
   ]
  },
  {
   "cell_type": "code",
   "execution_count": 182,
   "metadata": {
    "ExecuteTime": {
     "end_time": "2019-02-02T10:37:04.426433Z",
     "start_time": "2019-02-02T10:37:04.422277Z"
    }
   },
   "outputs": [],
   "source": [
    "def myFun(*argv):  \n",
    "    for arg in argv:  \n",
    "        print(arg,end='')"
   ]
  },
  {
   "cell_type": "code",
   "execution_count": 6,
   "metadata": {
    "ExecuteTime": {
     "end_time": "2019-02-02T09:37:59.219231Z",
     "start_time": "2019-02-02T09:37:59.213808Z"
    }
   },
   "outputs": [
    {
     "name": "stdout",
     "output_type": "stream",
     "text": [
      "[('x', 3), ('y', 4), ('z', 5)]\n",
      "c = ('x', 'y', 'z')\n",
      "v = (3, 4, 5)\n"
     ]
    }
   ],
   "source": [
    "coordinate = ['x', 'y', 'z']\n",
    "value = [3, 4, 5, 0, 9]\n",
    "\n",
    "result = zip(coordinate, value)\n",
    "resultList = list(result)\n",
    "print(resultList)\n",
    "\n",
    "c, v =  zip(*resultList)\n",
    "print('c =', c)\n",
    "print('v =', v)"
   ]
  },
  {
   "cell_type": "markdown",
   "metadata": {},
   "source": [
    "### Our Fancy Random Number Generator"
   ]
  },
  {
   "cell_type": "code",
   "execution_count": 7,
   "metadata": {
    "ExecuteTime": {
     "end_time": "2019-02-02T09:38:01.313090Z",
     "start_time": "2019-02-02T09:38:01.308495Z"
    }
   },
   "outputs": [],
   "source": [
    "M = 17969491597941066732916128449573246156367561808012600070888918835531726460341490933493372247868650755230855864199929221814436684722874052065257937495694348389263171152522525654410980819170611742509702440718010364831638288518852689\n",
    "def blum_blum_shub():\n",
    "    global M\n",
    "    x = 987654321\n",
    "    while True:\n",
    "        x =  (x**2)%M\n",
    "        yield round(x/M,3)\n",
    "        \n",
    "random = blum_blum_shub()"
   ]
  },
  {
   "cell_type": "markdown",
   "metadata": {},
   "source": [
    "# Load Existing Python File"
   ]
  },
  {
   "cell_type": "code",
   "execution_count": null,
   "metadata": {
    "ExecuteTime": {
     "end_time": "2019-02-02T10:37:34.687067Z",
     "start_time": "2019-02-02T10:37:34.681403Z"
    }
   },
   "outputs": [],
   "source": [
    "%load a.py"
   ]
  },
  {
   "cell_type": "markdown",
   "metadata": {},
   "source": [
    "## Revisit Concepts using an Example"
   ]
  },
  {
   "cell_type": "code",
   "execution_count": 184,
   "metadata": {
    "ExecuteTime": {
     "end_time": "2019-02-02T10:38:17.058520Z",
     "start_time": "2019-02-02T10:38:17.031793Z"
    }
   },
   "outputs": [],
   "source": [
    "import names\n",
    "import csv\n",
    "import pickle \n",
    "import pandas as pd\n",
    "import matplotlib.pyplot as plt\n",
    "from functools import reduce\n",
    "%matplotlib inline\n",
    "\n",
    "def get_name():\n",
    "    return names.get_first_name()\n",
    "def range_random(l,u):\n",
    "    return round(l+(u-l)*next(random),3)"
   ]
  },
  {
   "cell_type": "markdown",
   "metadata": {},
   "source": [
    "## Definition of a Student"
   ]
  },
  {
   "cell_type": "code",
   "execution_count": 185,
   "metadata": {
    "ExecuteTime": {
     "end_time": "2019-02-02T10:38:18.434812Z",
     "start_time": "2019-02-02T10:38:18.431251Z"
    }
   },
   "outputs": [],
   "source": [
    "class Student():\n",
    "    name = None\n",
    "    age = None\n",
    "    gender = None\n",
    "    grade = None\n",
    "    def __init__(self, age, name, grade):\n",
    "        self.age = age\n",
    "        self.name = name\n",
    "        self.grade = grade"
   ]
  },
  {
   "cell_type": "markdown",
   "metadata": {},
   "source": [
    "## Definition of a EEE Student"
   ]
  },
  {
   "cell_type": "code",
   "execution_count": 186,
   "metadata": {
    "ExecuteTime": {
     "end_time": "2019-02-02T10:38:19.676834Z",
     "start_time": "2019-02-02T10:38:19.672847Z"
    }
   },
   "outputs": [],
   "source": [
    "class EEE_Student(Student):\n",
    "    \"\"\"\n",
    "    A EEE student: behaves exactly like a Student \n",
    "    but also has a special discipline class attribute and a couple courses\n",
    "    \"\"\"\n",
    "    discipline = \"A3\"\n",
    "    courses = [\"Control Systems, Optimisation\"]\n",
    "    def __init__(self, age, name):\n",
    "        super().__init__(age, name, range_random(5,9))"
   ]
  },
  {
   "cell_type": "markdown",
   "metadata": {},
   "source": [
    "## Definition of a CSE Student"
   ]
  },
  {
   "cell_type": "code",
   "execution_count": 187,
   "metadata": {
    "ExecuteTime": {
     "end_time": "2019-02-02T10:38:20.920738Z",
     "start_time": "2019-02-02T10:38:20.917037Z"
    }
   },
   "outputs": [],
   "source": [
    "class CSE_Student(Student):\n",
    "    \"\"\"\n",
    "    A CSE student: behaves exactly like a Student \n",
    "    but also has a special discipline class attribute and a couple courses\n",
    "    \"\"\"\n",
    "    discipline = \"A7\"\n",
    "    courses = [\"Data Structures, OOP\"]\n",
    "    def __init__(self, age, name):\n",
    "        super().__init__(age, name, range_random(6,10))"
   ]
  },
  {
   "cell_type": "markdown",
   "metadata": {},
   "source": [
    "__Generate List of Students__"
   ]
  },
  {
   "cell_type": "code",
   "execution_count": 188,
   "metadata": {
    "ExecuteTime": {
     "end_time": "2019-02-02T10:39:23.840230Z",
     "start_time": "2019-02-02T10:38:21.960103Z"
    }
   },
   "outputs": [],
   "source": [
    "cse_students = [CSE_Student(range_random(18,23), get_name()) for i in range(0,100000)]\n",
    "eee_students = [EEE_Student(range_random(18,23), get_name()) for i in range(0,100000)]"
   ]
  },
  {
   "cell_type": "code",
   "execution_count": 189,
   "metadata": {
    "ExecuteTime": {
     "end_time": "2019-02-02T10:39:24.810777Z",
     "start_time": "2019-02-02T10:39:24.799499Z"
    }
   },
   "outputs": [
    {
     "data": {
      "text/plain": [
       "100000"
      ]
     },
     "execution_count": 189,
     "metadata": {},
     "output_type": "execute_result"
    }
   ],
   "source": [
    "len(cse_students)"
   ]
  },
  {
   "cell_type": "code",
   "execution_count": 190,
   "metadata": {
    "ExecuteTime": {
     "end_time": "2019-02-02T10:39:25.833498Z",
     "start_time": "2019-02-02T10:39:25.825485Z"
    }
   },
   "outputs": [
    {
     "data": {
      "text/plain": [
       "100000"
      ]
     },
     "execution_count": 190,
     "metadata": {},
     "output_type": "execute_result"
    }
   ],
   "source": [
    "len(eee_students)"
   ]
  },
  {
   "cell_type": "markdown",
   "metadata": {},
   "source": [
    "__Concat List of Students__"
   ]
  },
  {
   "cell_type": "code",
   "execution_count": 191,
   "metadata": {
    "ExecuteTime": {
     "end_time": "2019-02-02T10:39:26.849594Z",
     "start_time": "2019-02-02T10:39:26.841235Z"
    }
   },
   "outputs": [],
   "source": [
    "all_students = cse_students+eee_students"
   ]
  },
  {
   "cell_type": "code",
   "execution_count": 192,
   "metadata": {
    "ExecuteTime": {
     "end_time": "2019-02-02T10:39:27.963331Z",
     "start_time": "2019-02-02T10:39:27.957174Z"
    }
   },
   "outputs": [
    {
     "data": {
      "text/plain": [
       "200000"
      ]
     },
     "execution_count": 192,
     "metadata": {},
     "output_type": "execute_result"
    }
   ],
   "source": [
    "len(all_students)"
   ]
  },
  {
   "cell_type": "markdown",
   "metadata": {
    "ExecuteTime": {
     "end_time": "2019-02-02T10:16:53.799439Z",
     "start_time": "2019-02-02T10:16:53.794662Z"
    }
   },
   "source": [
    "__Get Student Names with Count__"
   ]
  },
  {
   "cell_type": "code",
   "execution_count": 193,
   "metadata": {
    "ExecuteTime": {
     "end_time": "2019-02-02T10:39:28.978359Z",
     "start_time": "2019-02-02T10:39:28.860126Z"
    }
   },
   "outputs": [],
   "source": [
    "name_counts = {}\n",
    "def update_dict(name):\n",
    "    global name_counts\n",
    "    name_counts[name] = name_counts.get(name, 0)+1\n",
    "    \n",
    "compute_name_counts = list(map(lambda x: update_dict(x.name), all_students))"
   ]
  },
  {
   "cell_type": "code",
   "execution_count": 196,
   "metadata": {
    "ExecuteTime": {
     "end_time": "2019-02-02T10:39:31.624025Z",
     "start_time": "2019-02-02T10:39:31.598230Z"
    }
   },
   "outputs": [
    {
     "data": {
      "text/plain": [
       "{'John': 3646,\n",
       " 'Tillie': 9,\n",
       " 'Kenneth': 942,\n",
       " 'Gail': 184,\n",
       " 'Samuel': 343,\n",
       " 'Larry': 660,\n",
       " 'Yvonne': 120,\n",
       " 'Marilyn': 229,\n",
       " 'Jeffrey': 644,\n",
       " 'Leonor': 12,\n",
       " 'Mary': 2948,\n",
       " 'Trisha': 27,\n",
       " 'Charles': 1738,\n",
       " 'Cathy': 142,\n",
       " 'Blaine': 21,\n",
       " 'Alex': 128,\n",
       " 'Lawrence': 350,\n",
       " 'Vera': 109,\n",
       " 'Phil': 35,\n",
       " 'Corinne': 31,\n",
       " 'Judy': 320,\n",
       " 'Ruth': 638,\n",
       " 'Gloria': 365,\n",
       " 'Amelia': 62,\n",
       " 'Eddie': 140,\n",
       " 'Rosemary': 117,\n",
       " 'Stephanie': 433,\n",
       " 'Mercedes': 44,\n",
       " 'Richard': 1930,\n",
       " 'Lynda': 56,\n",
       " 'Matthew': 735,\n",
       " 'Barbara': 1121,\n",
       " 'Karrie': 5,\n",
       " 'Lois': 225,\n",
       " 'James': 3679,\n",
       " 'Irene': 264,\n",
       " 'Carol': 659,\n",
       " 'Nicholas': 306,\n",
       " 'Wayne': 291,\n",
       " 'Jeffery': 159,\n",
       " 'Robert': 3454,\n",
       " 'Bonnie': 241,\n",
       " 'Brian': 813,\n",
       " 'Tonya': 112,\n",
       " 'Ralph': 286,\n",
       " 'William': 2767,\n",
       " 'Frank': 672,\n",
       " 'Douglas': 401,\n",
       " 'Peter': 429,\n",
       " 'Timothy': 717,\n",
       " 'Aleida': 3,\n",
       " 'Valentine': 12,\n",
       " 'Chester': 79,\n",
       " 'Theodore': 144,\n",
       " 'Nathaniel': 121,\n",
       " 'Kimberly': 594,\n",
       " 'Tamiko': 3,\n",
       " 'Vicki': 116,\n",
       " 'Melvin': 170,\n",
       " 'Amanda': 448,\n",
       " 'Weldon': 14,\n",
       " 'Lorine': 7,\n",
       " 'Melissa': 501,\n",
       " 'Phyllis': 235,\n",
       " 'Anne': 281,\n",
       " 'Jeremiah': 44,\n",
       " 'Jason': 702,\n",
       " 'Joshua': 505,\n",
       " 'Mark': 1089,\n",
       " 'Eva': 177,\n",
       " 'Ira': 41,\n",
       " 'Joe': 346,\n",
       " 'Neva': 15,\n",
       " 'Scott': 621,\n",
       " 'Jeanette': 105,\n",
       " 'Arthur': 361,\n",
       " 'Gerald': 342,\n",
       " 'Paul': 1021,\n",
       " 'Susan': 878,\n",
       " 'Dan': 125,\n",
       " 'Rosina': 3,\n",
       " 'Norma': 253,\n",
       " 'Guadalupe': 107,\n",
       " 'Margret': 18,\n",
       " 'Kathleen': 464,\n",
       " 'Marcelina': 9,\n",
       " 'Hugh': 69,\n",
       " 'Myrtle': 94,\n",
       " 'Donald': 997,\n",
       " 'Jackie': 147,\n",
       " 'Felecia': 6,\n",
       " 'Stephen': 590,\n",
       " 'Laura': 584,\n",
       " 'Constance': 84,\n",
       " 'Maurice': 96,\n",
       " 'Patsy': 82,\n",
       " 'Elida': 3,\n",
       " 'Angela': 526,\n",
       " 'Karen': 726,\n",
       " 'Bernard': 140,\n",
       " 'Joseph': 1577,\n",
       " 'Anthony': 818,\n",
       " 'Keith': 336,\n",
       " 'Rebecca': 496,\n",
       " 'Thomas': 1474,\n",
       " 'Thad': 7,\n",
       " 'Christopher': 1145,\n",
       " 'Lenora': 29,\n",
       " 'Gertrude': 125,\n",
       " 'Della': 43,\n",
       " 'Antonio': 241,\n",
       " 'Jules': 5,\n",
       " 'Nancy': 720,\n",
       " 'Tonia': 17,\n",
       " 'Shirley': 578,\n",
       " 'Liliana': 14,\n",
       " 'Maxine': 82,\n",
       " 'Juan': 368,\n",
       " 'Luther': 46,\n",
       " 'Curtis': 197,\n",
       " 'Jose': 704,\n",
       " 'Amie': 16,\n",
       " 'Ashlee': 13,\n",
       " 'Heather': 333,\n",
       " 'Debra': 487,\n",
       " 'Felipe': 34,\n",
       " 'Ann': 384,\n",
       " 'Leon': 130,\n",
       " 'Pete': 29,\n",
       " 'Felipa': 6,\n",
       " 'Michelle': 582,\n",
       " 'Maria': 960,\n",
       " 'Daniel': 1082,\n",
       " 'Jerry': 510,\n",
       " 'Linda': 1156,\n",
       " 'Mike': 182,\n",
       " 'Elizabeth': 988,\n",
       " 'Katherine': 364,\n",
       " 'Kip': 6,\n",
       " 'Victor': 236,\n",
       " 'Dorothy': 855,\n",
       " 'Tasha': 51,\n",
       " 'Wesley': 117,\n",
       " 'Audrey': 133,\n",
       " 'Troy': 152,\n",
       " 'Michael': 2968,\n",
       " 'Ruben': 105,\n",
       " 'Rhonda': 171,\n",
       " 'Freda': 38,\n",
       " 'Gale': 19,\n",
       " 'David': 2639,\n",
       " 'Micheal': 125,\n",
       " 'Clifton': 63,\n",
       " 'Kyle': 165,\n",
       " 'Julius': 48,\n",
       " 'Luis': 206,\n",
       " 'Terrence': 59,\n",
       " 'Veronica': 158,\n",
       " 'Joleen': 5,\n",
       " 'Shari': 29,\n",
       " 'Jacqueline': 234,\n",
       " 'Neil': 57,\n",
       " 'Claudia': 85,\n",
       " 'Ginger': 36,\n",
       " 'Cody': 70,\n",
       " 'Diana': 259,\n",
       " 'Grover': 18,\n",
       " 'Howard': 246,\n",
       " 'Joann': 145,\n",
       " 'Walter': 418,\n",
       " 'Sara': 257,\n",
       " 'Bert': 23,\n",
       " 'Alicia': 161,\n",
       " 'Shenika': 4,\n",
       " 'Clarence': 199,\n",
       " 'Francis': 242,\n",
       " 'Irwin': 9,\n",
       " 'Oliver': 33,\n",
       " 'Lane': 13,\n",
       " 'Lisa': 794,\n",
       " 'Sheila': 202,\n",
       " 'Alejandra': 15,\n",
       " 'Russell': 260,\n",
       " 'Marietta': 13,\n",
       " 'Donovan': 12,\n",
       " 'Andrew': 626,\n",
       " 'Danny': 191,\n",
       " 'Bruce': 298,\n",
       " 'Carlos': 246,\n",
       " 'Vincent': 184,\n",
       " 'Kurt': 70,\n",
       " 'Jack': 347,\n",
       " 'Justin': 337,\n",
       " 'Jessica': 597,\n",
       " 'Leonard': 163,\n",
       " 'Albert': 355,\n",
       " 'Bonita': 30,\n",
       " 'Scotty': 9,\n",
       " 'Cecile': 19,\n",
       " 'Angelina': 44,\n",
       " 'Ray': 183,\n",
       " 'Brittani': 4,\n",
       " 'Jennifer': 1010,\n",
       " 'Edna': 209,\n",
       " 'Graciela': 32,\n",
       " 'Jeremy': 269,\n",
       " 'Erik': 73,\n",
       " 'Rosalind': 24,\n",
       " 'Janis': 40,\n",
       " 'Tom': 131,\n",
       " 'Christy': 96,\n",
       " 'Guillermina': 19,\n",
       " 'Adela': 20,\n",
       " 'Kory': 5,\n",
       " 'Taryn': 9,\n",
       " 'Eric': 617,\n",
       " 'Philip': 191,\n",
       " 'Chris': 236,\n",
       " 'Randall': 151,\n",
       " 'Carolyn': 407,\n",
       " 'Jayson': 11,\n",
       " 'Arlene': 112,\n",
       " 'Maureen': 87,\n",
       " 'Kevin': 709,\n",
       " 'Wynell': 2,\n",
       " 'Jean': 389,\n",
       " 'Tiffany': 216,\n",
       " 'Terry': 409,\n",
       " 'Pablo': 35,\n",
       " 'Billy': 267,\n",
       " 'Randy': 256,\n",
       " 'Elsie': 114,\n",
       " 'Evelyn': 354,\n",
       " 'Rochelle': 45,\n",
       " 'Diane': 403,\n",
       " 'Minh': 9,\n",
       " 'Felix': 56,\n",
       " 'Willie': 412,\n",
       " 'Jaime': 104,\n",
       " 'Marion': 196,\n",
       " 'Bobby': 244,\n",
       " 'Thelma': 198,\n",
       " 'Cynthia': 499,\n",
       " 'Celeste': 28,\n",
       " 'Steve': 286,\n",
       " 'Tracie': 26,\n",
       " 'Page': 4,\n",
       " 'Demetrius': 17,\n",
       " 'Rodney': 176,\n",
       " 'Marcie': 12,\n",
       " 'Bernice': 161,\n",
       " 'Beverly': 298,\n",
       " 'Myrle': 1,\n",
       " 'Toya': 10,\n",
       " 'Guy': 58,\n",
       " 'Stacey': 120,\n",
       " 'Silvia': 39,\n",
       " 'George': 1063,\n",
       " 'Vernetta': 4,\n",
       " 'Tina': 236,\n",
       " 'Hassan': 5,\n",
       " 'Winnie': 23,\n",
       " 'Roy': 279,\n",
       " 'Christian': 104,\n",
       " 'Marlon': 23,\n",
       " 'Grace': 232,\n",
       " 'Jody': 80,\n",
       " 'Odell': 13,\n",
       " 'Archie': 37,\n",
       " 'Tracy': 277,\n",
       " 'Christa': 32,\n",
       " 'Cecil': 95,\n",
       " 'Ofelia': 11,\n",
       " 'Shannon': 240,\n",
       " 'Ronald': 802,\n",
       " 'Melinda': 119,\n",
       " 'Tim': 116,\n",
       " 'Betty': 753,\n",
       " 'Angel': 142,\n",
       " 'Selma': 17,\n",
       " 'Miguel': 148,\n",
       " 'Marina': 25,\n",
       " 'Dawn': 243,\n",
       " 'Warren': 113,\n",
       " 'Laverne': 38,\n",
       " 'Ernest': 246,\n",
       " 'Yetta': 7,\n",
       " 'Pauline': 192,\n",
       " 'Deborah': 580,\n",
       " 'Annette': 125,\n",
       " 'Cleveland': 14,\n",
       " 'Alison': 55,\n",
       " 'Todd': 225,\n",
       " 'Louis': 265,\n",
       " 'Janet': 417,\n",
       " 'Marcus': 155,\n",
       " 'Kayla': 50,\n",
       " 'Natalie': 112,\n",
       " 'Ebony': 30,\n",
       " 'Josefa': 15,\n",
       " 'Homer': 50,\n",
       " 'Kristen': 125,\n",
       " 'Donna': 621,\n",
       " 'Jonathon': 36,\n",
       " 'Lester': 102,\n",
       " 'Kathy': 292,\n",
       " 'Mellisa': 8,\n",
       " 'Adeline': 21,\n",
       " 'Kristi': 66,\n",
       " 'Wanda': 197,\n",
       " 'Clara': 182,\n",
       " 'Kelli': 62,\n",
       " 'Helen': 756,\n",
       " 'Catherine': 446,\n",
       " 'Verna': 42,\n",
       " 'Karin': 34,\n",
       " 'Nathan': 223,\n",
       " 'Quinton': 15,\n",
       " 'Joanne': 165,\n",
       " 'Suzanne': 167,\n",
       " 'Flora': 60,\n",
       " 'Roderick': 40,\n",
       " 'Pearl': 105,\n",
       " 'Doris': 397,\n",
       " 'Margaret': 869,\n",
       " 'Felicia': 78,\n",
       " 'Everett': 52,\n",
       " 'Bill': 118,\n",
       " 'Julie': 356,\n",
       " 'Tammy': 284,\n",
       " 'Omar': 43,\n",
       " 'Rose': 348,\n",
       " 'Tonda': 3,\n",
       " 'Phillip': 233,\n",
       " 'Lela': 22,\n",
       " 'Windy': 7,\n",
       " 'Vernon': 108,\n",
       " 'Jeanelle': 4,\n",
       " 'Teresa': 401,\n",
       " 'Crystal': 198,\n",
       " 'Paula': 256,\n",
       " 'Melanie': 127,\n",
       " 'Jane': 278,\n",
       " 'Christina': 328,\n",
       " 'Mandy': 23,\n",
       " 'Derrick': 91,\n",
       " 'Floyd': 108,\n",
       " 'Dena': 23,\n",
       " 'Marc': 113,\n",
       " 'Theresa': 286,\n",
       " 'Pamela': 489,\n",
       " 'Samantha': 155,\n",
       " 'Liane': 6,\n",
       " 'Hazel': 191,\n",
       " 'Desmond': 20,\n",
       " 'Kelly': 379,\n",
       " 'Norman': 212,\n",
       " 'Dina': 27,\n",
       " 'Annie': 263,\n",
       " 'Nelda': 13,\n",
       " 'Ronnie': 126,\n",
       " 'Seymour': 9,\n",
       " 'Eugene': 244,\n",
       " 'Helena': 23,\n",
       " 'Terrell': 25,\n",
       " 'Margie': 66,\n",
       " 'Holly': 142,\n",
       " 'Harold': 413,\n",
       " 'Lena': 79,\n",
       " 'Calvin': 118,\n",
       " 'Naomi': 63,\n",
       " 'Jerrod': 6,\n",
       " 'Gilbert': 98,\n",
       " 'Isabel': 65,\n",
       " 'Dennis': 486,\n",
       " 'Joan': 367,\n",
       " 'Leslie': 272,\n",
       " 'Shara': 9,\n",
       " 'Nicola': 4,\n",
       " 'Carla': 121,\n",
       " 'Rachel': 257,\n",
       " 'Raymond': 529,\n",
       " 'Earl': 233,\n",
       " 'Allen': 188,\n",
       " 'Vivian': 121,\n",
       " 'Harry': 248,\n",
       " 'Salvador': 47,\n",
       " 'Fernando': 70,\n",
       " 'Judith': 298,\n",
       " 'Meredith': 47,\n",
       " 'Travis': 190,\n",
       " 'Van': 17,\n",
       " 'Beatrice': 138,\n",
       " 'Chad': 168,\n",
       " 'Roxanne': 36,\n",
       " 'Lee': 232,\n",
       " 'Jimmy': 228,\n",
       " 'Pierre': 19,\n",
       " 'Dustin': 108,\n",
       " 'Laquita': 4,\n",
       " 'Gena': 8,\n",
       " 'Wilson': 27,\n",
       " 'Julian': 57,\n",
       " 'Joyce': 396,\n",
       " 'Stella': 91,\n",
       " 'Dorcas': 6,\n",
       " 'Marva': 10,\n",
       " 'Hyman': 3,\n",
       " 'Peggy': 248,\n",
       " 'Carl': 401,\n",
       " 'Andrea': 235,\n",
       " 'Jesse': 228,\n",
       " 'Amy': 584,\n",
       " 'Marcia': 93,\n",
       " 'Freddie': 58,\n",
       " 'Marni': 5,\n",
       " 'Gary': 721,\n",
       " 'Mabel': 85,\n",
       " 'Abby': 29,\n",
       " 'Allan': 64,\n",
       " 'Shawn': 259,\n",
       " 'Cindy': 204,\n",
       " 'Elvin': 14,\n",
       " 'Glenn': 178,\n",
       " 'Andre': 88,\n",
       " 'Nidia': 3,\n",
       " 'Latoya': 58,\n",
       " 'Anita': 172,\n",
       " 'Dorthy': 19,\n",
       " 'Mireille': 1,\n",
       " 'Malcom': 4,\n",
       " 'Estella': 24,\n",
       " 'Rudolph': 35,\n",
       " 'Rachael': 49,\n",
       " 'Jimmie': 83,\n",
       " 'Roger': 391,\n",
       " 'Jon': 121,\n",
       " 'Johnathan': 47,\n",
       " 'Richelle': 4,\n",
       " 'Elena': 46,\n",
       " 'Patricia': 1186,\n",
       " 'Henry': 389,\n",
       " 'Dollie': 8,\n",
       " 'Steven': 868,\n",
       " 'Bryan': 215,\n",
       " 'Ken': 60,\n",
       " 'Letha': 20,\n",
       " 'Rogelio': 29,\n",
       " 'Johnny': 250,\n",
       " 'Virginia': 453,\n",
       " 'Zachary': 96,\n",
       " 'Kenny': 53,\n",
       " 'Olive': 42,\n",
       " 'Lucrecia': 5,\n",
       " 'Alvin': 124,\n",
       " 'Dona': 15,\n",
       " 'Bertha': 156,\n",
       " 'Vickie': 103,\n",
       " 'Robin': 288,\n",
       " 'Reggie': 13,\n",
       " 'Sandra': 692,\n",
       " 'Sarah': 579,\n",
       " 'Charlotte': 192,\n",
       " 'Jeff': 187,\n",
       " 'Shane': 104,\n",
       " 'Dianna': 49,\n",
       " 'Jacquelyn': 46,\n",
       " 'Tosha': 9,\n",
       " 'France': 3,\n",
       " 'Sylvia': 206,\n",
       " 'Edith': 210,\n",
       " 'Carmela': 17,\n",
       " 'Julia': 267,\n",
       " 'Alfredo': 60,\n",
       " 'Minnie': 99,\n",
       " 'Erasmo': 5,\n",
       " 'Tommy': 141,\n",
       " 'Adele': 31,\n",
       " 'Malcolm': 40,\n",
       " 'Penny': 74,\n",
       " 'Ericka': 15,\n",
       " 'Katrina': 64,\n",
       " 'Malisa': 5,\n",
       " 'Gabriel': 78,\n",
       " 'Amber': 191,\n",
       " 'Ethel': 215,\n",
       " 'Zandra': 2,\n",
       " 'Stacy': 168,\n",
       " 'Genevieve': 61,\n",
       " 'Cassandra': 97,\n",
       " 'Quyen': 1,\n",
       " 'Ena': 4,\n",
       " 'Kari': 40,\n",
       " 'Meghan': 42,\n",
       " 'Lyle': 56,\n",
       " 'Elmer': 92,\n",
       " 'Deidra': 12,\n",
       " 'Lana': 42,\n",
       " 'Gustavo': 32,\n",
       " 'May': 37,\n",
       " 'Tanya': 102,\n",
       " 'Lue': 4,\n",
       " 'Esther': 171,\n",
       " 'Simone': 16,\n",
       " 'Tony': 211,\n",
       " 'Bette': 18,\n",
       " 'Edward': 854,\n",
       " 'Lona': 9,\n",
       " 'Lakiesha': 2,\n",
       " 'Lenore': 19,\n",
       " 'Rosalie': 45,\n",
       " 'Jc': 5,\n",
       " 'Luisa': 14,\n",
       " 'Aimee': 34,\n",
       " 'Kermit': 23,\n",
       " 'Maynard': 14,\n",
       " 'Sonia': 64,\n",
       " 'Dee': 26,\n",
       " 'Jodi': 54,\n",
       " 'Carisa': 2,\n",
       " 'Fay': 14,\n",
       " 'Winston': 23,\n",
       " 'Connie': 238,\n",
       " 'Alice': 429,\n",
       " 'Soledad': 12,\n",
       " 'Brent': 110,\n",
       " 'Toni': 73,\n",
       " 'Agnes': 114,\n",
       " 'Dale': 214,\n",
       " 'Regina': 140,\n",
       " 'Jenice': 3,\n",
       " 'Cassie': 34,\n",
       " 'Josefina': 32,\n",
       " 'Misty': 68,\n",
       " 'Ian': 68,\n",
       " 'Ida': 113,\n",
       " 'Ricky': 158,\n",
       " 'Rita': 225,\n",
       " 'Marita': 6,\n",
       " 'Gordon': 100,\n",
       " 'Carrol': 8,\n",
       " 'Candy': 20,\n",
       " 'Christene': 4,\n",
       " 'Elsa': 35,\n",
       " 'Erin': 153,\n",
       " 'Cameron': 40,\n",
       " 'Jerome': 118,\n",
       " 'Keven': 8,\n",
       " 'Ursula': 18,\n",
       " 'Tyron': 10,\n",
       " 'Kim': 243,\n",
       " 'Barb': 9,\n",
       " 'Lloyd': 110,\n",
       " 'Hattie': 60,\n",
       " 'Jamie': 234,\n",
       " 'Dwight': 59,\n",
       " 'Marian': 98,\n",
       " 'Hong': 8,\n",
       " 'Abe': 6,\n",
       " 'Rhoda': 20,\n",
       " 'Tyrell': 9,\n",
       " 'Horace': 42,\n",
       " 'Shelba': 3,\n",
       " 'Ashley': 311,\n",
       " 'Ernie': 16,\n",
       " 'Sharon': 587,\n",
       " 'Willa': 17,\n",
       " 'Caleb': 25,\n",
       " 'Sidney': 55,\n",
       " 'Olivia': 54,\n",
       " 'Ester': 13,\n",
       " 'Odessa': 16,\n",
       " 'Gladys': 240,\n",
       " 'Ella': 114,\n",
       " 'Sterling': 20,\n",
       " 'Sherry': 193,\n",
       " 'Lilly': 14,\n",
       " 'Adrienne': 33,\n",
       " 'Colleen': 107,\n",
       " 'Anna': 497,\n",
       " 'Freida': 16,\n",
       " 'Carolyne': 8,\n",
       " 'Lenita': 1,\n",
       " 'Viola': 105,\n",
       " 'Sharleen': 2,\n",
       " 'Graham': 15,\n",
       " 'Aida': 25,\n",
       " 'Jim': 132,\n",
       " 'Lenna': 3,\n",
       " 'Deanna': 101,\n",
       " 'Darrell': 113,\n",
       " 'Barry': 141,\n",
       " 'Logan': 26,\n",
       " 'Mario': 152,\n",
       " 'Frances': 434,\n",
       " 'Adrian': 86,\n",
       " 'Deon': 3,\n",
       " 'Georgette': 12,\n",
       " 'Shanna': 26,\n",
       " 'Lashawn': 6,\n",
       " 'Jenna': 34,\n",
       " 'Blake': 44,\n",
       " 'Pam': 63,\n",
       " 'Nichole': 52,\n",
       " 'Estela': 18,\n",
       " 'Cammie': 2,\n",
       " 'Josette': 9,\n",
       " 'Tara': 139,\n",
       " 'Marjorie': 210,\n",
       " 'Adam': 314,\n",
       " 'Michele': 161,\n",
       " 'Betsy': 40,\n",
       " 'Bobbie': 91,\n",
       " 'Byron': 62,\n",
       " 'Florida': 7,\n",
       " 'Joel': 189,\n",
       " 'Wynona': 2,\n",
       " 'Darryl': 82,\n",
       " 'Gus': 14,\n",
       " 'Alfred': 182,\n",
       " 'Alexander': 148,\n",
       " 'Chase': 14,\n",
       " 'Nelida': 4,\n",
       " 'Martin': 247,\n",
       " 'Debbie': 168,\n",
       " 'Randolph': 42,\n",
       " 'Adriana': 37,\n",
       " 'Hipolito': 6,\n",
       " 'Clement': 10,\n",
       " 'Derek': 121,\n",
       " 'Lakenya': 3,\n",
       " 'Jonathan': 335,\n",
       " 'Jerri': 15,\n",
       " 'Reginald': 83,\n",
       " 'Martha': 466,\n",
       " 'Shemika': 1,\n",
       " 'Cory': 77,\n",
       " 'Ana': 142,\n",
       " 'Emma': 164,\n",
       " 'Noel': 38,\n",
       " 'Erika': 68,\n",
       " 'Jenifer': 24,\n",
       " 'Wallace': 65,\n",
       " 'Ilene': 8,\n",
       " 'Ellen': 189,\n",
       " 'Herman': 111,\n",
       " 'Latricia': 7,\n",
       " 'Benjamin': 322,\n",
       " 'Gregory': 487,\n",
       " 'Tessie': 5,\n",
       " 'Conrad': 29,\n",
       " 'Brenda': 498,\n",
       " 'Rory': 20,\n",
       " 'Mindy': 33,\n",
       " 'Dewayne': 17,\n",
       " 'April': 163,\n",
       " 'Edgar': 94,\n",
       " 'Myra': 41,\n",
       " 'Vicky': 38,\n",
       " 'Gracia': 1,\n",
       " 'Kristy': 40,\n",
       " 'Rick': 98,\n",
       " 'Lucille': 168,\n",
       " 'Aurelio': 8,\n",
       " 'Dominic': 36,\n",
       " 'Lori': 262,\n",
       " 'Christine': 435,\n",
       " 'Arron': 6,\n",
       " 'Gaynelle': 3,\n",
       " 'Shondra': 4,\n",
       " 'Nicole': 315,\n",
       " 'Rea': 2,\n",
       " 'Miriam': 71,\n",
       " 'Mildred': 346,\n",
       " 'Wendy': 225,\n",
       " 'Rosa': 206,\n",
       " 'Marianne': 51,\n",
       " 'Bradford': 24,\n",
       " 'Mariam': 7,\n",
       " 'Jared': 79,\n",
       " 'Alan': 217,\n",
       " 'Palma': 5,\n",
       " 'Art': 5,\n",
       " 'Austin': 51,\n",
       " 'Jesus': 165,\n",
       " 'Ling': 3,\n",
       " 'Dillon': 7,\n",
       " 'Nannette': 8,\n",
       " 'Duane': 66,\n",
       " 'Leonardo': 15,\n",
       " 'Faye': 55,\n",
       " 'Craig': 237,\n",
       " 'Shelia': 39,\n",
       " 'Essie': 27,\n",
       " 'Brittany': 136,\n",
       " 'Jackeline': 2,\n",
       " 'Emmett': 20,\n",
       " 'Ramon': 94,\n",
       " 'Les': 8,\n",
       " 'Preston': 46,\n",
       " 'Gidget': 6,\n",
       " 'Dolores': 138,\n",
       " 'Iris': 55,\n",
       " 'Johanna': 41,\n",
       " 'Antoine': 22,\n",
       " 'Lindsay': 56,\n",
       " 'Carlton': 45,\n",
       " 'Elma': 12,\n",
       " 'Seth': 54,\n",
       " 'Margarita': 69,\n",
       " 'Lorie': 14,\n",
       " 'Maricela': 10,\n",
       " 'Garfield': 6,\n",
       " 'Sean': 217,\n",
       " 'Stanton': 2,\n",
       " 'Claire': 57,\n",
       " 'Edwin': 155,\n",
       " 'Cheryl': 337,\n",
       " 'Geraldine': 161,\n",
       " 'Noah': 26,\n",
       " 'Clint': 23,\n",
       " 'Jacob': 192,\n",
       " 'Julianne': 11,\n",
       " 'Ahmed': 3,\n",
       " 'Alma': 123,\n",
       " 'Raul': 68,\n",
       " 'Clyde': 106,\n",
       " 'Oscar': 128,\n",
       " 'Maryjo': 2,\n",
       " 'Agustina': 3,\n",
       " 'Bradley': 180,\n",
       " 'Ed': 34,\n",
       " 'Carlene': 8,\n",
       " 'Damian': 16,\n",
       " 'Wilma': 113,\n",
       " 'Renee': 153,\n",
       " 'Bobbi': 15,\n",
       " 'Ruby': 253,\n",
       " 'Roslyn': 10,\n",
       " 'Dwayne': 77,\n",
       " 'Louise': 265,\n",
       " 'Erica': 164,\n",
       " 'Charlene': 102,\n",
       " 'Kenya': 15,\n",
       " 'Meaghan': 4,\n",
       " 'Aaron': 261,\n",
       " 'Maude': 33,\n",
       " 'Marry': 4,\n",
       " 'Ada': 59,\n",
       " 'Belen': 5,\n",
       " 'Noe': 9,\n",
       " 'Oralia': 8,\n",
       " 'Darin': 21,\n",
       " 'Leo': 128,\n",
       " 'Ty': 11,\n",
       " 'Sabrina': 54,\n",
       " 'Franklin': 96,\n",
       " 'Lauren': 167,\n",
       " 'Dottie': 10,\n",
       " 'Katheryn': 16,\n",
       " 'Mattie': 100,\n",
       " 'Florance': 2,\n",
       " 'Sue': 120,\n",
       " 'Stacie': 23,\n",
       " 'Eileen': 122,\n",
       " 'Arline': 12,\n",
       " 'Loren': 38,\n",
       " 'Jill': 163,\n",
       " 'Gabriela': 18,\n",
       " 'Nadine': 37,\n",
       " 'Roosevelt': 22,\n",
       " 'Sam': 104,\n",
       " 'Guillermo': 34,\n",
       " 'Clifford': 132,\n",
       " 'Natasha': 71,\n",
       " 'Gavin': 13,\n",
       " 'Mae': 59,\n",
       " 'Kent': 48,\n",
       " 'Ava': 13,\n",
       " 'Blanche': 55,\n",
       " 'Jeanne': 115,\n",
       " 'Barney': 10,\n",
       " 'Maritza': 13,\n",
       " 'Rae': 23,\n",
       " 'Jacquline': 4,\n",
       " 'Rusty': 19,\n",
       " 'Angelita': 10,\n",
       " 'Lola': 35,\n",
       " 'Lillie': 93,\n",
       " 'Brigitte': 6,\n",
       " 'Brad': 98,\n",
       " 'Alana': 13,\n",
       " 'Nikole': 2,\n",
       " 'Rosalba': 1,\n",
       " 'Ryan': 358,\n",
       " 'Clarice': 23,\n",
       " 'Charlie': 91,\n",
       " 'Retta': 5,\n",
       " 'Pedro': 116,\n",
       " 'Megan': 141,\n",
       " 'Eunice': 62,\n",
       " 'Ricardo': 109,\n",
       " 'Lauran': 2,\n",
       " 'Michel': 11,\n",
       " 'Margo': 15,\n",
       " 'Jorge': 90,\n",
       " 'Rex': 41,\n",
       " 'Latina': 4,\n",
       " 'Cruz': 23,\n",
       " 'Mitchell': 78,\n",
       " 'Cora': 63,\n",
       " 'Lourdes': 27,\n",
       " 'Gina': 127,\n",
       " 'Delfina': 8,\n",
       " 'Ferdinand': 8,\n",
       " 'Coretta': 3,\n",
       " 'Enola': 5,\n",
       " 'Jolene': 22,\n",
       " 'Abel': 25,\n",
       " 'Monica': 159,\n",
       " 'Courtney': 117,\n",
       " 'Efren': 8,\n",
       " 'Patrick': 413,\n",
       " 'Reynaldo': 21,\n",
       " 'Max': 62,\n",
       " 'Armando': 72,\n",
       " 'Buster': 7,\n",
       " 'Laurie': 121,\n",
       " 'June': 139,\n",
       " 'Alda': 6,\n",
       " 'Wendell': 50,\n",
       " 'Benny': 36,\n",
       " 'Bianca': 14,\n",
       " 'Jannet': 4,\n",
       " 'Lorraine': 152,\n",
       " 'Jan': 73,\n",
       " 'Kay': 73,\n",
       " 'Filiberto': 5,\n",
       " 'Delores': 108,\n",
       " 'Kristin': 94,\n",
       " 'Ronda': 27,\n",
       " 'Frankie': 48,\n",
       " 'Arnold': 81,\n",
       " 'Karyn': 7,\n",
       " 'Tami': 37,\n",
       " 'Corinna': 8,\n",
       " 'Janice': 314,\n",
       " 'Carmen': 235,\n",
       " 'Trina': 34,\n",
       " 'Danielle': 175,\n",
       " 'Shana': 29,\n",
       " 'Ellsworth': 3,\n",
       " 'Terrie': 13,\n",
       " 'Marvin': 194,\n",
       " 'Heidi': 89,\n",
       " 'Dave': 58,\n",
       " 'Salvatore': 31,\n",
       " 'Johnie': 9,\n",
       " 'Rosalia': 15,\n",
       " 'Wally': 3,\n",
       " 'Alfonso': 29,\n",
       " 'Naida': 3,\n",
       " 'Emily': 240,\n",
       " 'Jeannie': 37,\n",
       " 'Fredrick': 50,\n",
       " 'Roberta': 144,\n",
       " 'Jaclyn': 21,\n",
       " 'Lydia': 97,\n",
       " 'Madge': 16,\n",
       " 'Carmelo': 12,\n",
       " 'Stan': 17,\n",
       " 'Kendall': 24,\n",
       " 'Luz': 49,\n",
       " 'Frederick': 160,\n",
       " 'Brandon': 279,\n",
       " 'Stanley': 223,\n",
       " 'Nellie': 91,\n",
       " 'Orville': 31,\n",
       " 'Lucy': 112,\n",
       " 'Lonnie': 68,\n",
       " 'Sheri': 48,\n",
       " 'Cathleen': 20,\n",
       " 'Geneva': 64,\n",
       " 'Corrine': 17,\n",
       " 'Yevette': 1,\n",
       " 'Harvey': 79,\n",
       " 'Wilfredo': 20,\n",
       " 'Gwendolyn': 68,\n",
       " 'Bob': 69,\n",
       " 'Luke': 44,\n",
       " 'Corine': 15,\n",
       " 'Alphonse': 7,\n",
       " 'Nydia': 4,\n",
       " 'Nelson': 70,\n",
       " 'Virgil': 55,\n",
       " 'Kirk': 60,\n",
       " 'Francisco': 132,\n",
       " 'Jayne': 21,\n",
       " 'Son': 12,\n",
       " 'Everette': 8,\n",
       " 'Opal': 61,\n",
       " 'Sherilyn': 4,\n",
       " 'Jana': 29,\n",
       " 'Hubert': 36,\n",
       " 'Quincy': 13,\n",
       " 'Maurine': 13,\n",
       " 'Spencer': 41,\n",
       " 'Josephine': 191,\n",
       " 'Mi': 5,\n",
       " 'Francesca': 7,\n",
       " 'Jocelyn': 25,\n",
       " 'Donita': 7,\n",
       " 'Johnnie': 100,\n",
       " 'Rigoberto': 15,\n",
       " 'Joy': 95,\n",
       " 'Leroy': 128,\n",
       " 'Bong': 2,\n",
       " 'Deana': 24,\n",
       " 'Jo': 83,\n",
       " 'Rosalyn': 17,\n",
       " 'Monty': 11,\n",
       " 'Rashad': 7,\n",
       " 'Marie': 389,\n",
       " 'Janey': 1,\n",
       " 'Marlene': 98,\n",
       " 'Marcella': 49,\n",
       " 'Cecilia': 73,\n",
       " 'Robyn': 51,\n",
       " 'Derick': 9,\n",
       " 'Hilma': 6,\n",
       " 'Odis': 6,\n",
       " 'Winona': 7,\n",
       " 'Rachell': 4,\n",
       " 'Nora': 98,\n",
       " 'Mallory': 11,\n",
       " 'Casey': 112,\n",
       " 'Simon': 35,\n",
       " 'Roland': 71,\n",
       " 'Karon': 12,\n",
       " 'Selina': 14,\n",
       " 'Leanna': 10,\n",
       " 'Simona': 4,\n",
       " 'Thurman': 12,\n",
       " 'Lavonne': 8,\n",
       " 'Angelica': 52,\n",
       " 'Jillian': 30,\n",
       " 'Alexandra': 52,\n",
       " 'Billie': 96,\n",
       " 'Janie': 80,\n",
       " 'Kristopher': 25,\n",
       " 'Wilhelmina': 10,\n",
       " 'Jarvis': 20,\n",
       " 'Lillian': 222,\n",
       " 'Arden': 7,\n",
       " 'Jamar': 6,\n",
       " 'Dana': 155,\n",
       " 'Jerald': 15,\n",
       " 'Elaine': 152,\n",
       " 'Tania': 25,\n",
       " 'Catalina': 14,\n",
       " 'Roscoe': 14,\n",
       " 'Isaac': 51,\n",
       " 'Valerie': 168,\n",
       " 'Hollis': 8,\n",
       " 'Neal': 39,\n",
       " 'Emilie': 10,\n",
       " 'Burl': 6,\n",
       " 'Genaro': 8,\n",
       " 'Florene': 5,\n",
       " 'Sammie': 21,\n",
       " 'Jenniffer': 4,\n",
       " 'Dean': 127,\n",
       " 'Mathew': 63,\n",
       " 'Marco': 42,\n",
       " 'Sonja': 44,\n",
       " 'Susie': 60,\n",
       " 'Perry': 61,\n",
       " 'Lindsey': 70,\n",
       " 'Hollie': 10,\n",
       " 'Louie': 30,\n",
       " 'Wilfred': 31,\n",
       " 'Cary': 30,\n",
       " 'Loretta': 118,\n",
       " 'Pasquale': 13,\n",
       " 'Jeramy': 8,\n",
       " 'Lara': 15,\n",
       " 'Gregorio': 12,\n",
       " 'Cecelia': 35,\n",
       " 'Glendora': 3,\n",
       " 'Santa': 7,\n",
       " 'Clayton': 71,\n",
       " 'Glen': 109,\n",
       " 'Madonna': 6,\n",
       " 'Ashely': 6,\n",
       " 'Yvette': 61,\n",
       " 'Marty': 39,\n",
       " 'Herbert': 161,\n",
       " 'Alyce': 15,\n",
       " 'Abdul': 10,\n",
       " 'Tamara': 117,\n",
       " ...}"
      ]
     },
     "execution_count": 196,
     "metadata": {},
     "output_type": "execute_result"
    }
   ],
   "source": [
    "name_counts"
   ]
  },
  {
   "cell_type": "code",
   "execution_count": 195,
   "metadata": {
    "ExecuteTime": {
     "end_time": "2019-02-02T10:39:30.743002Z",
     "start_time": "2019-02-02T10:39:30.739992Z"
    }
   },
   "outputs": [],
   "source": [
    "## The following line will take a long time to compute, can you guess why?\n",
    "# name_repeats = reduce(lambda new_dict,x: dict(list(new_dict.items())+[(x.name,new_dict.get(x.name,0)+1)]), all_students, {} )"
   ]
  },
  {
   "cell_type": "markdown",
   "metadata": {},
   "source": [
    "## Get List of Students Containing Unique Names"
   ]
  },
  {
   "cell_type": "markdown",
   "metadata": {},
   "source": [
    "__A Purely Imperative Approach__"
   ]
  },
  {
   "cell_type": "code",
   "execution_count": 197,
   "metadata": {
    "ExecuteTime": {
     "end_time": "2019-02-02T10:39:32.620554Z",
     "start_time": "2019-02-02T10:39:32.572628Z"
    }
   },
   "outputs": [],
   "source": [
    "unique_names = set()\n",
    "students_with_unique_names = []\n",
    "for student in all_students:\n",
    "    if student.name in unique_names:\n",
    "        continue\n",
    "    students_with_unique_names.append(student)\n",
    "    unique_names.add(student.name)"
   ]
  },
  {
   "cell_type": "code",
   "execution_count": 198,
   "metadata": {
    "ExecuteTime": {
     "end_time": "2019-02-02T10:39:33.511545Z",
     "start_time": "2019-02-02T10:39:33.504734Z"
    }
   },
   "outputs": [
    {
     "data": {
      "text/plain": [
       "4643"
      ]
     },
     "execution_count": 198,
     "metadata": {},
     "output_type": "execute_result"
    }
   ],
   "source": [
    "len(students_with_unique_names)"
   ]
  },
  {
   "cell_type": "markdown",
   "metadata": {},
   "source": [
    "__Alternate Approch w/ Functional Operators__"
   ]
  },
  {
   "cell_type": "code",
   "execution_count": 199,
   "metadata": {
    "ExecuteTime": {
     "end_time": "2019-02-02T10:39:34.772073Z",
     "start_time": "2019-02-02T10:39:34.685182Z"
    }
   },
   "outputs": [],
   "source": [
    "''' map out the features/parameters which need to be evaluated upon '''\n",
    "student_and_names = dict(map(lambda x: (x.name, x), all_students))\n",
    "\n",
    "''' remap the set of names to a list of student objects '''\n",
    "uniquely_named_students = list(map(lambda x: student_and_names[x], student_and_names))"
   ]
  },
  {
   "cell_type": "code",
   "execution_count": 200,
   "metadata": {
    "ExecuteTime": {
     "end_time": "2019-02-02T10:39:35.750316Z",
     "start_time": "2019-02-02T10:39:35.744514Z"
    }
   },
   "outputs": [
    {
     "data": {
      "text/plain": [
       "4643"
      ]
     },
     "execution_count": 200,
     "metadata": {},
     "output_type": "execute_result"
    }
   ],
   "source": [
    "len(uniquely_named_students)"
   ]
  },
  {
   "cell_type": "markdown",
   "metadata": {},
   "source": [
    "## Get a Sorted List of Students with CG > 9.5"
   ]
  },
  {
   "cell_type": "markdown",
   "metadata": {},
   "source": [
    "__Approach 1: Filter followed by Sort__"
   ]
  },
  {
   "cell_type": "code",
   "execution_count": 119,
   "metadata": {
    "ExecuteTime": {
     "end_time": "2019-02-02T10:23:17.560617Z",
     "start_time": "2019-02-02T10:23:17.510542Z"
    }
   },
   "outputs": [],
   "source": [
    "meritorious_students = list(filter(lambda x: x.grade>9.5, all_students))\n",
    "sorted_meritorious_students1 = sorted(meritorious_students, key=lambda x:x.grade, reverse=True)"
   ]
  },
  {
   "cell_type": "markdown",
   "metadata": {},
   "source": [
    "__Approach 2: Sort followed by Filter__"
   ]
  },
  {
   "cell_type": "code",
   "execution_count": 121,
   "metadata": {
    "ExecuteTime": {
     "end_time": "2019-02-02T10:23:31.155895Z",
     "start_time": "2019-02-02T10:23:30.958088Z"
    }
   },
   "outputs": [],
   "source": [
    "sorted_students = sorted(all_students, key=lambda x:x.grade, reverse=True)\n",
    "sorted_meritorious_students2 = list(filter(lambda x: x.grade>9.5, sorted_students))"
   ]
  },
  {
   "cell_type": "markdown",
   "metadata": {
    "ExecuteTime": {
     "end_time": "2019-02-02T10:24:03.895844Z",
     "start_time": "2019-02-02T10:24:03.893276Z"
    }
   },
   "source": [
    "*Why did the first approach take less time?*"
   ]
  },
  {
   "cell_type": "markdown",
   "metadata": {},
   "source": [
    "## Compare the Average Grade of CSE Students and EEE Students"
   ]
  },
  {
   "cell_type": "code",
   "execution_count": 23,
   "metadata": {
    "ExecuteTime": {
     "end_time": "2019-02-02T05:24:46.337044Z",
     "start_time": "2019-02-02T05:24:46.075788Z"
    }
   },
   "outputs": [],
   "source": [
    "cse_average_grade = reduce(lambda x,y: x+y,map(lambda x: x.grade, filter(lambda x: x.discipline==\"A7\", all_students)))/len(cse_students)"
   ]
  },
  {
   "cell_type": "code",
   "execution_count": 24,
   "metadata": {
    "ExecuteTime": {
     "end_time": "2019-02-02T05:24:46.480000Z",
     "start_time": "2019-02-02T05:24:46.338346Z"
    }
   },
   "outputs": [
    {
     "data": {
      "text/plain": [
       "8.00307507999992"
      ]
     },
     "execution_count": 24,
     "metadata": {},
     "output_type": "execute_result"
    }
   ],
   "source": [
    "cse_average_grade"
   ]
  },
  {
   "cell_type": "code",
   "execution_count": 25,
   "metadata": {
    "ExecuteTime": {
     "end_time": "2019-02-02T05:24:46.736017Z",
     "start_time": "2019-02-02T05:24:46.481851Z"
    }
   },
   "outputs": [],
   "source": [
    "eee_average_grade = reduce(lambda x,y:(\"\",x[1]+y[1]), filter(lambda x: x[0]==\"A3\", map(lambda x:(x.discipline,x.grade),all_students)))[1]/len(eee_students)"
   ]
  },
  {
   "cell_type": "code",
   "execution_count": 26,
   "metadata": {
    "ExecuteTime": {
     "end_time": "2019-02-02T05:24:46.911237Z",
     "start_time": "2019-02-02T05:24:46.737321Z"
    }
   },
   "outputs": [
    {
     "data": {
      "text/plain": [
       "6.9982245599999535"
      ]
     },
     "execution_count": 26,
     "metadata": {},
     "output_type": "execute_result"
    }
   ],
   "source": [
    "eee_average_grade"
   ]
  },
  {
   "cell_type": "markdown",
   "metadata": {},
   "source": [
    "## CSV File"
   ]
  },
  {
   "cell_type": "code",
   "execution_count": 27,
   "metadata": {
    "ExecuteTime": {
     "end_time": "2019-02-02T05:24:47.364712Z",
     "start_time": "2019-02-02T05:24:46.913118Z"
    }
   },
   "outputs": [],
   "source": [
    "unrolled_data = list(map(lambda x: (x.name, x.discipline, x.grade, x.courses), all_students))"
   ]
  },
  {
   "cell_type": "code",
   "execution_count": 28,
   "metadata": {
    "ExecuteTime": {
     "end_time": "2019-02-02T05:24:47.670495Z",
     "start_time": "2019-02-02T05:24:47.368482Z"
    }
   },
   "outputs": [],
   "source": [
    "with open('students.csv', 'w') as studentsCsvFile:\n",
    "    writer = csv.writer(studentsCsvFile)\n",
    "    writer.writerow((\"Name\",\"Discipline\",\"Grade\",\"Courses\"))\n",
    "    writer.writerows(unrolled_data)"
   ]
  },
  {
   "cell_type": "markdown",
   "metadata": {},
   "source": [
    "## Pickle File"
   ]
  },
  {
   "cell_type": "code",
   "execution_count": 29,
   "metadata": {
    "ExecuteTime": {
     "end_time": "2019-02-02T05:24:47.961517Z",
     "start_time": "2019-02-02T05:24:47.672093Z"
    }
   },
   "outputs": [],
   "source": [
    "file = open('important', 'wb')\n",
    "\n",
    "pickle.dump(all_students,file)\n",
    "\n",
    "file.close()"
   ]
  },
  {
   "cell_type": "markdown",
   "metadata": {},
   "source": [
    "# Next Section"
   ]
  },
  {
   "cell_type": "markdown",
   "metadata": {
    "ExecuteTime": {
     "end_time": "2019-01-20T06:44:25.877279Z",
     "start_time": "2019-01-20T06:44:25.871606Z"
    }
   },
   "source": [
    "## Why NumPy"
   ]
  },
  {
   "cell_type": "markdown",
   "metadata": {},
   "source": [
    "### Lists vs Arrays\n",
    "\n"
   ]
  },
  {
   "cell_type": "code",
   "execution_count": 40,
   "metadata": {},
   "outputs": [],
   "source": [
    "import numpy as np\n",
    "\n",
    "list_1 = range(500000)\n",
    "list_2 = range(500000)\n",
    "\n",
    "array_1 = np.arange(500000)\n",
    "array_2 = np.arange(500000)"
   ]
  },
  {
   "cell_type": "markdown",
   "metadata": {},
   "source": [
    "We'll compare time taken for list operations and NumPy array operations"
   ]
  },
  {
   "cell_type": "code",
   "execution_count": 47,
   "metadata": {},
   "outputs": [
    {
     "name": "stdout",
     "output_type": "stream",
     "text": [
      "Time taken:  0.05448508262634277\n"
     ]
    }
   ],
   "source": [
    "import time\n",
    "\n",
    "start = time.time()\n",
    "\n",
    "sum_list = [a+b for a,b in zip(list_1,list_2)]\n",
    "\n",
    "end = time.time()\n",
    "\n",
    "print(\"Time taken: \",end - start)\n",
    "\n"
   ]
  },
  {
   "cell_type": "code",
   "execution_count": 48,
   "metadata": {},
   "outputs": [
    {
     "name": "stdout",
     "output_type": "stream",
     "text": [
      "Time taken:  0.0026819705963134766\n"
     ]
    }
   ],
   "source": [
    "start = time.time()\n",
    "\n",
    "sum_array = array_1 + array_2\n",
    "\n",
    "end = time.time()\n",
    "print(\"Time taken: \",end - start)\n",
    "\n"
   ]
  },
  {
   "cell_type": "markdown",
   "metadata": {},
   "source": [
    "***There's a significant difference in the two times (roughly a factor of 20)***"
   ]
  },
  {
   "cell_type": "markdown",
   "metadata": {},
   "source": [
    "## Why Pandas"
   ]
  },
  {
   "cell_type": "code",
   "execution_count": 201,
   "metadata": {
    "ExecuteTime": {
     "end_time": "2019-02-02T10:39:52.415462Z",
     "start_time": "2019-02-02T10:39:52.226078Z"
    }
   },
   "outputs": [
    {
     "data": {
      "text/html": [
       "<div>\n",
       "<style scoped>\n",
       "    .dataframe tbody tr th:only-of-type {\n",
       "        vertical-align: middle;\n",
       "    }\n",
       "\n",
       "    .dataframe tbody tr th {\n",
       "        vertical-align: top;\n",
       "    }\n",
       "\n",
       "    .dataframe thead th {\n",
       "        text-align: right;\n",
       "    }\n",
       "</style>\n",
       "<table border=\"1\" class=\"dataframe\">\n",
       "  <thead>\n",
       "    <tr style=\"text-align: right;\">\n",
       "      <th></th>\n",
       "      <th>Name</th>\n",
       "      <th>Discipline</th>\n",
       "      <th>Grade</th>\n",
       "      <th>Courses</th>\n",
       "    </tr>\n",
       "  </thead>\n",
       "  <tbody>\n",
       "    <tr>\n",
       "      <th>0</th>\n",
       "      <td>Linda</td>\n",
       "      <td>A7</td>\n",
       "      <td>6.000</td>\n",
       "      <td>['Data Structures, OOP']</td>\n",
       "    </tr>\n",
       "    <tr>\n",
       "      <th>1</th>\n",
       "      <td>Beatrice</td>\n",
       "      <td>A7</td>\n",
       "      <td>6.000</td>\n",
       "      <td>['Data Structures, OOP']</td>\n",
       "    </tr>\n",
       "    <tr>\n",
       "      <th>2</th>\n",
       "      <td>Shaun</td>\n",
       "      <td>A7</td>\n",
       "      <td>8.296</td>\n",
       "      <td>['Data Structures, OOP']</td>\n",
       "    </tr>\n",
       "    <tr>\n",
       "      <th>3</th>\n",
       "      <td>Rose</td>\n",
       "      <td>A7</td>\n",
       "      <td>8.232</td>\n",
       "      <td>['Data Structures, OOP']</td>\n",
       "    </tr>\n",
       "    <tr>\n",
       "      <th>4</th>\n",
       "      <td>Bryan</td>\n",
       "      <td>A7</td>\n",
       "      <td>7.760</td>\n",
       "      <td>['Data Structures, OOP']</td>\n",
       "    </tr>\n",
       "  </tbody>\n",
       "</table>\n",
       "</div>"
      ],
      "text/plain": [
       "       Name Discipline  Grade                   Courses\n",
       "0     Linda         A7  6.000  ['Data Structures, OOP']\n",
       "1  Beatrice         A7  6.000  ['Data Structures, OOP']\n",
       "2     Shaun         A7  8.296  ['Data Structures, OOP']\n",
       "3      Rose         A7  8.232  ['Data Structures, OOP']\n",
       "4     Bryan         A7  7.760  ['Data Structures, OOP']"
      ]
     },
     "execution_count": 201,
     "metadata": {},
     "output_type": "execute_result"
    }
   ],
   "source": [
    "df = pd.read_csv(\"./students.csv\", header=0)\n",
    "df.head(5)"
   ]
  },
  {
   "cell_type": "code",
   "execution_count": 202,
   "metadata": {
    "ExecuteTime": {
     "end_time": "2019-02-02T10:39:53.378166Z",
     "start_time": "2019-02-02T10:39:53.373195Z"
    }
   },
   "outputs": [
    {
     "data": {
      "text/plain": [
       "(200000, 4)"
      ]
     },
     "execution_count": 202,
     "metadata": {},
     "output_type": "execute_result"
    }
   ],
   "source": [
    "df.shape"
   ]
  },
  {
   "cell_type": "code",
   "execution_count": 203,
   "metadata": {
    "ExecuteTime": {
     "end_time": "2019-02-02T10:39:54.357606Z",
     "start_time": "2019-02-02T10:39:54.312352Z"
    }
   },
   "outputs": [
    {
     "data": {
      "text/html": [
       "<div>\n",
       "<style scoped>\n",
       "    .dataframe tbody tr th:only-of-type {\n",
       "        vertical-align: middle;\n",
       "    }\n",
       "\n",
       "    .dataframe tbody tr th {\n",
       "        vertical-align: top;\n",
       "    }\n",
       "\n",
       "    .dataframe thead th {\n",
       "        text-align: right;\n",
       "    }\n",
       "</style>\n",
       "<table border=\"1\" class=\"dataframe\">\n",
       "  <thead>\n",
       "    <tr style=\"text-align: right;\">\n",
       "      <th></th>\n",
       "      <th>Grade</th>\n",
       "    </tr>\n",
       "  </thead>\n",
       "  <tbody>\n",
       "    <tr>\n",
       "      <th>count</th>\n",
       "      <td>200000.000000</td>\n",
       "    </tr>\n",
       "    <tr>\n",
       "      <th>mean</th>\n",
       "      <td>7.500650</td>\n",
       "    </tr>\n",
       "    <tr>\n",
       "      <th>std</th>\n",
       "      <td>1.258101</td>\n",
       "    </tr>\n",
       "    <tr>\n",
       "      <th>min</th>\n",
       "      <td>5.000000</td>\n",
       "    </tr>\n",
       "    <tr>\n",
       "      <th>25%</th>\n",
       "      <td>6.504000</td>\n",
       "    </tr>\n",
       "    <tr>\n",
       "      <th>50%</th>\n",
       "      <td>7.496000</td>\n",
       "    </tr>\n",
       "    <tr>\n",
       "      <th>75%</th>\n",
       "      <td>8.500000</td>\n",
       "    </tr>\n",
       "    <tr>\n",
       "      <th>max</th>\n",
       "      <td>10.000000</td>\n",
       "    </tr>\n",
       "  </tbody>\n",
       "</table>\n",
       "</div>"
      ],
      "text/plain": [
       "               Grade\n",
       "count  200000.000000\n",
       "mean        7.500650\n",
       "std         1.258101\n",
       "min         5.000000\n",
       "25%         6.504000\n",
       "50%         7.496000\n",
       "75%         8.500000\n",
       "max        10.000000"
      ]
     },
     "execution_count": 203,
     "metadata": {},
     "output_type": "execute_result"
    }
   ],
   "source": [
    "df.describe()"
   ]
  },
  {
   "cell_type": "markdown",
   "metadata": {
    "ExecuteTime": {
     "end_time": "2019-01-20T06:45:21.767366Z",
     "start_time": "2019-01-20T06:45:21.762122Z"
    }
   },
   "source": [
    "## Why Matplotlib"
   ]
  },
  {
   "cell_type": "code",
   "execution_count": 204,
   "metadata": {
    "ExecuteTime": {
     "end_time": "2019-02-02T10:39:59.475704Z",
     "start_time": "2019-02-02T10:39:59.360068Z"
    }
   },
   "outputs": [],
   "source": [
    "grades = sorted(list(map(lambda x: x.grade, filter(lambda x:x.name,all_students))))"
   ]
  },
  {
   "cell_type": "code",
   "execution_count": 205,
   "metadata": {
    "ExecuteTime": {
     "end_time": "2019-02-02T10:40:01.078001Z",
     "start_time": "2019-02-02T10:40:00.396080Z"
    }
   },
   "outputs": [
    {
     "data": {
      "image/png": "[encoded data removed]",
      "text/plain": [
       "<Figure size 432x288 with 1 Axes>"
      ]
     },
     "metadata": {},
     "output_type": "display_data"
    }
   ],
   "source": [
    "plt.plot(grades,'ro')\n",
    "plt.axis([0, 200000, 4, 10])\n",
    "plt.show()"
   ]
  },
  {
   "cell_type": "code",
   "execution_count": 206,
   "metadata": {
    "ExecuteTime": {
     "end_time": "2019-02-02T10:40:02.151327Z",
     "start_time": "2019-02-02T10:40:02.092518Z"
    }
   },
   "outputs": [],
   "source": [
    "grade_age = [(x.grade, x.age) for x in all_students]"
   ]
  },
  {
   "cell_type": "code",
   "execution_count": 207,
   "metadata": {
    "ExecuteTime": {
     "end_time": "2019-02-02T10:40:03.854509Z",
     "start_time": "2019-02-02T10:40:03.619136Z"
    }
   },
   "outputs": [],
   "source": [
    "x,y = zip(*grade_age)"
   ]
  },
  {
   "cell_type": "code",
   "execution_count": 208,
   "metadata": {
    "ExecuteTime": {
     "end_time": "2019-02-02T10:40:09.005758Z",
     "start_time": "2019-02-02T10:40:05.606348Z"
    }
   },
   "outputs": [
    {
     "data": {
      "text/plain": [
       "<matplotlib.collections.PathCollection at 0x11a2086a0>"
      ]
     },
     "execution_count": 208,
     "metadata": {},
     "output_type": "execute_result"
    },
    {
     "data": {
      "image/png": "[encoded data removed]",
      "text/plain": [
       "<Figure size 432x288 with 1 Axes>"
      ]
     },
     "metadata": {},
     "output_type": "display_data"
    }
   ],
   "source": [
    "plt.scatter(x=x, y=y)"
   ]
  },
  {
   "cell_type": "code",
   "execution_count": 89,
   "metadata": {
    "ExecuteTime": {
     "end_time": "2019-02-02T10:14:49.223242Z",
     "start_time": "2019-02-02T10:14:49.160214Z"
    }
   },
   "outputs": [],
   "source": [
    "grade_age = list(filter(lambda x: x[1]/x[0] <2, grade_age))\n",
    "x,y = zip(*grade_age)"
   ]
  },
  {
   "cell_type": "code",
   "execution_count": 90,
   "metadata": {
    "ExecuteTime": {
     "end_time": "2019-02-02T10:15:04.617792Z",
     "start_time": "2019-02-02T10:15:04.330232Z"
    }
   },
   "outputs": [
    {
     "data": {
      "text/plain": [
       "<matplotlib.collections.PathCollection at 0x11c531a58>"
      ]
     },
     "execution_count": 90,
     "metadata": {},
     "output_type": "execute_result"
    },
    {
     "data": {
      "image/png": "[encoded data removed]",
      "text/plain": [
       "<Figure size 432x288 with 1 Axes>"
      ]
     },
     "metadata": {},
     "output_type": "display_data"
    }
   ],
   "source": [
    "plt.scatter(x=x, y=y)"
   ]
  },
  {
   "cell_type": "code",
   "execution_count": 91,
   "metadata": {
    "ExecuteTime": {
     "end_time": "2019-02-02T10:15:15.973963Z",
     "start_time": "2019-02-02T10:15:15.966228Z"
    }
   },
   "outputs": [],
   "source": [
    "grade_age = list(filter(lambda x: x[1]/x[0] > 1.99, grade_age))\n",
    "x,y = zip(*grade_age)"
   ]
  },
  {
   "cell_type": "code",
   "execution_count": 92,
   "metadata": {
    "ExecuteTime": {
     "end_time": "2019-02-02T10:15:18.780902Z",
     "start_time": "2019-02-02T10:15:18.595305Z"
    }
   },
   "outputs": [
    {
     "data": {
      "text/plain": [
       "<matplotlib.collections.PathCollection at 0x11c5d3e48>"
      ]
     },
     "execution_count": 92,
     "metadata": {},
     "output_type": "execute_result"
    },
    {
     "data": {
      "image/png": "[encoded data removed]",
      "text/plain": [
       "<Figure size 432x288 with 1 Axes>"
      ]
     },
     "metadata": {},
     "output_type": "display_data"
    }
   ],
   "source": [
    "plt.scatter(x=x, y=y)"
   ]
  },
  {
   "cell_type": "code",
   "execution_count": null,
   "metadata": {},
   "outputs": [],
   "source": []
  }
 ],
 "metadata": {
  "kernelspec": {
   "display_name": "Python 3",
   "language": "python",
   "name": "python3"
  },
  "language_info": {
   "codemirror_mode": {
    "name": "ipython",
    "version": 3
   },
   "file_extension": ".py",
   "mimetype": "text/x-python",
   "name": "python",
   "nbconvert_exporter": "python",
   "pygments_lexer": "ipython3",
   "version": "3.7.0"
  },
  "toc": {
   "base_numbering": 1,
   "nav_menu": {},
   "number_sections": true,
   "sideBar": true,
   "skip_h1_title": false,
   "title_cell": "Table of Contents",
   "title_sidebar": "Contents",
   "toc_cell": false,
   "toc_position": {},
   "toc_section_display": true,
   "toc_window_display": false
  },
  "varInspector": {
   "cols": {
    "lenName": 16,
    "lenType": 16,
    "lenVar": 40
   },
   "kernels_config": {
    "python": {
     "delete_cmd_postfix": "",
     "delete_cmd_prefix": "del ",
     "library": "var_list.py",
     "varRefreshCmd": "print(var_dic_list())"
    },
    "r": {
     "delete_cmd_postfix": ") ",
     "delete_cmd_prefix": "rm(",
     "library": "var_list.r",
     "varRefreshCmd": "cat(var_dic_list()) "
    }
   },
   "types_to_exclude": [
    "module",
    "function",
    "builtin_function_or_method",
    "instance",
    "_Feature"
   ],
   "window_display": false
  }
 },
 "nbformat": 4,
 "nbformat_minor": 2
}
