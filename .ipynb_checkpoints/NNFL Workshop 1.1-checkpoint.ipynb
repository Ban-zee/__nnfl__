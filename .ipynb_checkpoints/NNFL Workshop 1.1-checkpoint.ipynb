{
 "cells": [
  {
   "cell_type": "code",
   "execution_count": 1,
   "metadata": {
    "ExecuteTime": {
     "end_time": "2019-02-01T17:32:58.267918Z",
     "start_time": "2019-02-01T17:32:58.255750Z"
    }
   },
   "outputs": [
    {
     "data": {
      "text/plain": [
       "'\\nIntroduce Basic python\\nIntroduce Jupyter Notebook\\nJupyter Specialties: Timer, \\nJupyter Widgets?\\nDict\\nTuples\\nList\\nmap filter reduce\\n'"
      ]
     },
     "execution_count": 1,
     "metadata": {},
     "output_type": "execute_result"
    }
   ],
   "source": [
    "'''\n",
    "Introduce Basic python\n",
    "Introduce Jupyter Notebook\n",
    "Jupyter Specialties: Timer, \n",
    "Jupyter Widgets?\n",
    "Dict\n",
    "Tuples\n",
    "List\n",
    "map filter reduce\n",
    "'''"
   ]
  },
  {
   "cell_type": "code",
   "execution_count": 2,
   "metadata": {
    "ExecuteTime": {
     "end_time": "2019-02-01T17:32:58.572150Z",
     "start_time": "2019-02-01T17:32:58.566247Z"
    }
   },
   "outputs": [
    {
     "name": "stdout",
     "output_type": "stream",
     "text": [
      "[]\n",
      "{(1, 'one'), (3, 'three'), (2, 'two')}\n"
     ]
    }
   ],
   "source": [
    "numberList = [1, 2, 3]\n",
    "strList = ['one', 'two', 'three']\n",
    "\n",
    "# No iterables are passed\n",
    "result = zip()\n",
    "\n",
    "# Converting itertor to list\n",
    "resultList = list(result)\n",
    "print(resultList)\n",
    "\n",
    "# Two iterables are passed\n",
    "result = zip(numberList, strList)\n",
    "\n",
    "# Converting itertor to set\n",
    "resultSet = set(result)\n",
    "print(resultSet)"
   ]
  },
  {
   "cell_type": "code",
   "execution_count": 10,
   "metadata": {
    "ExecuteTime": {
     "end_time": "2019-02-01T16:02:56.113412Z",
     "start_time": "2019-02-01T16:02:56.108422Z"
    }
   },
   "outputs": [
    {
     "name": "stdout",
     "output_type": "stream",
     "text": [
      "{(1, 'ONE'), (2, 'TWO'), (3, 'THREE')}\n",
      "{(2, 'two', 'TWO'), (1, 'one', 'ONE')}\n"
     ]
    }
   ],
   "source": [
    "numbersList = [1, 2, 3]\n",
    "strList = ['one', 'two']\n",
    "numbersTuple = ('ONE', 'TWO', 'THREE', 'FOUR')\n",
    "\n",
    "result = zip(numbersList, numbersTuple)\n",
    "\n",
    "# Converting to set\n",
    "resultSet = set(result)\n",
    "print(resultSet)\n",
    "\n",
    "result = zip(numbersList, strList, numbersTuple)\n",
    "\n",
    "# Converting to set\n",
    "resultSet = set(result)\n",
    "print(resultSet)"
   ]
  },
  {
   "cell_type": "code",
   "execution_count": 11,
   "metadata": {
    "ExecuteTime": {
     "end_time": "2019-02-01T16:02:57.245910Z",
     "start_time": "2019-02-01T16:02:57.240325Z"
    }
   },
   "outputs": [
    {
     "name": "stdout",
     "output_type": "stream",
     "text": [
      "[('x', 3), ('y', 4), ('z', 5)]\n",
      "c = ('x', 'y', 'z')\n",
      "v = (3, 4, 5)\n"
     ]
    }
   ],
   "source": [
    "coordinate = ['x', 'y', 'z']\n",
    "value = [3, 4, 5, 0, 9]\n",
    "\n",
    "result = zip(coordinate, value)\n",
    "resultList = list(result)\n",
    "print(resultList)\n",
    "\n",
    "c, v =  zip(*resultList)\n",
    "print('c =', c)\n",
    "print('v =', v)"
   ]
  },
  {
   "cell_type": "markdown",
   "metadata": {},
   "source": [
    "## Our Fancy Random Number Generator"
   ]
  },
  {
   "cell_type": "code",
   "execution_count": 10,
   "metadata": {
    "ExecuteTime": {
     "end_time": "2019-02-01T17:35:05.672336Z",
     "start_time": "2019-02-01T17:35:05.667789Z"
    }
   },
   "outputs": [],
   "source": [
    "M = 17969491597941066732916128449573246156367561808012600070888918835531726460341490933493372247868650755230855864199929221814436684722874052065257937495694348389263171152522525654410980819170611742509702440718010364831638288518852689\n",
    "def blum_blum_shub():\n",
    "    global M\n",
    "    x = 987654321\n",
    "    while True:\n",
    "        x =  (x**2)%M\n",
    "        yield round(x/M,3)\n",
    "        \n",
    "random = blum_blum_shub()"
   ]
  },
  {
   "cell_type": "markdown",
   "metadata": {},
   "source": [
    "# Load Existing Python File"
   ]
  },
  {
   "cell_type": "code",
   "execution_count": 11,
   "metadata": {
    "ExecuteTime": {
     "end_time": "2019-02-01T17:35:06.981878Z",
     "start_time": "2019-02-01T17:35:06.978956Z"
    }
   },
   "outputs": [],
   "source": [
    "# %load a.py\n",
    "counter = 0\n",
    "def get():\n",
    "    global counter \n",
    "    counter += 1 \n",
    "    return counter-1\n"
   ]
  },
  {
   "cell_type": "markdown",
   "metadata": {},
   "source": [
    "# Elaborate Example"
   ]
  },
  {
   "cell_type": "code",
   "execution_count": 12,
   "metadata": {
    "ExecuteTime": {
     "end_time": "2019-02-01T17:35:07.591109Z",
     "start_time": "2019-02-01T17:35:07.582768Z"
    }
   },
   "outputs": [],
   "source": [
    "import names\n",
    "import csv\n",
    "import pickle \n",
    "import matplotlib.pyplot as plt\n",
    "from functools import reduce\n",
    "%matplotlib inline\n",
    "\n",
    "def get_name():\n",
    "    return names.get_first_name()\n",
    "def range_random(l,u):\n",
    "    return round(l+(u-l)*next(random),3)"
   ]
  },
  {
   "cell_type": "markdown",
   "metadata": {},
   "source": [
    "## Definition of a Student"
   ]
  },
  {
   "cell_type": "code",
   "execution_count": 13,
   "metadata": {
    "ExecuteTime": {
     "end_time": "2019-02-01T17:35:09.494906Z",
     "start_time": "2019-02-01T17:35:09.491531Z"
    }
   },
   "outputs": [],
   "source": [
    "class Student():\n",
    "    name = None\n",
    "    age = None\n",
    "    gender = None\n",
    "    grade = None\n",
    "    def __init__(self, age, name, grade):\n",
    "        self.age = age\n",
    "        self.name = name\n",
    "        self.grade = grade"
   ]
  },
  {
   "cell_type": "markdown",
   "metadata": {},
   "source": [
    "## Definition of a EEE Student"
   ]
  },
  {
   "cell_type": "code",
   "execution_count": 14,
   "metadata": {
    "ExecuteTime": {
     "end_time": "2019-02-01T17:35:10.087212Z",
     "start_time": "2019-02-01T17:35:10.082958Z"
    }
   },
   "outputs": [],
   "source": [
    "class EEE_Student(Student):\n",
    "    \"\"\"\n",
    "    A EEE student: behaves exactly like a Student \n",
    "    but also has a special discipline class attribute and a couple courses\n",
    "    \"\"\"\n",
    "    discipline = \"A3\"\n",
    "    courses = [\"Control Systems, Optimisation\"]\n",
    "    def __init__(self, age, name):\n",
    "        super().__init__(age, name, range_random(5,9))"
   ]
  },
  {
   "cell_type": "markdown",
   "metadata": {},
   "source": [
    "## Definition of a CSE Student"
   ]
  },
  {
   "cell_type": "code",
   "execution_count": 15,
   "metadata": {
    "ExecuteTime": {
     "end_time": "2019-02-01T17:35:10.946342Z",
     "start_time": "2019-02-01T17:35:10.942337Z"
    }
   },
   "outputs": [],
   "source": [
    "class CSE_Student(Student):\n",
    "    \"\"\"\n",
    "    A CSE student: behaves exactly like a Student \n",
    "    but also has a special discipline class attribute and a couple courses\n",
    "    \"\"\"\n",
    "    discipline = \"A7\"\n",
    "    courses = [\"Data Structures, OOP\"]\n",
    "    def __init__(self, age, name):\n",
    "        super().__init__(age, name, range_random(6,10))"
   ]
  },
  {
   "cell_type": "markdown",
   "metadata": {},
   "source": [
    "__Generate List of Students__"
   ]
  },
  {
   "cell_type": "code",
   "execution_count": 16,
   "metadata": {
    "ExecuteTime": {
     "end_time": "2019-02-01T17:36:07.488789Z",
     "start_time": "2019-02-01T17:35:11.616103Z"
    }
   },
   "outputs": [],
   "source": [
    "cse_students = [CSE_Student(range_random(18,23), get_name()) for i in range(0,100000)]\n",
    "eee_students = [EEE_Student(range_random(18,23), get_name()) for i in range(0,100000)]"
   ]
  },
  {
   "cell_type": "code",
   "execution_count": 17,
   "metadata": {
    "ExecuteTime": {
     "end_time": "2019-02-01T17:36:07.718243Z",
     "start_time": "2019-02-01T17:36:07.710557Z"
    }
   },
   "outputs": [
    {
     "data": {
      "text/plain": [
       "100000"
      ]
     },
     "execution_count": 17,
     "metadata": {},
     "output_type": "execute_result"
    }
   ],
   "source": [
    "len(cse_students)"
   ]
  },
  {
   "cell_type": "code",
   "execution_count": 18,
   "metadata": {
    "ExecuteTime": {
     "end_time": "2019-02-01T17:36:07.960369Z",
     "start_time": "2019-02-01T17:36:07.953439Z"
    }
   },
   "outputs": [
    {
     "data": {
      "text/plain": [
       "100000"
      ]
     },
     "execution_count": 18,
     "metadata": {},
     "output_type": "execute_result"
    }
   ],
   "source": [
    "len(eee_students)"
   ]
  },
  {
   "cell_type": "markdown",
   "metadata": {},
   "source": [
    "__Concat List of Students__"
   ]
  },
  {
   "cell_type": "code",
   "execution_count": 19,
   "metadata": {
    "ExecuteTime": {
     "end_time": "2019-02-01T17:36:08.205611Z",
     "start_time": "2019-02-01T17:36:08.195448Z"
    }
   },
   "outputs": [],
   "source": [
    "all_students = cse_students+eee_students"
   ]
  },
  {
   "cell_type": "code",
   "execution_count": 20,
   "metadata": {
    "ExecuteTime": {
     "end_time": "2019-02-01T17:36:08.639522Z",
     "start_time": "2019-02-01T17:36:08.633137Z"
    }
   },
   "outputs": [
    {
     "data": {
      "text/plain": [
       "200000"
      ]
     },
     "execution_count": 20,
     "metadata": {},
     "output_type": "execute_result"
    }
   ],
   "source": [
    "len(all_students)"
   ]
  },
  {
   "cell_type": "markdown",
   "metadata": {},
   "source": [
    "## Get  List of Students with Unique Names"
   ]
  },
  {
   "cell_type": "markdown",
   "metadata": {},
   "source": [
    "__A Purely Imperative Approach__"
   ]
  },
  {
   "cell_type": "code",
   "execution_count": 25,
   "metadata": {
    "ExecuteTime": {
     "end_time": "2019-02-01T17:37:10.243390Z",
     "start_time": "2019-02-01T17:37:10.187799Z"
    }
   },
   "outputs": [],
   "source": [
    "unique_names = set()\n",
    "students_with_unique_names = []\n",
    "for student in all_students:\n",
    "    if student.name in unique_names:\n",
    "        continue\n",
    "    students_with_unique_names.append(student)\n",
    "    unique_names.add(student.name)"
   ]
  },
  {
   "cell_type": "code",
   "execution_count": 26,
   "metadata": {
    "ExecuteTime": {
     "end_time": "2019-02-01T17:37:10.722814Z",
     "start_time": "2019-02-01T17:37:10.716978Z"
    }
   },
   "outputs": [
    {
     "data": {
      "text/plain": [
       "4657"
      ]
     },
     "execution_count": 26,
     "metadata": {},
     "output_type": "execute_result"
    }
   ],
   "source": [
    "len(students_with_unique_names)"
   ]
  },
  {
   "cell_type": "markdown",
   "metadata": {},
   "source": [
    "__Alternate Approch w/ Functional Operators__"
   ]
  },
  {
   "cell_type": "code",
   "execution_count": 27,
   "metadata": {
    "ExecuteTime": {
     "end_time": "2019-02-01T17:37:12.841929Z",
     "start_time": "2019-02-01T17:37:12.773470Z"
    }
   },
   "outputs": [],
   "source": [
    "''' map out the features/parameters which need to be evaluated upon '''\n",
    "student_and_names = dict(map(lambda x: (x.name, x), all_students))\n",
    "\n",
    "''' remap the set of names to a list of student objects '''\n",
    "uniquely_named_students = list(map(lambda x: student_and_names[x], student_and_names))"
   ]
  },
  {
   "cell_type": "code",
   "execution_count": 28,
   "metadata": {
    "ExecuteTime": {
     "end_time": "2019-02-01T17:37:22.933932Z",
     "start_time": "2019-02-01T17:37:22.928675Z"
    }
   },
   "outputs": [
    {
     "data": {
      "text/plain": [
       "4657"
      ]
     },
     "execution_count": 28,
     "metadata": {},
     "output_type": "execute_result"
    }
   ],
   "source": [
    "len(uniquely_named_students)"
   ]
  },
  {
   "cell_type": "markdown",
   "metadata": {},
   "source": [
    "## Get a Sorted List of Students with CG > 9.5"
   ]
  },
  {
   "cell_type": "markdown",
   "metadata": {},
   "source": [
    "__Approach 1: Filter followed by Sort__"
   ]
  },
  {
   "cell_type": "code",
   "execution_count": 29,
   "metadata": {
    "ExecuteTime": {
     "end_time": "2019-02-01T17:37:31.967090Z",
     "start_time": "2019-02-01T17:37:31.894025Z"
    }
   },
   "outputs": [],
   "source": [
    "meritorious_students = list(filter(lambda x: x.grade>9.5, all_students))\n",
    "sorted_meritorious_students1 = sorted(meritorious_students, key=lambda x:x.grade, reverse=True)"
   ]
  },
  {
   "cell_type": "markdown",
   "metadata": {},
   "source": [
    "__Approach 2: Sort followed by Filter__"
   ]
  },
  {
   "cell_type": "code",
   "execution_count": 30,
   "metadata": {
    "ExecuteTime": {
     "end_time": "2019-02-01T17:37:43.317118Z",
     "start_time": "2019-02-01T17:37:43.113018Z"
    }
   },
   "outputs": [],
   "source": [
    "sorted_students = sorted(all_students, key=lambda x:x.grade, reverse=True)\n",
    "sorted_meritorious_students2 = list(filter(lambda x: x.grade>9.5, sorted_students))"
   ]
  },
  {
   "cell_type": "code",
   "execution_count": 31,
   "metadata": {
    "ExecuteTime": {
     "end_time": "2019-02-01T17:37:43.991471Z",
     "start_time": "2019-02-01T17:37:43.984477Z"
    }
   },
   "outputs": [
    {
     "data": {
      "text/plain": [
       "0"
      ]
     },
     "execution_count": 31,
     "metadata": {},
     "output_type": "execute_result"
    }
   ],
   "source": [
    "len(sorted_meritorious_students1) - len(sorted_meritorious_students2)"
   ]
  },
  {
   "cell_type": "markdown",
   "metadata": {},
   "source": [
    "## Compare the Average Grade of CSE Students and EEE Students"
   ]
  },
  {
   "cell_type": "code",
   "execution_count": 32,
   "metadata": {
    "ExecuteTime": {
     "end_time": "2019-02-01T17:37:45.468791Z",
     "start_time": "2019-02-01T17:37:45.396778Z"
    }
   },
   "outputs": [],
   "source": [
    "cse_average_grade = reduce(lambda x,y: x+y,map(lambda x: x.grade, filter(lambda x: x.discipline==\"A7\", all_students)))/len(cse_students)"
   ]
  },
  {
   "cell_type": "code",
   "execution_count": 33,
   "metadata": {
    "ExecuteTime": {
     "end_time": "2019-02-01T17:37:46.140711Z",
     "start_time": "2019-02-01T17:37:46.134414Z"
    }
   },
   "outputs": [
    {
     "data": {
      "text/plain": [
       "8.00307507999992"
      ]
     },
     "execution_count": 33,
     "metadata": {},
     "output_type": "execute_result"
    }
   ],
   "source": [
    "cse_average_grade"
   ]
  },
  {
   "cell_type": "code",
   "execution_count": 34,
   "metadata": {
    "ExecuteTime": {
     "end_time": "2019-02-01T17:37:48.458105Z",
     "start_time": "2019-02-01T17:37:48.355684Z"
    }
   },
   "outputs": [],
   "source": [
    "eee_average_grade = reduce(lambda x,y:(\"\",x[1]+y[1]), filter(lambda x: x[0]==\"A3\", map(lambda x:(x.discipline,x.grade),all_students)))[1]/len(eee_students)"
   ]
  },
  {
   "cell_type": "code",
   "execution_count": 35,
   "metadata": {
    "ExecuteTime": {
     "end_time": "2019-02-01T17:37:49.129598Z",
     "start_time": "2019-02-01T17:37:49.119091Z"
    }
   },
   "outputs": [
    {
     "data": {
      "text/plain": [
       "6.9982245599999535"
      ]
     },
     "execution_count": 35,
     "metadata": {},
     "output_type": "execute_result"
    }
   ],
   "source": [
    "eee_average_grade"
   ]
  },
  {
   "cell_type": "markdown",
   "metadata": {},
   "source": [
    "## CSV File"
   ]
  },
  {
   "cell_type": "code",
   "execution_count": 36,
   "metadata": {
    "ExecuteTime": {
     "end_time": "2019-02-01T17:37:52.730990Z",
     "start_time": "2019-02-01T17:37:52.432528Z"
    }
   },
   "outputs": [],
   "source": [
    "unrolled_data = list(map(lambda x: (x.name, x.discipline, x.grade, x.courses), all_students))"
   ]
  },
  {
   "cell_type": "code",
   "execution_count": 37,
   "metadata": {
    "ExecuteTime": {
     "end_time": "2019-02-01T17:37:54.541999Z",
     "start_time": "2019-02-01T17:37:53.988430Z"
    }
   },
   "outputs": [],
   "source": [
    "with open('students.csv', 'w') as studentsCsvFile:\n",
    "    writer = csv.writer(studentsCsvFile)\n",
    "    writer.writerow((\"Name\",\"Discipline\",\"Grade\",\"Courses\"))\n",
    "    writer.writerows(unrolled_data)"
   ]
  },
  {
   "cell_type": "markdown",
   "metadata": {},
   "source": [
    "## Pickle File"
   ]
  },
  {
   "cell_type": "code",
   "execution_count": 38,
   "metadata": {
    "ExecuteTime": {
     "end_time": "2019-02-01T17:37:56.241579Z",
     "start_time": "2019-02-01T17:37:55.846056Z"
    }
   },
   "outputs": [],
   "source": [
    "file = open('important', 'wb')\n",
    "\n",
    "pickle.dump(all_students,file)\n",
    "\n",
    "file.close()"
   ]
  },
  {
   "cell_type": "markdown",
   "metadata": {},
   "source": [
    "# Next Section"
   ]
  },
  {
   "cell_type": "markdown",
   "metadata": {
    "ExecuteTime": {
     "end_time": "2019-01-20T06:44:25.877279Z",
     "start_time": "2019-01-20T06:44:25.871606Z"
    }
   },
   "source": [
    "## Why NumPy"
   ]
  },
  {
   "cell_type": "markdown",
   "metadata": {},
   "source": [
    "## Why Pandas"
   ]
  },
  {
   "cell_type": "markdown",
   "metadata": {
    "ExecuteTime": {
     "end_time": "2019-01-20T06:45:21.767366Z",
     "start_time": "2019-01-20T06:45:21.762122Z"
    }
   },
   "source": [
    "## Why Matplotlib"
   ]
  },
  {
   "cell_type": "code",
   "execution_count": 39,
   "metadata": {
    "ExecuteTime": {
     "end_time": "2019-02-01T17:38:04.775511Z",
     "start_time": "2019-02-01T17:38:04.660424Z"
    }
   },
   "outputs": [],
   "source": [
    "grades = sorted(list(map(lambda x: x.grade, filter(lambda x:x.name,all_students))))"
   ]
  },
  {
   "cell_type": "code",
   "execution_count": 41,
   "metadata": {
    "ExecuteTime": {
     "end_time": "2019-02-01T17:38:47.057625Z",
     "start_time": "2019-02-01T17:38:46.354337Z"
    }
   },
   "outputs": [
    {
     "data": {
      "image/png": "[encoded data removed]",
      "text/plain": [
       "<Figure size 432x288 with 1 Axes>"
      ]
     },
     "metadata": {},
     "output_type": "display_data"
    }
   ],
   "source": [
    "plt.plot(grades,'ro')\n",
    "plt.axis([0, 200000, 4, 10])\n",
    "plt.show()"
   ]
  },
  {
   "cell_type": "code",
   "execution_count": 47,
   "metadata": {
    "ExecuteTime": {
     "end_time": "2019-02-01T17:41:34.839791Z",
     "start_time": "2019-02-01T17:41:34.780241Z"
    }
   },
   "outputs": [],
   "source": [
    "grade_list = [x.grade for x in all_students]\n",
    "age_list = [x.age for x in all_students]"
   ]
  },
  {
   "cell_type": "code",
   "execution_count": 49,
   "metadata": {
    "ExecuteTime": {
     "end_time": "2019-02-01T17:43:58.071482Z",
     "start_time": "2019-02-01T17:43:54.828025Z"
    }
   },
   "outputs": [
    {
     "data": {
      "text/plain": [
       "<matplotlib.collections.PathCollection at 0x11b3ee7f0>"
      ]
     },
     "execution_count": 49,
     "metadata": {},
     "output_type": "execute_result"
    },
    {
     "data": {
      "image/png": "[encoded data removed]",
      "text/plain": [
       "<Figure size 432x288 with 1 Axes>"
      ]
     },
     "metadata": {},
     "output_type": "display_data"
    }
   ],
   "source": [
    "plt.scatter(x=grade_list, y=age_list)"
   ]
  },
  {
   "cell_type": "code",
   "execution_count": 50,
   "metadata": {
    "ExecuteTime": {
     "end_time": "2019-02-01T17:44:49.688725Z",
     "start_time": "2019-02-01T17:44:49.685477Z"
    }
   },
   "outputs": [],
   "source": [
    "grades_ages = zip(grade_list, age_list)"
   ]
  },
  {
   "cell_type": "code",
   "execution_count": 51,
   "metadata": {
    "ExecuteTime": {
     "end_time": "2019-02-01T17:46:07.842856Z",
     "start_time": "2019-02-01T17:46:07.786528Z"
    }
   },
   "outputs": [],
   "source": [
    "grades_ages = list(filter(lambda x: x[1]/x[0] <2, grades_ages))"
   ]
  },
  {
   "cell_type": "code",
   "execution_count": 52,
   "metadata": {
    "ExecuteTime": {
     "end_time": "2019-02-01T17:46:36.308444Z",
     "start_time": "2019-02-01T17:46:36.303240Z"
    }
   },
   "outputs": [],
   "source": [
    "g,a = zip(*grades_ages)"
   ]
  },
  {
   "cell_type": "code",
   "execution_count": 53,
   "metadata": {
    "ExecuteTime": {
     "end_time": "2019-02-01T17:46:47.446743Z",
     "start_time": "2019-02-01T17:46:47.170646Z"
    }
   },
   "outputs": [
    {
     "data": {
      "text/plain": [
       "<matplotlib.collections.PathCollection at 0x1189e9f98>"
      ]
     },
     "execution_count": 53,
     "metadata": {},
     "output_type": "execute_result"
    },
    {
     "data": {
      "image/png": "[encoded data removed]",
      "text/plain": [
       "<Figure size 432x288 with 1 Axes>"
      ]
     },
     "metadata": {},
     "output_type": "display_data"
    }
   ],
   "source": [
    "plt.scatter(x=g, y=a)"
   ]
  },
  {
   "cell_type": "code",
   "execution_count": null,
   "metadata": {},
   "outputs": [],
   "source": []
  }
 ],
 "metadata": {
  "kernelspec": {
   "display_name": "Python 3",
   "language": "python",
   "name": "python3"
  },
  "language_info": {
   "codemirror_mode": {
    "name": "ipython",
    "version": 3
   },
   "file_extension": ".py",
   "mimetype": "text/x-python",
   "name": "python",
   "nbconvert_exporter": "python",
   "pygments_lexer": "ipython3",
   "version": "3.7.0"
  },
  "toc": {
   "base_numbering": 1,
   "nav_menu": {},
   "number_sections": true,
   "sideBar": true,
   "skip_h1_title": false,
   "title_cell": "Table of Contents",
   "title_sidebar": "Contents",
   "toc_cell": false,
   "toc_position": {},
   "toc_section_display": true,
   "toc_window_display": false
  },
  "varInspector": {
   "cols": {
    "lenName": 16,
    "lenType": 16,
    "lenVar": 40
   },
   "kernels_config": {
    "python": {
     "delete_cmd_postfix": "",
     "delete_cmd_prefix": "del ",
     "library": "var_list.py",
     "varRefreshCmd": "print(var_dic_list())"
    },
    "r": {
     "delete_cmd_postfix": ") ",
     "delete_cmd_prefix": "rm(",
     "library": "var_list.r",
     "varRefreshCmd": "cat(var_dic_list()) "
    }
   },
   "types_to_exclude": [
    "module",
    "function",
    "builtin_function_or_method",
    "instance",
    "_Feature"
   ],
   "window_display": false
  }
 },
 "nbformat": 4,
 "nbformat_minor": 2
}
