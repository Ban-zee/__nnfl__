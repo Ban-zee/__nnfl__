{
 "cells": [
  {
   "cell_type": "markdown",
   "metadata": {},
   "source": [
    "# BITS F312 | NNFL | Python Tutorial"
   ]
  },
  {
   "cell_type": "markdown",
   "metadata": {},
   "source": [
    "Adapted from the `CS231n` Python tutorial by Justin Johnson (http://cs231n.github.io/python-numpy-tutorial/)."
   ]
  },
  {
   "cell_type": "markdown",
   "metadata": {},
   "source": [
    "## Introduction"
   ]
  },
  {
   "cell_type": "markdown",
   "metadata": {
    "ExecuteTime": {
     "end_time": "2019-01-31T12:47:11.432216Z",
     "start_time": "2019-01-31T12:47:11.424824Z"
    }
   },
   "source": [
    "In these two days we will cover a few essential tools required by data-scientists, machine-learning engineers and NNFL students"
   ]
  },
  {
   "cell_type": "markdown",
   "metadata": {},
   "source": [
    "In today's session, we will cover:\n",
    "\n",
    "* Basic data types (Containers, Lists, Dictionaries, Sets, Tuples), Functions, Classes\n",
    "* Object Oriented and Functional Programming\n",
    "* Other Useful Pointers and Guidelines"
   ]
  },
  {
   "cell_type": "markdown",
   "metadata": {},
   "source": [
    "## Basics of Python"
   ]
  },
  {
   "cell_type": "markdown",
   "metadata": {},
   "source": [
    "Python is a high-level, dynamically typed multiparadigm programming language. Python code is often said to be almost like pseudocode, since it allows you to express very powerful ideas in very few lines of code while being very readable. As an example, here is an implementation of the classic quicksort algorithm in Python:"
   ]
  },
  {
   "cell_type": "code",
   "execution_count": 124,
   "metadata": {
    "ExecuteTime": {
     "end_time": "2019-02-02T10:32:39.098060Z",
     "start_time": "2019-02-02T10:32:39.083086Z"
    }
   },
   "outputs": [
    {
     "name": "stdout",
     "output_type": "stream",
     "text": [
      "[1, 1, 2, 3, 6, 8, 10]\n"
     ]
    }
   ],
   "source": [
    "def quicksort(arr):\n",
    "    if len(arr) <= 1:\n",
    "        return arr\n",
    "    pivot = arr[len(arr) // 2]\n",
    "    left = [x for x in arr if x < pivot]\n",
    "    middle = [x for x in arr if x == pivot]\n",
    "    right = [x for x in arr if x > pivot]\n",
    "    return quicksort(left) + middle + quicksort(right)\n",
    "\n",
    "print(quicksort([3,6,8,10,1,2,1]))"
   ]
  },
  {
   "cell_type": "markdown",
   "metadata": {},
   "source": [
    "or, we could just do this"
   ]
  },
  {
   "cell_type": "code",
   "execution_count": 125,
   "metadata": {
    "ExecuteTime": {
     "end_time": "2019-02-02T10:32:41.013389Z",
     "start_time": "2019-02-02T10:32:41.005732Z"
    }
   },
   "outputs": [
    {
     "data": {
      "text/plain": [
       "[1, 1, 2, 3, 6, 8, 10]"
      ]
     },
     "execution_count": 125,
     "metadata": {},
     "output_type": "execute_result"
    }
   ],
   "source": [
    "sorted([3,6,8,10,1,2,1])"
   ]
  },
  {
   "cell_type": "markdown",
   "metadata": {},
   "source": [
    "It internally uses an algorithm called 'Timsort' for sorting."
   ]
  },
  {
   "cell_type": "markdown",
   "metadata": {},
   "source": [
    "### Basic data types"
   ]
  },
  {
   "cell_type": "markdown",
   "metadata": {},
   "source": [
    "#### Numbers"
   ]
  },
  {
   "cell_type": "markdown",
   "metadata": {},
   "source": [
    "Integers and floats work as you would expect from other languages:"
   ]
  },
  {
   "cell_type": "code",
   "execution_count": 126,
   "metadata": {
    "ExecuteTime": {
     "end_time": "2019-02-02T10:32:56.122402Z",
     "start_time": "2019-02-02T10:32:56.119219Z"
    }
   },
   "outputs": [],
   "source": [
    "x = 3"
   ]
  },
  {
   "cell_type": "code",
   "execution_count": 127,
   "metadata": {
    "ExecuteTime": {
     "end_time": "2019-02-02T10:32:57.511474Z",
     "start_time": "2019-02-02T10:32:57.505768Z"
    }
   },
   "outputs": [
    {
     "data": {
      "text/plain": [
       "int"
      ]
     },
     "execution_count": 127,
     "metadata": {},
     "output_type": "execute_result"
    }
   ],
   "source": [
    "type(x)"
   ]
  },
  {
   "cell_type": "code",
   "execution_count": 128,
   "metadata": {
    "ExecuteTime": {
     "end_time": "2019-02-02T10:32:58.519017Z",
     "start_time": "2019-02-02T10:32:58.514594Z"
    }
   },
   "outputs": [
    {
     "name": "stdout",
     "output_type": "stream",
     "text": [
      "4\n",
      "2\n",
      "6\n",
      "9\n"
     ]
    }
   ],
   "source": [
    "print(x + 1)   # Addition;\n",
    "print(x - 1)   # Subtraction;\n",
    "print(x * 2)   # Multiplication;\n",
    "print(x ** 2)  # Exponentiation;"
   ]
  },
  {
   "cell_type": "code",
   "execution_count": 129,
   "metadata": {
    "ExecuteTime": {
     "end_time": "2019-02-02T10:32:59.633193Z",
     "start_time": "2019-02-02T10:32:59.624332Z"
    }
   },
   "outputs": [
    {
     "name": "stdout",
     "output_type": "stream",
     "text": [
      "4\n",
      "8\n"
     ]
    }
   ],
   "source": [
    "x += 1\n",
    "print(x)  # Prints \"4\"\n",
    "x *= 2\n",
    "print(x)  # Prints \"8\""
   ]
  },
  {
   "cell_type": "code",
   "execution_count": 130,
   "metadata": {
    "ExecuteTime": {
     "end_time": "2019-02-02T10:33:00.546551Z",
     "start_time": "2019-02-02T10:33:00.537710Z"
    }
   },
   "outputs": [
    {
     "name": "stdout",
     "output_type": "stream",
     "text": [
      "<class 'float'>\n",
      "2.5 3.5 5.0 6.25\n"
     ]
    }
   ],
   "source": [
    "y = 2.5\n",
    "print(type(y)) # Prints \"<type 'float'>\"\n",
    "print(y, y + 1, y * 2, y ** 2) # Prints \"2.5 3.5 5.0 6.25\""
   ]
  },
  {
   "cell_type": "markdown",
   "metadata": {},
   "source": [
    "Note that unlike many languages, Python does not have unary increment (x++) or decrement (x--) operators.\n",
    "\n",
    "Python also has built-in types for long integers and complex numbers; you can find all of the details in the [documentation](https://docs.python.org/2/library/stdtypes.html#numeric-types-int-float-long-complex)."
   ]
  },
  {
   "cell_type": "markdown",
   "metadata": {},
   "source": [
    "#### Booleans"
   ]
  },
  {
   "cell_type": "markdown",
   "metadata": {},
   "source": [
    "Python implements all of the usual operators for Boolean logic, but uses English words rather than symbols (`&&`, `||`, etc.):"
   ]
  },
  {
   "cell_type": "code",
   "execution_count": 131,
   "metadata": {
    "ExecuteTime": {
     "end_time": "2019-02-02T10:33:04.390207Z",
     "start_time": "2019-02-02T10:33:04.385380Z"
    }
   },
   "outputs": [
    {
     "name": "stdout",
     "output_type": "stream",
     "text": [
      "<class 'bool'>\n"
     ]
    }
   ],
   "source": [
    "t, f = True, False\n",
    "print(type(t)) # Prints \"<type 'bool'>\""
   ]
  },
  {
   "cell_type": "markdown",
   "metadata": {},
   "source": [
    "Yes, we can assign like that :D"
   ]
  },
  {
   "cell_type": "code",
   "execution_count": 132,
   "metadata": {
    "ExecuteTime": {
     "end_time": "2019-02-02T10:33:05.339724Z",
     "start_time": "2019-02-02T10:33:05.334583Z"
    }
   },
   "outputs": [],
   "source": [
    "a = 1\n",
    "b = 2"
   ]
  },
  {
   "cell_type": "code",
   "execution_count": 133,
   "metadata": {
    "ExecuteTime": {
     "end_time": "2019-02-02T10:33:06.419349Z",
     "start_time": "2019-02-02T10:33:06.413749Z"
    }
   },
   "outputs": [],
   "source": [
    "a,b = b,a"
   ]
  },
  {
   "cell_type": "code",
   "execution_count": 134,
   "metadata": {
    "ExecuteTime": {
     "end_time": "2019-02-02T10:33:07.398028Z",
     "start_time": "2019-02-02T10:33:07.393583Z"
    }
   },
   "outputs": [
    {
     "name": "stdout",
     "output_type": "stream",
     "text": [
      "2 1\n"
     ]
    }
   ],
   "source": [
    "print(a,b)"
   ]
  },
  {
   "cell_type": "markdown",
   "metadata": {},
   "source": [
    "Now we let's look at the operations:"
   ]
  },
  {
   "cell_type": "code",
   "execution_count": 135,
   "metadata": {
    "ExecuteTime": {
     "end_time": "2019-02-02T10:33:08.279235Z",
     "start_time": "2019-02-02T10:33:08.274225Z"
    }
   },
   "outputs": [
    {
     "name": "stdout",
     "output_type": "stream",
     "text": [
      "False\n",
      "True\n",
      "False\n",
      "True\n"
     ]
    }
   ],
   "source": [
    "print(t and f) # Logical AND;\n",
    "print(t or f)  # Logical OR;\n",
    "print(not t)   # Logical NOT;\n",
    "print(t != f)  # Logical XOR;"
   ]
  },
  {
   "cell_type": "markdown",
   "metadata": {},
   "source": [
    "#### Strings"
   ]
  },
  {
   "cell_type": "code",
   "execution_count": 136,
   "metadata": {
    "ExecuteTime": {
     "end_time": "2019-02-02T10:33:11.049864Z",
     "start_time": "2019-02-02T10:33:11.042761Z"
    }
   },
   "outputs": [
    {
     "name": "stdout",
     "output_type": "stream",
     "text": [
      "hello\n"
     ]
    },
    {
     "data": {
      "text/plain": [
       "(None, 5)"
      ]
     },
     "execution_count": 136,
     "metadata": {},
     "output_type": "execute_result"
    }
   ],
   "source": [
    "hello = 'hello'   # String literals can use single quotes\n",
    "world = \"world\"   # or double quotes; it does not matter.\n",
    "print(hello), len(hello)"
   ]
  },
  {
   "cell_type": "code",
   "execution_count": 137,
   "metadata": {
    "ExecuteTime": {
     "end_time": "2019-02-02T10:33:12.332592Z",
     "start_time": "2019-02-02T10:33:12.328665Z"
    }
   },
   "outputs": [
    {
     "name": "stdout",
     "output_type": "stream",
     "text": [
      "hello world\n"
     ]
    }
   ],
   "source": [
    "hw = hello + ' ' + world  # String concatenation\n",
    "print(hw)  # prints \"hello world\""
   ]
  },
  {
   "cell_type": "markdown",
   "metadata": {},
   "source": [
    "String objects have a bunch of useful methods; for example:"
   ]
  },
  {
   "cell_type": "code",
   "execution_count": 138,
   "metadata": {
    "ExecuteTime": {
     "end_time": "2019-02-02T10:33:13.731119Z",
     "start_time": "2019-02-02T10:33:13.726477Z"
    }
   },
   "outputs": [
    {
     "name": "stdout",
     "output_type": "stream",
     "text": [
      "Hello\n",
      "HELLO\n",
      "  hello\n",
      " hello \n",
      "he(ell)(ell)o\n",
      "world\n"
     ]
    }
   ],
   "source": [
    "s = \"hello\"\n",
    "print(s.capitalize())  # Capitalize a string; prints \"Hello\"\n",
    "print(s.upper())       # Convert a string to uppercase; prints \"HELLO\"\n",
    "print(s.rjust(7))      # Right-justify a string, padding with spaces; prints \"  hello\"\n",
    "print(s.center(7))     # Center a string, padding with spaces; prints \" hello \"\n",
    "print(s.replace('l', '(ell)'))  # Replace all instances of one substring with another;\n",
    "                               # prints \"he(ell)(ell)o\"\n",
    "print('  world '.strip())  # Strip leading and trailing whitespace; prints \"world\""
   ]
  },
  {
   "cell_type": "markdown",
   "metadata": {},
   "source": [
    "You can find a list of all string methods in the [documentation](https://docs.python.org/2/library/stdtypes.html#string-methods)."
   ]
  },
  {
   "cell_type": "markdown",
   "metadata": {},
   "source": [
    "### Containers"
   ]
  },
  {
   "cell_type": "markdown",
   "metadata": {},
   "source": [
    "Python includes several built-in container types: lists, dictionaries, sets, and tuples."
   ]
  },
  {
   "cell_type": "markdown",
   "metadata": {},
   "source": [
    "#### Lists"
   ]
  },
  {
   "cell_type": "markdown",
   "metadata": {},
   "source": [
    "A list is the Python equivalent of an array, but is resizeable and can contain elements of different types:"
   ]
  },
  {
   "cell_type": "code",
   "execution_count": 139,
   "metadata": {
    "ExecuteTime": {
     "end_time": "2019-02-02T10:33:18.951399Z",
     "start_time": "2019-02-02T10:33:18.947258Z"
    }
   },
   "outputs": [
    {
     "name": "stdout",
     "output_type": "stream",
     "text": [
      "[3, 1, 2] 2\n",
      "2\n"
     ]
    }
   ],
   "source": [
    "xs = [3, 1, 2]   # Create a list\n",
    "print(xs, xs[2])\n",
    "print(xs[-1])     # Negative indices count from the end of the list; prints \"2\""
   ]
  },
  {
   "cell_type": "code",
   "execution_count": 140,
   "metadata": {
    "ExecuteTime": {
     "end_time": "2019-02-02T10:33:19.926490Z",
     "start_time": "2019-02-02T10:33:19.922220Z"
    }
   },
   "outputs": [
    {
     "name": "stdout",
     "output_type": "stream",
     "text": [
      "[3, 1, 'foo']\n"
     ]
    }
   ],
   "source": [
    "xs[2] = 'foo'    # Lists can contain elements of different types\n",
    "print(xs)\n"
   ]
  },
  {
   "cell_type": "code",
   "execution_count": 141,
   "metadata": {
    "ExecuteTime": {
     "end_time": "2019-02-02T10:33:20.905609Z",
     "start_time": "2019-02-02T10:33:20.899207Z"
    }
   },
   "outputs": [
    {
     "name": "stdout",
     "output_type": "stream",
     "text": [
      "[3, 1, 'foo', 'bar']\n"
     ]
    }
   ],
   "source": [
    "xs.append('bar') # Add a new element to the end of the list\n",
    "print(xs)"
   ]
  },
  {
   "cell_type": "code",
   "execution_count": 142,
   "metadata": {
    "ExecuteTime": {
     "end_time": "2019-02-02T10:33:21.865767Z",
     "start_time": "2019-02-02T10:33:21.854302Z"
    }
   },
   "outputs": [
    {
     "name": "stdout",
     "output_type": "stream",
     "text": [
      "bar [3, 1, 'foo']\n"
     ]
    }
   ],
   "source": [
    "x = xs.pop()     # Remove and return the last element of the list\n",
    "print(x, xs)"
   ]
  },
  {
   "cell_type": "markdown",
   "metadata": {},
   "source": [
    "As usual, you can find all the gory details about lists in the [documentation](https://docs.python.org/2/tutorial/datastructures.html#more-on-lists)."
   ]
  },
  {
   "cell_type": "markdown",
   "metadata": {},
   "source": [
    "#### Slicing"
   ]
  },
  {
   "cell_type": "markdown",
   "metadata": {},
   "source": [
    "In addition to accessing list elements one at a time, Python provides concise syntax to access sublists; this is known as slicing:"
   ]
  },
  {
   "cell_type": "code",
   "execution_count": 143,
   "metadata": {
    "ExecuteTime": {
     "end_time": "2019-02-02T10:33:23.343219Z",
     "start_time": "2019-02-02T10:33:23.337994Z"
    }
   },
   "outputs": [
    {
     "name": "stdout",
     "output_type": "stream",
     "text": [
      "[0, 1, 2, 3, 4]\n",
      "[2, 3]\n",
      "[2, 3, 4]\n",
      "[0, 1]\n",
      "[0, 1, 2, 3, 4]\n",
      "[0, 1, 2, 3]\n",
      "[0, 1, 8, 9, 4]\n"
     ]
    }
   ],
   "source": [
    "nums = list(range(5))    # range is a built-in function that creates a list of integers\n",
    "print(nums)         # Prints \"[0, 1, 2, 3, 4]\"\n",
    "print(nums[2:4])    # Get a slice from index 2 to 4 (exclusive); prints \"[2, 3]\"\n",
    "print(nums[2:])     # Get a slice from index 2 to the end; prints \"[2, 3, 4]\"\n",
    "print(nums[:2])     # Get a slice from the start to index 2 (exclusive); prints \"[0, 1]\"\n",
    "print(nums[:])      # Get a slice of the whole list; prints [\"0, 1, 2, 3, 4]\"\n",
    "print(nums[:-1])    # Slice indices can be negative; prints [\"0, 1, 2, 3]\"\n",
    "nums[2:4] = [8, 9] # Assign a new sublist to a slice\n",
    "print(nums)         # Prints \"[0, 1, 8, 9, 4]\""
   ]
  },
  {
   "cell_type": "markdown",
   "metadata": {},
   "source": [
    "#### Loops"
   ]
  },
  {
   "cell_type": "markdown",
   "metadata": {},
   "source": [
    "You can loop over the elements of a list like this:"
   ]
  },
  {
   "cell_type": "code",
   "execution_count": 144,
   "metadata": {
    "ExecuteTime": {
     "end_time": "2019-02-02T10:33:25.839179Z",
     "start_time": "2019-02-02T10:33:25.835235Z"
    }
   },
   "outputs": [
    {
     "name": "stdout",
     "output_type": "stream",
     "text": [
      "cat\n",
      "dog\n",
      "monkey\n"
     ]
    }
   ],
   "source": [
    "animals = ['cat', 'dog', 'monkey']\n",
    "for animal in animals:\n",
    "    print(animal)"
   ]
  },
  {
   "cell_type": "markdown",
   "metadata": {},
   "source": [
    "If you want access to the index of each element within the body of a loop, use the built-in `enumerate` function:"
   ]
  },
  {
   "cell_type": "code",
   "execution_count": 145,
   "metadata": {
    "ExecuteTime": {
     "end_time": "2019-02-02T10:33:27.051089Z",
     "start_time": "2019-02-02T10:33:27.047339Z"
    }
   },
   "outputs": [
    {
     "name": "stdout",
     "output_type": "stream",
     "text": [
      "#1: cat\n",
      "#2: dog\n",
      "#3: monkey\n"
     ]
    }
   ],
   "source": [
    "animals = ['cat', 'dog', 'monkey']\n",
    "for idx, animal in enumerate(animals):\n",
    "    print('#%d: %s' % (idx + 1, animal))"
   ]
  },
  {
   "cell_type": "markdown",
   "metadata": {},
   "source": [
    "#### List comprehensions:"
   ]
  },
  {
   "cell_type": "markdown",
   "metadata": {},
   "source": [
    "When programming, frequently we want to transform one type of data into another. As a simple example, consider the following code that computes square numbers:"
   ]
  },
  {
   "cell_type": "code",
   "execution_count": 150,
   "metadata": {
    "ExecuteTime": {
     "end_time": "2019-02-02T10:34:16.081885Z",
     "start_time": "2019-02-02T10:34:16.076952Z"
    }
   },
   "outputs": [
    {
     "name": "stdout",
     "output_type": "stream",
     "text": [
      "[0, 1, 4, 9, 16]\n"
     ]
    }
   ],
   "source": [
    "nums = [0, 1, 2, 3, 4]\n",
    "squares = []\n",
    "for x in nums:\n",
    "    squares.append(x ** 2)\n",
    "print(squares)"
   ]
  },
  {
   "cell_type": "markdown",
   "metadata": {},
   "source": [
    "You can make this code simpler using a list comprehension:"
   ]
  },
  {
   "cell_type": "markdown",
   "metadata": {},
   "source": [
    "List comprehensions also offer a small speedup."
   ]
  },
  {
   "cell_type": "code",
   "execution_count": 151,
   "metadata": {
    "ExecuteTime": {
     "end_time": "2019-02-02T10:34:17.081305Z",
     "start_time": "2019-02-02T10:34:17.077694Z"
    }
   },
   "outputs": [
    {
     "name": "stdout",
     "output_type": "stream",
     "text": [
      "[0, 1, 4, 9, 16]\n"
     ]
    }
   ],
   "source": [
    "squares = [x ** 2 for x in nums]\n",
    "print(squares)"
   ]
  },
  {
   "cell_type": "markdown",
   "metadata": {},
   "source": [
    "List comprehensions can also contain conditions:"
   ]
  },
  {
   "cell_type": "code",
   "execution_count": 153,
   "metadata": {
    "ExecuteTime": {
     "end_time": "2019-02-02T10:34:27.703215Z",
     "start_time": "2019-02-02T10:34:27.699160Z"
    }
   },
   "outputs": [
    {
     "name": "stdout",
     "output_type": "stream",
     "text": [
      "[0, 4, 16]\n"
     ]
    }
   ],
   "source": [
    "even_squares = [x ** 2 for x in nums if x % 2 == 0]\n",
    "print(even_squares)"
   ]
  },
  {
   "cell_type": "markdown",
   "metadata": {},
   "source": [
    "#### Dictionaries"
   ]
  },
  {
   "cell_type": "markdown",
   "metadata": {},
   "source": [
    "A dictionary stores (key, value) pairs, similar to a `Map` in Java or an object in Javascript. You can use it like this:"
   ]
  },
  {
   "cell_type": "code",
   "execution_count": 154,
   "metadata": {
    "ExecuteTime": {
     "end_time": "2019-02-02T10:34:39.886855Z",
     "start_time": "2019-02-02T10:34:39.882538Z"
    }
   },
   "outputs": [
    {
     "name": "stdout",
     "output_type": "stream",
     "text": [
      "cute\n",
      "True\n"
     ]
    }
   ],
   "source": [
    "d = {'cat': 'cute', 'dog': 'furry'}  # Create a new dictionary with some data\n",
    "print(d['cat'])       # Get an entry from a dictionary; prints \"cute\"\n",
    "print('cat' in d)     # Check if a dictionary has a given key; prints \"True\""
   ]
  },
  {
   "cell_type": "code",
   "execution_count": 155,
   "metadata": {
    "ExecuteTime": {
     "end_time": "2019-02-02T10:34:41.350267Z",
     "start_time": "2019-02-02T10:34:41.346473Z"
    }
   },
   "outputs": [
    {
     "name": "stdout",
     "output_type": "stream",
     "text": [
      "wet\n"
     ]
    }
   ],
   "source": [
    "d['fish'] = 'wet'    # Set an entry in a dictionary\n",
    "print(d['fish'])      # Prints \"wet\""
   ]
  },
  {
   "cell_type": "code",
   "execution_count": 156,
   "metadata": {
    "ExecuteTime": {
     "end_time": "2019-02-02T10:34:45.903765Z",
     "start_time": "2019-02-02T10:34:45.901138Z"
    }
   },
   "outputs": [],
   "source": [
    "del d['fish'] "
   ]
  },
  {
   "cell_type": "code",
   "execution_count": 157,
   "metadata": {
    "ExecuteTime": {
     "end_time": "2019-02-02T10:34:46.987611Z",
     "start_time": "2019-02-02T10:34:46.966633Z"
    }
   },
   "outputs": [
    {
     "ename": "KeyError",
     "evalue": "'monkey'",
     "output_type": "error",
     "traceback": [
      "\u001b[0;31m---------------------------------------------------------------------------\u001b[0m",
      "\u001b[0;31mKeyError\u001b[0m                                  Traceback (most recent call last)",
      "\u001b[0;32m<ipython-input-157-78fc9745d9cf>\u001b[0m in \u001b[0;36m<module>\u001b[0;34m()\u001b[0m\n\u001b[0;32m----> 1\u001b[0;31m \u001b[0mprint\u001b[0m\u001b[0;34m(\u001b[0m\u001b[0md\u001b[0m\u001b[0;34m[\u001b[0m\u001b[0;34m'monkey'\u001b[0m\u001b[0;34m]\u001b[0m\u001b[0;34m)\u001b[0m  \u001b[0;31m# KeyError: 'monkey' not a key of d\u001b[0m\u001b[0;34m\u001b[0m\u001b[0m\n\u001b[0m",
      "\u001b[0;31mKeyError\u001b[0m: 'monkey'"
     ]
    }
   ],
   "source": [
    "print(d['monkey'])  # KeyError: 'monkey' not a key of d"
   ]
  },
  {
   "cell_type": "code",
   "execution_count": 158,
   "metadata": {
    "ExecuteTime": {
     "end_time": "2019-02-02T10:34:49.755329Z",
     "start_time": "2019-02-02T10:34:49.751762Z"
    }
   },
   "outputs": [
    {
     "name": "stdout",
     "output_type": "stream",
     "text": [
      "None\n"
     ]
    }
   ],
   "source": [
    "print(d.get('monkey'))"
   ]
  },
  {
   "cell_type": "code",
   "execution_count": 159,
   "metadata": {
    "ExecuteTime": {
     "end_time": "2019-02-02T10:34:50.841152Z",
     "start_time": "2019-02-02T10:34:50.834684Z"
    }
   },
   "outputs": [
    {
     "name": "stdout",
     "output_type": "stream",
     "text": [
      "Not there :(\n",
      "You recently deleted it!\n"
     ]
    }
   ],
   "source": [
    "print(d.get('monkey', 'Not there :('))  # Get an element with a default; prints \"N/A\"\n",
    "print(d.get('fish', 'You recently deleted it!'))    # Get an element with a default; prints \"wet\""
   ]
  },
  {
   "cell_type": "markdown",
   "metadata": {},
   "source": [
    "You can find all you need to know about dictionaries in the [documentation](https://docs.python.org/2/library/stdtypes.html#dict)."
   ]
  },
  {
   "cell_type": "markdown",
   "metadata": {},
   "source": [
    "It is easy to iterate over the keys in a dictionary:"
   ]
  },
  {
   "cell_type": "code",
   "execution_count": 160,
   "metadata": {
    "ExecuteTime": {
     "end_time": "2019-02-02T10:34:55.017028Z",
     "start_time": "2019-02-02T10:34:55.012841Z"
    }
   },
   "outputs": [
    {
     "name": "stdout",
     "output_type": "stream",
     "text": [
      "A person has 2 legs\n",
      "A cat has 4 legs\n",
      "A spider has 8 legs\n"
     ]
    }
   ],
   "source": [
    "d = {'person': 2, 'cat': 4, 'spider': 8}\n",
    "for animal in d:\n",
    "    legs = d[animal]\n",
    "    print('A %s has %d legs' % (animal, legs))"
   ]
  },
  {
   "cell_type": "markdown",
   "metadata": {},
   "source": [
    "If you want access to keys and their corresponding values, use the iteritems method:"
   ]
  },
  {
   "cell_type": "code",
   "execution_count": 161,
   "metadata": {
    "ExecuteTime": {
     "end_time": "2019-02-02T10:35:00.612536Z",
     "start_time": "2019-02-02T10:35:00.609263Z"
    }
   },
   "outputs": [
    {
     "name": "stdout",
     "output_type": "stream",
     "text": [
      "dict_items([('person', 2), ('cat', 4), ('spider', 8)])\n"
     ]
    }
   ],
   "source": [
    "print(d.items())"
   ]
  },
  {
   "cell_type": "code",
   "execution_count": 162,
   "metadata": {
    "ExecuteTime": {
     "end_time": "2019-02-02T10:35:01.765702Z",
     "start_time": "2019-02-02T10:35:01.759768Z"
    }
   },
   "outputs": [
    {
     "name": "stdout",
     "output_type": "stream",
     "text": [
      "A person has 2 legs\n",
      "A cat has 4 legs\n",
      "A spider has 8 legs\n"
     ]
    }
   ],
   "source": [
    "d = {'person': 2, 'cat': 4, 'spider': 8}\n",
    "for animal, legs in d.items():\n",
    "    print('A %s has %d legs' % (animal, legs))"
   ]
  },
  {
   "cell_type": "markdown",
   "metadata": {},
   "source": [
    "Dictionary comprehensions: These are similar to list comprehensions, but allow you to easily construct dictionaries. For example:"
   ]
  },
  {
   "cell_type": "code",
   "execution_count": 163,
   "metadata": {
    "ExecuteTime": {
     "end_time": "2019-02-02T10:35:03.342555Z",
     "start_time": "2019-02-02T10:35:03.337805Z"
    }
   },
   "outputs": [
    {
     "name": "stdout",
     "output_type": "stream",
     "text": [
      "{0: 0, 2: 4, 4: 16}\n"
     ]
    }
   ],
   "source": [
    "nums = [0, 1, 2, 3, 4]\n",
    "even_num_to_square = {x: x ** 2 for x in nums if x % 2 == 0}\n",
    "print(even_num_to_square)"
   ]
  },
  {
   "cell_type": "markdown",
   "metadata": {},
   "source": [
    "#### Sets"
   ]
  },
  {
   "cell_type": "markdown",
   "metadata": {},
   "source": [
    "A set is an unordered collection of distinct elements. As a simple example, consider the following:"
   ]
  },
  {
   "cell_type": "code",
   "execution_count": 164,
   "metadata": {
    "ExecuteTime": {
     "end_time": "2019-02-02T10:35:04.946015Z",
     "start_time": "2019-02-02T10:35:04.941225Z"
    }
   },
   "outputs": [
    {
     "name": "stdout",
     "output_type": "stream",
     "text": [
      "True\n",
      "False\n"
     ]
    }
   ],
   "source": [
    "animals = {'cat', 'dog'}\n",
    "print('cat' in animals)   # Check if an element is in a set; prints \"True\"\n",
    "print('fish' in animals)  # prints \"False\""
   ]
  },
  {
   "cell_type": "code",
   "execution_count": 165,
   "metadata": {
    "ExecuteTime": {
     "end_time": "2019-02-02T10:35:05.039391Z",
     "start_time": "2019-02-02T10:35:05.035431Z"
    }
   },
   "outputs": [
    {
     "name": "stdout",
     "output_type": "stream",
     "text": [
      "True\n",
      "3\n"
     ]
    }
   ],
   "source": [
    "animals.add('fish')      # Add an element to a set\n",
    "print('fish' in animals)\n",
    "print(len(animals))       # Number of elements in a set;"
   ]
  },
  {
   "cell_type": "code",
   "execution_count": 166,
   "metadata": {
    "ExecuteTime": {
     "end_time": "2019-02-02T10:35:07.062289Z",
     "start_time": "2019-02-02T10:35:07.056862Z"
    }
   },
   "outputs": [
    {
     "name": "stdout",
     "output_type": "stream",
     "text": [
      "3\n",
      "2\n"
     ]
    }
   ],
   "source": [
    "animals.add('cat')       # Adding an element that is already in the set does nothing\n",
    "print(len(animals))       \n",
    "animals.remove('cat')    # Remove an element from a set\n",
    "print(len(animals))"
   ]
  },
  {
   "cell_type": "markdown",
   "metadata": {},
   "source": [
    "_Loops_: Iterating over a set has the same syntax as iterating over a list; however since sets are unordered, you cannot make assumptions about the order in which you visit the elements of the set:"
   ]
  },
  {
   "cell_type": "code",
   "execution_count": 167,
   "metadata": {
    "ExecuteTime": {
     "end_time": "2019-02-02T10:35:07.072939Z",
     "start_time": "2019-02-02T10:35:07.065694Z"
    }
   },
   "outputs": [
    {
     "name": "stdout",
     "output_type": "stream",
     "text": [
      "#1: fish\n",
      "#2: cat\n",
      "#3: dog\n"
     ]
    }
   ],
   "source": [
    "animals = {'cat', 'dog', 'fish'}\n",
    "for idx, animal in enumerate(animals):\n",
    "    print('#%d: %s' % (idx + 1, animal))\n",
    "# Prints \"#1: fish\", \"#2: dog\", \"#3: cat\""
   ]
  },
  {
   "cell_type": "markdown",
   "metadata": {},
   "source": [
    "Set comprehensions: Like lists and dictionaries, we can easily construct sets using set comprehensions:"
   ]
  },
  {
   "cell_type": "code",
   "execution_count": 168,
   "metadata": {
    "ExecuteTime": {
     "end_time": "2019-02-02T10:35:07.103352Z",
     "start_time": "2019-02-02T10:35:07.076751Z"
    }
   },
   "outputs": [
    {
     "name": "stdout",
     "output_type": "stream",
     "text": [
      "{0, 1, 2, 3, 4, 5}\n"
     ]
    }
   ],
   "source": [
    "from math import sqrt\n",
    "print({int(sqrt(x)) for x in list(range(30))})"
   ]
  },
  {
   "cell_type": "markdown",
   "metadata": {},
   "source": [
    "#### Tuples"
   ]
  },
  {
   "cell_type": "markdown",
   "metadata": {},
   "source": [
    "A tuple is an (immutable) ordered list of values. A tuple is in many ways similar to a list; one of the most important differences is that tuples can be used as keys in dictionaries and as elements of sets, while lists cannot. Here is a trivial example:"
   ]
  },
  {
   "cell_type": "code",
   "execution_count": 169,
   "metadata": {
    "ExecuteTime": {
     "end_time": "2019-02-02T10:35:09.949268Z",
     "start_time": "2019-02-02T10:35:09.942775Z"
    }
   },
   "outputs": [
    {
     "name": "stdout",
     "output_type": "stream",
     "text": [
      "<class 'tuple'>\n",
      "5\n",
      "1\n"
     ]
    }
   ],
   "source": [
    "d = {(x, x + 1): x for x in list(range(10))}  # Create a dictionary with tuple keys\n",
    "t = (5, 6)       # Create a tuple\n",
    "print(type(t))\n",
    "print(d[t])       \n",
    "print(d[(1, 2)])"
   ]
  },
  {
   "cell_type": "code",
   "execution_count": 177,
   "metadata": {
    "ExecuteTime": {
     "end_time": "2019-02-02T10:36:37.154085Z",
     "start_time": "2019-02-02T10:36:37.144169Z"
    }
   },
   "outputs": [
    {
     "ename": "TypeError",
     "evalue": "'tuple' object does not support item assignment",
     "output_type": "error",
     "traceback": [
      "\u001b[0;31m---------------------------------------------------------------------------\u001b[0m",
      "\u001b[0;31mTypeError\u001b[0m                                 Traceback (most recent call last)",
      "\u001b[0;32m<ipython-input-177-d123b68b0527>\u001b[0m in \u001b[0;36m<module>\u001b[0;34m()\u001b[0m\n\u001b[0;32m----> 1\u001b[0;31m \u001b[0mt\u001b[0m\u001b[0;34m[\u001b[0m\u001b[0;36m0\u001b[0m\u001b[0;34m]\u001b[0m \u001b[0;34m=\u001b[0m \u001b[0;36m1\u001b[0m \u001b[0;31m# Error because they are immutabLe\u001b[0m\u001b[0;34m\u001b[0m\u001b[0m\n\u001b[0m",
      "\u001b[0;31mTypeError\u001b[0m: 'tuple' object does not support item assignment"
     ]
    }
   ],
   "source": [
    "t[0] = 1 # Error because they are immutabLe"
   ]
  },
  {
   "cell_type": "markdown",
   "metadata": {
    "ExecuteTime": {
     "end_time": "2019-02-02T05:11:57.241955Z",
     "start_time": "2019-02-02T05:11:57.239532Z"
    }
   },
   "source": [
    "#### ZIP"
   ]
  },
  {
   "cell_type": "code",
   "execution_count": 4,
   "metadata": {
    "ExecuteTime": {
     "end_time": "2019-02-02T09:37:51.217868Z",
     "start_time": "2019-02-02T09:37:51.212708Z"
    }
   },
   "outputs": [
    {
     "name": "stdout",
     "output_type": "stream",
     "text": [
      "[(1, 'one'), (2, 'two'), (3, 'three')]\n"
     ]
    }
   ],
   "source": [
    "numbers = [1, 2, 3]\n",
    "words = ['one', 'two', 'three']\n",
    "\n",
    "# Two iterables are passed\n",
    "result = zip(numbers, words)\n",
    "\n",
    "# Converting itertor to set\n",
    "resultList = list(result)\n",
    "\n",
    "print(resultList)"
   ]
  },
  {
   "cell_type": "code",
   "execution_count": 5,
   "metadata": {
    "ExecuteTime": {
     "end_time": "2019-02-02T09:37:52.453192Z",
     "start_time": "2019-02-02T09:37:52.448528Z"
    }
   },
   "outputs": [
    {
     "name": "stdout",
     "output_type": "stream",
     "text": [
      "{(1, 'one'), (2, 'two')}\n",
      "{(1, 'one', 'ONE'), (2, 'two', 'TWO')}\n"
     ]
    }
   ],
   "source": [
    "numbers = [1, 2, 3]\n",
    "lower_words = ['one', 'two']\n",
    "upper_words = ('ONE', 'TWO', 'THREE', 'FOUR')\n",
    "\n",
    "result = zip(numbers, lower_words)\n",
    "\n",
    "# Converting to set\n",
    "resultSet = set(result)\n",
    "print(resultSet)\n",
    "\n",
    "result = zip(numbers, lower_words, upper_words)\n",
    "\n",
    "# Converting to set\n",
    "resultSet = set(result)\n",
    "print(resultSet)"
   ]
  },
  {
   "cell_type": "markdown",
   "metadata": {
    "ExecuteTime": {
     "end_time": "2019-02-02T05:12:25.785650Z",
     "start_time": "2019-02-02T05:12:25.783770Z"
    }
   },
   "source": [
    "#### UNZIP"
   ]
  },
  {
   "cell_type": "code",
   "execution_count": 6,
   "metadata": {
    "ExecuteTime": {
     "end_time": "2019-02-02T09:37:59.219231Z",
     "start_time": "2019-02-02T09:37:59.213808Z"
    }
   },
   "outputs": [
    {
     "name": "stdout",
     "output_type": "stream",
     "text": [
      "[('x', 3), ('y', 4), ('z', 5)]\n",
      "c = ('x', 'y', 'z')\n",
      "v = (3, 4, 5)\n"
     ]
    }
   ],
   "source": [
    "coordinate = ['x', 'y', 'z']\n",
    "value = [3, 4, 5, 0, 9]\n",
    "\n",
    "result = zip(coordinate, value)\n",
    "resultList = list(result)\n",
    "print(resultList)\n",
    "\n",
    "c, v =  zip(*resultList)\n",
    "print('c =', c)\n",
    "print('v =', v)"
   ]
  },
  {
   "cell_type": "markdown",
   "metadata": {},
   "source": [
    "### Functions"
   ]
  },
  {
   "cell_type": "markdown",
   "metadata": {},
   "source": [
    "Python functions are defined using the `def` keyword. For example:"
   ]
  },
  {
   "cell_type": "code",
   "execution_count": 178,
   "metadata": {
    "ExecuteTime": {
     "end_time": "2019-02-02T10:36:58.796163Z",
     "start_time": "2019-02-02T10:36:58.792087Z"
    }
   },
   "outputs": [
    {
     "name": "stdout",
     "output_type": "stream",
     "text": [
      "negative\n",
      "zero\n",
      "positive\n"
     ]
    }
   ],
   "source": [
    "def sign(x):\n",
    "    if x > 0:\n",
    "        return 'positive'\n",
    "    elif x < 0:\n",
    "        return 'negative'\n",
    "    else:\n",
    "        return 'zero'\n",
    "\n",
    "for x in [-1, 0, 1]:\n",
    "    print(sign(x))"
   ]
  },
  {
   "cell_type": "markdown",
   "metadata": {},
   "source": [
    "We will often define functions to take optional keyword arguments, like this:"
   ]
  },
  {
   "cell_type": "code",
   "execution_count": 179,
   "metadata": {
    "ExecuteTime": {
     "end_time": "2019-02-02T10:37:01.404372Z",
     "start_time": "2019-02-02T10:37:01.400424Z"
    }
   },
   "outputs": [
    {
     "name": "stdout",
     "output_type": "stream",
     "text": [
      "Hello, Bob!\n",
      "HELLO, FRED\n"
     ]
    }
   ],
   "source": [
    "def hello(name, loud=False):\n",
    "    if loud:\n",
    "        print('HELLO, %s' % name.upper())\n",
    "    else:\n",
    "        print('Hello, %s!' % name)\n",
    "\n",
    "hello('Bob')\n",
    "hello('Fred', loud=True)"
   ]
  },
  {
   "cell_type": "code",
   "execution_count": 180,
   "metadata": {
    "ExecuteTime": {
     "end_time": "2019-02-02T10:37:02.530469Z",
     "start_time": "2019-02-02T10:37:02.524464Z"
    }
   },
   "outputs": [],
   "source": [
    "def myFun(*argv):  \n",
    "    for arg in argv:  \n",
    "        print(arg) \n"
   ]
  },
  {
   "cell_type": "code",
   "execution_count": 181,
   "metadata": {
    "ExecuteTime": {
     "end_time": "2019-02-02T10:37:03.518670Z",
     "start_time": "2019-02-02T10:37:03.515105Z"
    }
   },
   "outputs": [
    {
     "name": "stdout",
     "output_type": "stream",
     "text": [
      "Welcome\n",
      " to \n",
      "CS F\n",
      "312\n"
     ]
    }
   ],
   "source": [
    "w = \"Welcome\"\n",
    "myFun(w, ' to ', 'CS F' , 312)  "
   ]
  },
  {
   "cell_type": "code",
   "execution_count": 182,
   "metadata": {
    "ExecuteTime": {
     "end_time": "2019-02-02T10:37:04.426433Z",
     "start_time": "2019-02-02T10:37:04.422277Z"
    }
   },
   "outputs": [],
   "source": [
    "def myFun(*argv):  \n",
    "    for arg in argv:  \n",
    "        print(arg,end='')"
   ]
  },
  {
   "cell_type": "code",
   "execution_count": 6,
   "metadata": {
    "ExecuteTime": {
     "end_time": "2019-02-02T09:37:59.219231Z",
     "start_time": "2019-02-02T09:37:59.213808Z"
    }
   },
   "outputs": [
    {
     "name": "stdout",
     "output_type": "stream",
     "text": [
      "[('x', 3), ('y', 4), ('z', 5)]\n",
      "c = ('x', 'y', 'z')\n",
      "v = (3, 4, 5)\n"
     ]
    }
   ],
   "source": [
    "coordinate = ['x', 'y', 'z']\n",
    "value = [3, 4, 5, 0, 9]\n",
    "\n",
    "result = zip(coordinate, value)\n",
    "resultList = list(result)\n",
    "print(resultList)\n",
    "\n",
    "c, v =  zip(*resultList)\n",
    "print('c =', c)\n",
    "print('v =', v)"
   ]
  },
  {
   "cell_type": "markdown",
   "metadata": {},
   "source": [
    "### Our Fancy Random Number Generator"
   ]
  },
  {
   "cell_type": "code",
   "execution_count": 2,
   "metadata": {
    "ExecuteTime": {
     "end_time": "2019-02-02T09:38:01.313090Z",
     "start_time": "2019-02-02T09:38:01.308495Z"
    }
   },
   "outputs": [],
   "source": [
    "M = 17969491597941066732916128449573246156367561808012600070888918835531726460341490933493372247868650755230855864199929221814436684722874052065257937495694348389263171152522525654410980819170611742509702440718010364831638288518852689\n",
    "def blum_blum_shub():\n",
    "    global M\n",
    "    x = 987654321\n",
    "    while True:\n",
    "        x =  (x**2)%M\n",
    "        yield round(x/M,3)\n",
    "        \n",
    "random = blum_blum_shub()"
   ]
  },
  {
   "cell_type": "markdown",
   "metadata": {},
   "source": [
    "# Load Existing Python File"
   ]
  },
  {
   "cell_type": "code",
   "execution_count": null,
   "metadata": {
    "ExecuteTime": {
     "end_time": "2019-02-02T10:37:34.687067Z",
     "start_time": "2019-02-02T10:37:34.681403Z"
    }
   },
   "outputs": [],
   "source": [
    "# %load a.py\n",
    "counter = 0\n",
    "def get():\n",
    "    global counter\n",
    "    counter += 1\n",
    "    return counter-1\n"
   ]
  },
  {
   "cell_type": "markdown",
   "metadata": {},
   "source": [
    "## Revisit Concepts using an Example"
   ]
  },
  {
   "cell_type": "code",
   "execution_count": 9,
   "metadata": {},
   "outputs": [
    {
     "name": "stdout",
     "output_type": "stream",
     "text": [
      "Collecting names\n",
      "  Using cached https://files.pythonhosted.org/packages/44/4e/f9cb7ef2df0250f4ba3334fbdabaa94f9c88097089763d8e85ada8092f84/names-0.3.0.tar.gz\n",
      "Building wheels for collected packages: names\n",
      "  Running setup.py bdist_wheel for names ... \u001b[?25ldone\n",
      "\u001b[?25h  Stored in directory: /Users/Vikram/Library/Caches/pip/wheels/f9/a5/e1/be3e0aaa6fa285575078fa2aafd9959b45bdbc8de8a6803aeb\n",
      "Successfully built names\n",
      "Installing collected packages: names\n",
      "Successfully installed names-0.3.0\n",
      "\u001b[33mYou are using pip version 18.1, however version 19.0.1 is available.\n",
      "You should consider upgrading via the 'pip install --upgrade pip' command.\u001b[0m\n"
     ]
    }
   ],
   "source": [
    "! pip install names\n"
   ]
  },
  {
   "cell_type": "code",
   "execution_count": 10,
   "metadata": {
    "ExecuteTime": {
     "end_time": "2019-02-02T10:38:17.058520Z",
     "start_time": "2019-02-02T10:38:17.031793Z"
    }
   },
   "outputs": [],
   "source": [
    "import names\n",
    "import csv\n",
    "import pickle \n",
    "import pandas as pd\n",
    "import matplotlib.pyplot as plt\n",
    "from functools import reduce\n",
    "%matplotlib inline\n",
    "\n",
    "def get_name():\n",
    "    return names.get_first_name()\n",
    "def range_random(l,u):\n",
    "    return round(l+(u-l)*next(random),3)"
   ]
  },
  {
   "cell_type": "markdown",
   "metadata": {},
   "source": [
    "## Definition of a Student"
   ]
  },
  {
   "cell_type": "code",
   "execution_count": 11,
   "metadata": {
    "ExecuteTime": {
     "end_time": "2019-02-02T10:38:18.434812Z",
     "start_time": "2019-02-02T10:38:18.431251Z"
    }
   },
   "outputs": [],
   "source": [
    "class Student():\n",
    "    name = None\n",
    "    age = None\n",
    "    gender = None\n",
    "    grade = None\n",
    "    def __init__(self, age, name, grade):\n",
    "        self.age = age\n",
    "        self.name = name\n",
    "        self.grade = grade"
   ]
  },
  {
   "cell_type": "markdown",
   "metadata": {},
   "source": [
    "## Definition of a EEE Student"
   ]
  },
  {
   "cell_type": "code",
   "execution_count": 12,
   "metadata": {
    "ExecuteTime": {
     "end_time": "2019-02-02T10:38:19.676834Z",
     "start_time": "2019-02-02T10:38:19.672847Z"
    }
   },
   "outputs": [],
   "source": [
    "class EEE_Student(Student):\n",
    "    \"\"\"\n",
    "    A EEE student: behaves exactly like a Student \n",
    "    but also has a special discipline class attribute and a couple courses\n",
    "    \"\"\"\n",
    "    discipline = \"A3\"\n",
    "    courses = [\"Control Systems, Optimisation\"]\n",
    "    def __init__(self, age, name):\n",
    "        super().__init__(age, name, range_random(5,9))"
   ]
  },
  {
   "cell_type": "markdown",
   "metadata": {},
   "source": [
    "## Definition of a CSE Student"
   ]
  },
  {
   "cell_type": "code",
   "execution_count": 13,
   "metadata": {
    "ExecuteTime": {
     "end_time": "2019-02-02T10:38:20.920738Z",
     "start_time": "2019-02-02T10:38:20.917037Z"
    }
   },
   "outputs": [],
   "source": [
    "class CSE_Student(Student):\n",
    "    \"\"\"\n",
    "    A CSE student: behaves exactly like a Student \n",
    "    but also has a special discipline class attribute and a couple courses\n",
    "    \"\"\"\n",
    "    discipline = \"A7\"\n",
    "    courses = [\"Data Structures, OOP\"]\n",
    "    def __init__(self, age, name):\n",
    "        super().__init__(age, name, range_random(6,10))"
   ]
  },
  {
   "cell_type": "markdown",
   "metadata": {},
   "source": [
    "__Generate List of Students__"
   ]
  },
  {
   "cell_type": "code",
   "execution_count": 14,
   "metadata": {
    "ExecuteTime": {
     "end_time": "2019-02-02T10:39:23.840230Z",
     "start_time": "2019-02-02T10:38:21.960103Z"
    }
   },
   "outputs": [],
   "source": [
    "cse_students = [CSE_Student(range_random(18,23), get_name()) for i in range(0,100000)]\n",
    "eee_students = [EEE_Student(range_random(18,23), get_name()) for i in range(0,100000)]"
   ]
  },
  {
   "cell_type": "code",
   "execution_count": 15,
   "metadata": {
    "ExecuteTime": {
     "end_time": "2019-02-02T10:39:24.810777Z",
     "start_time": "2019-02-02T10:39:24.799499Z"
    }
   },
   "outputs": [
    {
     "data": {
      "text/plain": [
       "100000"
      ]
     },
     "execution_count": 15,
     "metadata": {},
     "output_type": "execute_result"
    }
   ],
   "source": [
    "len(cse_students)"
   ]
  },
  {
   "cell_type": "code",
   "execution_count": 16,
   "metadata": {
    "ExecuteTime": {
     "end_time": "2019-02-02T10:39:25.833498Z",
     "start_time": "2019-02-02T10:39:25.825485Z"
    }
   },
   "outputs": [
    {
     "data": {
      "text/plain": [
       "100000"
      ]
     },
     "execution_count": 16,
     "metadata": {},
     "output_type": "execute_result"
    }
   ],
   "source": [
    "len(eee_students)"
   ]
  },
  {
   "cell_type": "markdown",
   "metadata": {},
   "source": [
    "__Concat List of Students__"
   ]
  },
  {
   "cell_type": "code",
   "execution_count": 17,
   "metadata": {
    "ExecuteTime": {
     "end_time": "2019-02-02T10:39:26.849594Z",
     "start_time": "2019-02-02T10:39:26.841235Z"
    }
   },
   "outputs": [],
   "source": [
    "all_students = cse_students+eee_students"
   ]
  },
  {
   "cell_type": "code",
   "execution_count": 18,
   "metadata": {
    "ExecuteTime": {
     "end_time": "2019-02-02T10:39:27.963331Z",
     "start_time": "2019-02-02T10:39:27.957174Z"
    }
   },
   "outputs": [
    {
     "data": {
      "text/plain": [
       "200000"
      ]
     },
     "execution_count": 18,
     "metadata": {},
     "output_type": "execute_result"
    }
   ],
   "source": [
    "len(all_students)"
   ]
  },
  {
   "cell_type": "markdown",
   "metadata": {
    "ExecuteTime": {
     "end_time": "2019-02-02T10:16:53.799439Z",
     "start_time": "2019-02-02T10:16:53.794662Z"
    }
   },
   "source": [
    "__Get Student Names with Count__"
   ]
  },
  {
   "cell_type": "code",
   "execution_count": 19,
   "metadata": {
    "ExecuteTime": {
     "end_time": "2019-02-02T10:39:28.978359Z",
     "start_time": "2019-02-02T10:39:28.860126Z"
    }
   },
   "outputs": [],
   "source": [
    "name_counts = {}\n",
    "def update_dict(name):\n",
    "    global name_counts\n",
    "    name_counts[name] = name_counts.get(name, 0)+1\n",
    "    \n",
    "compute_name_counts = list(map(lambda x: update_dict(x.name), all_students))"
   ]
  },
  {
   "cell_type": "code",
   "execution_count": 20,
   "metadata": {
    "ExecuteTime": {
     "end_time": "2019-02-02T10:39:31.624025Z",
     "start_time": "2019-02-02T10:39:31.598230Z"
    }
   },
   "outputs": [
    {
     "data": {
      "text/plain": [
       "{'Albert': 347,\n",
       " 'Steven': 851,\n",
       " 'Anne': 252,\n",
       " 'Tara': 118,\n",
       " 'Carol': 662,\n",
       " 'Elizabeth': 1009,\n",
       " 'Lynn': 207,\n",
       " 'Brenda': 484,\n",
       " 'Judy': 320,\n",
       " 'Alfredo': 64,\n",
       " 'Paula': 230,\n",
       " 'Annette': 132,\n",
       " 'John': 3680,\n",
       " 'Patricia': 1280,\n",
       " 'Arnold': 81,\n",
       " 'Roy': 309,\n",
       " 'Janie': 56,\n",
       " 'Josephine': 187,\n",
       " 'Joseph': 1613,\n",
       " 'Dan': 103,\n",
       " 'Theresa': 316,\n",
       " 'Tommie': 33,\n",
       " 'Jeffery': 207,\n",
       " 'Sherry': 187,\n",
       " 'Anthony': 884,\n",
       " 'Arlene': 88,\n",
       " 'Jeremy': 291,\n",
       " 'Todd': 233,\n",
       " 'Dale': 203,\n",
       " 'Roman': 29,\n",
       " 'Violette': 3,\n",
       " 'Ernest': 248,\n",
       " 'Mary': 2871,\n",
       " 'Drew': 30,\n",
       " 'Melinda': 112,\n",
       " 'Duane': 83,\n",
       " 'Katherine': 343,\n",
       " 'Arthur': 371,\n",
       " 'Sandra': 699,\n",
       " 'Bradley': 190,\n",
       " 'Cory': 87,\n",
       " 'Jason': 738,\n",
       " 'Elsie': 125,\n",
       " 'Cecile': 19,\n",
       " 'Juanita': 190,\n",
       " 'Jerry': 477,\n",
       " 'Timothy': 686,\n",
       " 'Andrea': 264,\n",
       " 'Willie': 407,\n",
       " 'Kathleen': 483,\n",
       " 'Candice': 55,\n",
       " 'Lauren': 179,\n",
       " 'Emory': 7,\n",
       " 'Rafael': 102,\n",
       " 'Randy': 276,\n",
       " 'Glen': 106,\n",
       " 'Augusta': 11,\n",
       " 'James': 3683,\n",
       " 'David': 2619,\n",
       " 'Terrance': 60,\n",
       " 'Edward': 832,\n",
       " 'Allen': 183,\n",
       " 'Patrick': 434,\n",
       " 'Donna': 624,\n",
       " 'Ruth': 630,\n",
       " 'Michelle': 592,\n",
       " 'Eva': 192,\n",
       " 'Betty': 695,\n",
       " 'Tonya': 132,\n",
       " 'Jennifer': 1087,\n",
       " 'Sylvia': 198,\n",
       " 'Ramona': 56,\n",
       " 'Cynthia': 544,\n",
       " 'Barbara': 1139,\n",
       " 'Travis': 199,\n",
       " 'Maxine': 78,\n",
       " 'Kenneth': 941,\n",
       " 'Maria': 938,\n",
       " 'Gary': 715,\n",
       " 'Esperanza': 27,\n",
       " 'Allie': 18,\n",
       " 'Jim': 121,\n",
       " 'Janice': 307,\n",
       " 'Mark': 1091,\n",
       " 'Terry': 455,\n",
       " 'Raymond': 532,\n",
       " 'Susan': 930,\n",
       " 'William': 2769,\n",
       " 'Larry': 665,\n",
       " 'Lola': 53,\n",
       " 'Frances': 422,\n",
       " 'Damien': 23,\n",
       " 'Frederick': 154,\n",
       " 'Donald': 1025,\n",
       " 'Nancy': 724,\n",
       " 'Brian': 858,\n",
       " 'Lesley': 28,\n",
       " 'Ashley': 365,\n",
       " 'Helen': 691,\n",
       " 'Guillermo': 32,\n",
       " 'Courtney': 125,\n",
       " 'Martha': 429,\n",
       " 'Katrina': 59,\n",
       " 'Jess': 24,\n",
       " 'Glenda': 94,\n",
       " 'Karen': 742,\n",
       " 'Paul': 1026,\n",
       " 'Rick': 102,\n",
       " 'Joann': 169,\n",
       " 'Richard': 1907,\n",
       " 'Tom': 136,\n",
       " 'Robert': 3530,\n",
       " 'Earl': 227,\n",
       " 'Angela': 497,\n",
       " 'Laura': 551,\n",
       " 'Philip': 219,\n",
       " 'April': 197,\n",
       " 'Eric': 620,\n",
       " 'Eleanor': 175,\n",
       " 'Jenny': 73,\n",
       " 'Jessica': 529,\n",
       " 'Ben': 89,\n",
       " 'Deborah': 575,\n",
       " 'Gabriel': 84,\n",
       " 'Thomas': 1526,\n",
       " 'Ralph': 297,\n",
       " 'Tiffany': 217,\n",
       " 'Anna': 490,\n",
       " 'Madonna': 8,\n",
       " 'Michael': 2884,\n",
       " 'Lillie': 111,\n",
       " 'Aaron': 257,\n",
       " 'Samuel': 348,\n",
       " 'George': 1016,\n",
       " 'Amelia': 54,\n",
       " 'Stacy': 160,\n",
       " 'Dennis': 442,\n",
       " 'Daniel': 1076,\n",
       " 'Cody': 66,\n",
       " 'Kim': 216,\n",
       " 'Olga': 88,\n",
       " 'Ellen': 207,\n",
       " 'Carolyn': 450,\n",
       " 'Leo': 116,\n",
       " 'Hazel': 158,\n",
       " 'Juan': 370,\n",
       " 'Charlotte': 183,\n",
       " 'Valerie': 175,\n",
       " 'Vivian': 148,\n",
       " 'Brady': 21,\n",
       " 'Natalie': 115,\n",
       " 'Virginia': 486,\n",
       " 'Harry': 261,\n",
       " 'Kathy': 337,\n",
       " 'Gail': 178,\n",
       " 'Nolan': 16,\n",
       " 'Kellie': 31,\n",
       " 'Francis': 187,\n",
       " 'Oma': 8,\n",
       " 'Lee': 270,\n",
       " 'Catherine': 446,\n",
       " 'Misti': 5,\n",
       " 'Ken': 52,\n",
       " 'Stephanie': 417,\n",
       " 'Edgar': 86,\n",
       " 'Don': 165,\n",
       " 'Joan': 340,\n",
       " 'Judith': 342,\n",
       " 'Diane': 417,\n",
       " 'Charlene': 94,\n",
       " 'Tracy': 273,\n",
       " 'Carmon': 2,\n",
       " 'Sheri': 51,\n",
       " 'Ned': 13,\n",
       " 'Megan': 154,\n",
       " 'Christopher': 1163,\n",
       " 'Ida': 143,\n",
       " 'Carl': 371,\n",
       " 'Meredith': 33,\n",
       " 'Concetta': 5,\n",
       " 'Adrian': 105,\n",
       " 'Cyrus': 7,\n",
       " 'Johnny': 212,\n",
       " 'Linda': 1155,\n",
       " 'Emanuel': 20,\n",
       " 'Ann': 389,\n",
       " 'Eileen': 119,\n",
       " 'Wayne': 286,\n",
       " 'Latisha': 17,\n",
       " 'Douglas': 402,\n",
       " 'Dorothy': 817,\n",
       " 'Christy': 88,\n",
       " 'Bernice': 129,\n",
       " 'Nora': 88,\n",
       " 'Wesley': 114,\n",
       " 'Vernon': 102,\n",
       " 'Robin': 272,\n",
       " 'Jeff': 200,\n",
       " 'Brittany': 145,\n",
       " 'Celeste': 25,\n",
       " 'Arnetta': 3,\n",
       " 'Russell': 242,\n",
       " 'Amy': 527,\n",
       " 'Emily': 220,\n",
       " 'Jeffrey': 632,\n",
       " 'Jorge': 108,\n",
       " 'Margaret': 915,\n",
       " 'Tamara': 106,\n",
       " 'Mike': 222,\n",
       " 'Danielle': 177,\n",
       " 'Angel': 116,\n",
       " 'Kelly': 371,\n",
       " 'Jonell': 4,\n",
       " 'Jerome': 135,\n",
       " 'Olivia': 53,\n",
       " 'Monique': 81,\n",
       " 'Clifford': 138,\n",
       " 'Kathryn': 270,\n",
       " 'Eve': 22,\n",
       " 'Irving': 27,\n",
       " 'Edith': 195,\n",
       " 'Mario': 143,\n",
       " 'Lacy': 16,\n",
       " 'Donnell': 14,\n",
       " 'Colleen': 89,\n",
       " 'Jimmie': 86,\n",
       " 'Candace': 49,\n",
       " 'Catarina': 8,\n",
       " 'Bruce': 285,\n",
       " 'Chris': 230,\n",
       " 'Jose': 715,\n",
       " 'Marilyn': 268,\n",
       " 'Cherie': 19,\n",
       " 'Shirley': 573,\n",
       " 'Ines': 7,\n",
       " 'Carlos': 276,\n",
       " 'Annie': 233,\n",
       " 'Sid': 3,\n",
       " 'Louise': 238,\n",
       " 'Lester': 90,\n",
       " 'Margurite': 2,\n",
       " 'Rosamond': 5,\n",
       " 'Georgina': 15,\n",
       " 'Gregory': 482,\n",
       " 'Jacob': 197,\n",
       " 'Lizzie': 13,\n",
       " 'Anastasia': 13,\n",
       " 'Joey': 58,\n",
       " 'June': 145,\n",
       " 'Easter': 10,\n",
       " 'Bessie': 103,\n",
       " 'Troy': 150,\n",
       " 'Kendall': 22,\n",
       " 'Sherri': 61,\n",
       " 'Tim': 111,\n",
       " 'Jody': 66,\n",
       " 'Marie': 450,\n",
       " 'Eugene': 256,\n",
       " 'Sara': 269,\n",
       " 'Peter': 418,\n",
       " 'Neal': 32,\n",
       " 'Tony': 221,\n",
       " 'Jane': 260,\n",
       " 'Rosie': 61,\n",
       " 'Thelma': 220,\n",
       " 'Kara': 48,\n",
       " 'Jack': 324,\n",
       " 'Joy': 95,\n",
       " 'Birdie': 4,\n",
       " 'Consuelo': 24,\n",
       " 'Billie': 110,\n",
       " 'Lori': 290,\n",
       " 'Alta': 19,\n",
       " 'Starla': 2,\n",
       " 'Leroy': 118,\n",
       " 'Robbie': 31,\n",
       " 'Winnie': 17,\n",
       " 'Josie': 38,\n",
       " 'Damon': 39,\n",
       " 'Tina': 253,\n",
       " 'Hattie': 51,\n",
       " 'Tommy': 122,\n",
       " 'Melba': 24,\n",
       " 'Mitchell': 66,\n",
       " 'Priscilla': 87,\n",
       " 'Sarah': 625,\n",
       " 'Nicole': 294,\n",
       " 'Christina': 304,\n",
       " 'Andres': 44,\n",
       " 'Adalberto': 8,\n",
       " 'Doris': 372,\n",
       " 'Hector': 91,\n",
       " 'Bert': 28,\n",
       " 'Alexandra': 41,\n",
       " 'Bianca': 18,\n",
       " 'Humberto': 23,\n",
       " 'Weldon': 8,\n",
       " 'Herbert': 159,\n",
       " 'Micheal': 137,\n",
       " 'Felix': 55,\n",
       " 'Lorraine': 166,\n",
       " 'Matthew': 710,\n",
       " 'Andre': 96,\n",
       " 'Marcie': 13,\n",
       " 'Rebecca': 500,\n",
       " 'Jill': 171,\n",
       " 'Charles': 1724,\n",
       " 'Janet': 428,\n",
       " 'Stephen': 562,\n",
       " 'Scott': 593,\n",
       " 'Cindy': 175,\n",
       " 'Danny': 220,\n",
       " 'Loretta': 131,\n",
       " 'Gladys': 212,\n",
       " 'Carla': 116,\n",
       " 'Joe': 353,\n",
       " 'Lisa': 801,\n",
       " 'Theodore': 116,\n",
       " 'Erin': 153,\n",
       " 'Ronald': 810,\n",
       " 'Addie': 30,\n",
       " 'Jennie': 82,\n",
       " 'Jonathan': 341,\n",
       " 'Lloyd': 125,\n",
       " 'Norma': 251,\n",
       " 'Woodrow': 23,\n",
       " 'Jamie': 286,\n",
       " 'Jordan': 76,\n",
       " 'Pearl': 109,\n",
       " 'Irma': 86,\n",
       " 'Cheryl': 348,\n",
       " 'Kimberly': 612,\n",
       " 'Francine': 28,\n",
       " 'Fred': 282,\n",
       " 'Elnora': 14,\n",
       " 'Harriet': 65,\n",
       " 'Kiera': 2,\n",
       " 'Lawrence': 323,\n",
       " 'Karl': 66,\n",
       " 'Becky': 70,\n",
       " 'Drucilla': 7,\n",
       " 'Daniella': 3,\n",
       " 'Toni': 71,\n",
       " 'Jocelyn': 30,\n",
       " 'Lucille': 176,\n",
       " 'Carmen': 215,\n",
       " 'Leanna': 12,\n",
       " 'Ela': 4,\n",
       " 'Shellie': 12,\n",
       " 'Cristy': 7,\n",
       " 'Debby': 13,\n",
       " 'Vicki': 111,\n",
       " 'Calvin': 129,\n",
       " 'Yolanda': 153,\n",
       " 'Richelle': 7,\n",
       " 'Marlene': 119,\n",
       " 'Bernadette': 41,\n",
       " 'Harold': 364,\n",
       " 'Ute': 2,\n",
       " 'Nicholas': 330,\n",
       " 'Paulina': 6,\n",
       " 'Adele': 26,\n",
       " 'Boyd': 22,\n",
       " 'Angelita': 7,\n",
       " 'Ruben': 82,\n",
       " 'Vincent': 182,\n",
       " 'Sharon': 570,\n",
       " 'Gloria': 368,\n",
       " 'Allison': 119,\n",
       " 'Hannelore': 1,\n",
       " 'Rosana': 1,\n",
       " 'Wilfred': 29,\n",
       " 'Antonio': 206,\n",
       " 'Stacey': 123,\n",
       " 'Danita': 13,\n",
       " 'Norman': 208,\n",
       " 'Barry': 151,\n",
       " 'Jamel': 14,\n",
       " 'Janina': 6,\n",
       " 'Brad': 56,\n",
       " 'Bobby': 254,\n",
       " 'Erica': 137,\n",
       " 'Niki': 9,\n",
       " 'Jean': 395,\n",
       " 'Jackie': 152,\n",
       " 'Joanna': 58,\n",
       " 'Lewis': 113,\n",
       " 'Wanda': 253,\n",
       " 'Shawn': 249,\n",
       " 'Carole': 74,\n",
       " 'Haywood': 6,\n",
       " 'Ladonna': 12,\n",
       " 'Agripina': 1,\n",
       " 'Victoria': 197,\n",
       " 'Janine': 27,\n",
       " 'Devon': 24,\n",
       " 'Rufus': 35,\n",
       " 'Floyd': 137,\n",
       " 'Eduardo': 48,\n",
       " 'Frank': 632,\n",
       " 'Lincoln': 10,\n",
       " 'Corinne': 27,\n",
       " 'Augustine': 18,\n",
       " 'Stefanie': 17,\n",
       " 'Opal': 54,\n",
       " 'Stella': 94,\n",
       " 'Amber': 163,\n",
       " 'Eula': 35,\n",
       " 'Bernarda': 1,\n",
       " 'Alexander': 147,\n",
       " 'May': 24,\n",
       " 'Marvin': 177,\n",
       " 'Alan': 215,\n",
       " 'Sergio': 54,\n",
       " 'Glenn': 196,\n",
       " 'Odessa': 23,\n",
       " 'Chad': 208,\n",
       " 'Chester': 101,\n",
       " 'Raul': 95,\n",
       " 'Toby': 33,\n",
       " 'Georgia': 112,\n",
       " 'Teresa': 332,\n",
       " 'Geraldine': 153,\n",
       " 'Debra': 446,\n",
       " 'Anita': 189,\n",
       " 'Gordon': 137,\n",
       " 'Dustin': 114,\n",
       " 'Rosa': 227,\n",
       " 'Marcus': 132,\n",
       " 'Gertrude': 122,\n",
       " 'Sterling': 14,\n",
       " 'Lucia': 31,\n",
       " 'Salvador': 61,\n",
       " 'Lara': 16,\n",
       " 'Rigoberto': 12,\n",
       " 'Roberta': 147,\n",
       " 'Bennie': 45,\n",
       " 'Otis': 41,\n",
       " 'Curtis': 213,\n",
       " 'Roger': 357,\n",
       " 'Ruby': 218,\n",
       " 'Wendy': 211,\n",
       " 'Ismael': 23,\n",
       " 'Benita': 15,\n",
       " 'Ila': 17,\n",
       " 'Kerry': 65,\n",
       " 'Delfina': 4,\n",
       " 'Claude': 72,\n",
       " 'Yun': 3,\n",
       " 'Leonard': 197,\n",
       " 'Madelyn': 12,\n",
       " 'Jami': 13,\n",
       " 'Homer': 51,\n",
       " 'Steve': 301,\n",
       " 'Alvin': 100,\n",
       " 'Kandra': 1,\n",
       " 'Pamela': 465,\n",
       " 'Carmel': 7,\n",
       " 'Ronnie': 147,\n",
       " 'Rachel': 277,\n",
       " 'Lillian': 226,\n",
       " 'Elsa': 29,\n",
       " 'Graham': 14,\n",
       " 'Federico': 9,\n",
       " 'Rose': 361,\n",
       " 'Cruz': 11,\n",
       " 'Saundra': 14,\n",
       " 'Nelson': 60,\n",
       " 'Tracey': 85,\n",
       " 'Tamra': 12,\n",
       " 'Mildred': 328,\n",
       " 'Rhonda': 188,\n",
       " 'Bernard': 132,\n",
       " 'Dave': 62,\n",
       " 'Angelina': 33,\n",
       " 'Kevin': 694,\n",
       " 'Sonia': 63,\n",
       " 'Kristen': 149,\n",
       " 'Lissette': 5,\n",
       " 'Violet': 62,\n",
       " 'Christi': 25,\n",
       " 'Quincy': 15,\n",
       " 'Ada': 72,\n",
       " 'Deanna': 74,\n",
       " 'Bridgette': 19,\n",
       " 'Florence': 225,\n",
       " 'Julie': 361,\n",
       " 'Joanne': 155,\n",
       " 'Jaime': 109,\n",
       " 'Claire': 71,\n",
       " 'Malcolm': 45,\n",
       " 'Leon': 135,\n",
       " 'Charline': 6,\n",
       " 'Austin': 58,\n",
       " 'Darryl': 70,\n",
       " 'Justin': 318,\n",
       " 'Forrest': 32,\n",
       " 'Lottie': 30,\n",
       " 'Hannah': 58,\n",
       " 'Melissa': 508,\n",
       " 'Alissa': 15,\n",
       " 'Ricky': 142,\n",
       " 'Bonnie': 260,\n",
       " 'Brett': 106,\n",
       " 'Dalia': 8,\n",
       " 'Leigh': 44,\n",
       " 'Jimmy': 211,\n",
       " 'Jodie': 23,\n",
       " 'Monika': 7,\n",
       " 'Andrew': 602,\n",
       " 'August': 13,\n",
       " 'Bill': 115,\n",
       " 'Alex': 127,\n",
       " 'Luz': 55,\n",
       " 'Nina': 61,\n",
       " 'Dora': 97,\n",
       " 'Martin': 241,\n",
       " 'Walter': 437,\n",
       " 'Gwendolyn': 88,\n",
       " 'Ella': 117,\n",
       " 'Misty': 65,\n",
       " 'Gisela': 8,\n",
       " 'Phyllis': 253,\n",
       " 'Dominick': 14,\n",
       " 'Patrica': 28,\n",
       " 'Emil': 24,\n",
       " 'Marcos': 24,\n",
       " 'Brandon': 294,\n",
       " 'Laurie': 134,\n",
       " 'Jacquelyn': 46,\n",
       " 'Joel': 206,\n",
       " 'Gilbert': 94,\n",
       " 'Debbra': 4,\n",
       " 'Benjamin': 313,\n",
       " 'Kristopher': 30,\n",
       " 'Darrell': 133,\n",
       " 'Marcia': 114,\n",
       " 'Sue': 119,\n",
       " 'Rosetta': 29,\n",
       " 'Destiny': 11,\n",
       " 'Shizuko': 2,\n",
       " 'Nettie': 29,\n",
       " 'Malika': 4,\n",
       " 'Leila': 18,\n",
       " 'Regina': 148,\n",
       " 'Luke': 43,\n",
       " 'Rudolf': 8,\n",
       " 'Sadie': 44,\n",
       " 'Avery': 17,\n",
       " 'Edwin': 163,\n",
       " 'Jeremiah': 45,\n",
       " 'Alicia': 162,\n",
       " 'Damian': 17,\n",
       " 'Deangelo': 8,\n",
       " 'Grace': 186,\n",
       " 'Victor': 238,\n",
       " 'Aron': 2,\n",
       " 'Nadine': 38,\n",
       " 'Ricardo': 106,\n",
       " 'Theo': 9,\n",
       " 'Vanessa': 116,\n",
       " 'Adrianne': 6,\n",
       " 'Jessie': 195,\n",
       " 'Caroline': 99,\n",
       " 'Gerald': 337,\n",
       " 'Aurelia': 12,\n",
       " 'Randall': 137,\n",
       " 'Reggie': 13,\n",
       " 'Jesse': 227,\n",
       " 'Angie': 66,\n",
       " 'Sharonda': 4,\n",
       " 'Reynaldo': 20,\n",
       " 'Cameron': 40,\n",
       " 'Meghan': 33,\n",
       " 'Blaine': 20,\n",
       " 'Stanley': 224,\n",
       " 'Gaynell': 3,\n",
       " 'Josue': 6,\n",
       " 'Deandrea': 1,\n",
       " 'Robt': 6,\n",
       " 'Tabitha': 41,\n",
       " 'Gayle': 52,\n",
       " 'Jon': 121,\n",
       " 'Tasha': 34,\n",
       " 'Geneva': 61,\n",
       " 'Lois': 224,\n",
       " 'Ray': 177,\n",
       " 'Jeanne': 131,\n",
       " 'Kurt': 65,\n",
       " 'Shannon': 254,\n",
       " 'Alfred': 152,\n",
       " 'Beckie': 4,\n",
       " 'Heather': 323,\n",
       " 'Howard': 242,\n",
       " 'Rosalind': 20,\n",
       " 'Dorthea': 5,\n",
       " 'Teri': 38,\n",
       " 'Terrence': 56,\n",
       " 'Manuel': 221,\n",
       " 'Santos': 28,\n",
       " 'Ora': 31,\n",
       " 'Erik': 75,\n",
       " 'Denise': 276,\n",
       " 'Tammy': 294,\n",
       " 'Diana': 241,\n",
       " 'Cathleen': 16,\n",
       " 'Corina': 10,\n",
       " 'Ollie': 42,\n",
       " 'Henry': 417,\n",
       " 'Mathew': 76,\n",
       " 'Luther': 54,\n",
       " 'Nathaniel': 99,\n",
       " 'Clarence': 222,\n",
       " 'Crystal': 269,\n",
       " 'Cecil': 98,\n",
       " 'Angelia': 18,\n",
       " 'Christine': 400,\n",
       " 'Virgie': 22,\n",
       " 'Beulah': 43,\n",
       " 'Marion': 199,\n",
       " 'Lena': 102,\n",
       " 'Renee': 152,\n",
       " 'Darius': 17,\n",
       " 'Tawana': 7,\n",
       " 'Darlene': 148,\n",
       " 'Gladis': 5,\n",
       " 'Billy': 289,\n",
       " 'Chuck': 21,\n",
       " 'Jeanine': 19,\n",
       " 'Hee': 1,\n",
       " 'Rachael': 43,\n",
       " 'Nellie': 114,\n",
       " 'Naida': 2,\n",
       " 'Rusty': 8,\n",
       " 'Pam': 54,\n",
       " 'Marshall': 53,\n",
       " 'Luis': 239,\n",
       " 'Velma': 78,\n",
       " 'Claudia': 92,\n",
       " 'Lynda': 43,\n",
       " 'Veronica': 165,\n",
       " 'Carrie': 195,\n",
       " 'Randee': 4,\n",
       " 'Felipe': 37,\n",
       " 'Alberta': 72,\n",
       " 'Elaine': 190,\n",
       " 'Leola': 26,\n",
       " 'Alessandra': 1,\n",
       " 'Leslie': 234,\n",
       " 'Dwayne': 74,\n",
       " 'Dawn': 229,\n",
       " 'Eddie': 164,\n",
       " 'Irene': 282,\n",
       " 'Marylin': 3,\n",
       " 'Wallace': 63,\n",
       " 'Percy': 24,\n",
       " 'Shauna': 19,\n",
       " 'Ian': 62,\n",
       " 'Pauline': 185,\n",
       " 'Ryan': 383,\n",
       " 'Melvin': 174,\n",
       " 'Marc': 92,\n",
       " 'Kala': 2,\n",
       " 'Dana': 170,\n",
       " 'Thurman': 15,\n",
       " 'Marjorie': 183,\n",
       " 'Dane': 13,\n",
       " 'Wilson': 38,\n",
       " 'Beverly': 296,\n",
       " 'Latonia': 2,\n",
       " 'Jesus': 193,\n",
       " 'Patsy': 91,\n",
       " 'Celestine': 7,\n",
       " 'Grant': 46,\n",
       " 'Maxwell': 14,\n",
       " 'Stormy': 1,\n",
       " 'Everett': 52,\n",
       " 'Faith': 45,\n",
       " 'Marquetta': 4,\n",
       " 'Cheri': 35,\n",
       " 'Art': 14,\n",
       " 'Craig': 218,\n",
       " 'Dolores': 137,\n",
       " 'Romaine': 2,\n",
       " 'Alda': 10,\n",
       " 'Ellis': 28,\n",
       " 'Pat': 63,\n",
       " 'Julee': 2,\n",
       " 'Lina': 14,\n",
       " 'Marsha': 79,\n",
       " 'Delores': 94,\n",
       " 'Jerilyn': 3,\n",
       " 'Beatrice': 141,\n",
       " 'Malka': 2,\n",
       " 'Mable': 35,\n",
       " 'Phillip': 211,\n",
       " 'Margie': 75,\n",
       " 'Terri': 126,\n",
       " 'Oliver': 60,\n",
       " 'Reva': 13,\n",
       " 'Angelic': 3,\n",
       " 'Cornelius': 16,\n",
       " 'Gilberto': 28,\n",
       " 'Daisy': 66,\n",
       " 'Chantel': 11,\n",
       " 'Jay': 147,\n",
       " 'Amanda': 438,\n",
       " 'Myriam': 6,\n",
       " 'Von': 2,\n",
       " 'Enedina': 9,\n",
       " 'Frankie': 49,\n",
       " 'Christena': 5,\n",
       " 'Elenor': 7,\n",
       " 'Cora': 64,\n",
       " 'Kristie': 35,\n",
       " 'Lonnie': 86,\n",
       " 'Bethany': 30,\n",
       " 'Autumn': 17,\n",
       " 'Josefina': 26,\n",
       " 'Penny': 77,\n",
       " 'Charlie': 120,\n",
       " 'Reanna': 2,\n",
       " 'Gina': 110,\n",
       " 'Iola': 7,\n",
       " 'Krystin': 2,\n",
       " 'Keith': 326,\n",
       " 'Dino': 9,\n",
       " 'Stacie': 27,\n",
       " 'Reyes': 7,\n",
       " 'Coleen': 9,\n",
       " 'Katie': 129,\n",
       " 'Ethel': 203,\n",
       " 'Miguel': 150,\n",
       " 'Teofila': 2,\n",
       " 'Lindsey': 66,\n",
       " 'Ina': 25,\n",
       " 'Gerard': 46,\n",
       " 'Kelvin': 49,\n",
       " 'Earlean': 1,\n",
       " 'Laticia': 4,\n",
       " 'Alejandro': 42,\n",
       " 'Alesia': 3,\n",
       " 'Ashton': 2,\n",
       " 'Fern': 22,\n",
       " 'Demetrius': 23,\n",
       " 'Veda': 4,\n",
       " 'Melody': 66,\n",
       " 'Marguerite': 69,\n",
       " 'Orville': 28,\n",
       " 'Kayla': 58,\n",
       " 'Kyle': 187,\n",
       " 'Evelyn': 361,\n",
       " 'Idalia': 6,\n",
       " 'Eleanora': 2,\n",
       " 'Clinton': 66,\n",
       " 'Harvey': 79,\n",
       " 'Vera': 124,\n",
       " 'Melanie': 121,\n",
       " 'Laurel': 15,\n",
       " 'Rodney': 223,\n",
       " 'Alton': 33,\n",
       " 'Joshua': 492,\n",
       " 'Christian': 81,\n",
       " 'Darren': 71,\n",
       " 'Elia': 8,\n",
       " 'Amos': 21,\n",
       " 'Bryon': 11,\n",
       " 'Patti': 43,\n",
       " 'Carlton': 32,\n",
       " 'Dusty': 7,\n",
       " 'Landon': 4,\n",
       " 'Mohammed': 8,\n",
       " 'Shelia': 45,\n",
       " 'Tisha': 8,\n",
       " 'Carmela': 28,\n",
       " 'Josh': 26,\n",
       " 'Eleanore': 9,\n",
       " 'Clair': 13,\n",
       " 'Gregg': 29,\n",
       " 'Isabel': 60,\n",
       " 'Hillary': 13,\n",
       " 'Jeannette': 54,\n",
       " 'Alice': 374,\n",
       " 'Ana': 126,\n",
       " 'Margo': 14,\n",
       " 'Michele': 156,\n",
       " 'Mariam': 4,\n",
       " 'Shari': 36,\n",
       " 'Jefferey': 8,\n",
       " 'Aleida': 1,\n",
       " 'Minnie': 93,\n",
       " 'Thaddeus': 15,\n",
       " 'Cecilia': 65,\n",
       " 'Cathy': 145,\n",
       " 'Susana': 24,\n",
       " 'Silvia': 42,\n",
       " 'Constance': 90,\n",
       " 'Robyn': 45,\n",
       " 'Alfonso': 35,\n",
       " 'Meagan': 13,\n",
       " 'Adam': 301,\n",
       " 'Lowell': 36,\n",
       " 'Peggy': 237,\n",
       " 'Hilda': 91,\n",
       " 'Maybelle': 3,\n",
       " 'Lynne': 54,\n",
       " 'Debbie': 154,\n",
       " 'Dean': 123,\n",
       " 'Juana': 49,\n",
       " 'Alberto': 67,\n",
       " 'Michaela': 6,\n",
       " 'Gustavo': 34,\n",
       " 'Darwin': 11,\n",
       " 'Suzanne': 165,\n",
       " 'Johnie': 10,\n",
       " 'Joyce': 401,\n",
       " 'Nathan': 199,\n",
       " 'Archie': 41,\n",
       " 'Sheryl': 60,\n",
       " 'Kerri': 33,\n",
       " 'Carolina': 32,\n",
       " 'Derek': 106,\n",
       " 'Wiley': 20,\n",
       " 'Lang': 3,\n",
       " 'Olive': 34,\n",
       " 'Brendon': 11,\n",
       " 'Guy': 59,\n",
       " 'Mickey': 18,\n",
       " 'Javier': 64,\n",
       " 'Andy': 60,\n",
       " 'Felicia': 78,\n",
       " 'Melina': 5,\n",
       " 'Monica': 206,\n",
       " 'Iva': 25,\n",
       " 'Louis': 266,\n",
       " 'Agustin': 10,\n",
       " 'Doretha': 13,\n",
       " 'Israel': 34,\n",
       " 'Monty': 11,\n",
       " 'Karin': 22,\n",
       " 'Vince': 14,\n",
       " 'Joesph': 17,\n",
       " 'Dianne': 80,\n",
       " 'Jamal': 13,\n",
       " 'Shawna': 30,\n",
       " 'Milton': 87,\n",
       " 'Moses': 16,\n",
       " 'Inger': 5,\n",
       " 'Derrick': 115,\n",
       " 'Corine': 20,\n",
       " 'Maureen': 92,\n",
       " 'Adriana': 27,\n",
       " 'Amie': 17,\n",
       " 'Ilda': 2,\n",
       " 'Jacqueline': 265,\n",
       " 'Oscar': 139,\n",
       " 'Eloise': 35,\n",
       " 'Mora': 1,\n",
       " 'Karla': 45,\n",
       " 'Donny': 9,\n",
       " 'Gabrielle': 18,\n",
       " 'Lydia': 97,\n",
       " 'Rudolph': 38,\n",
       " 'Chelsea': 37,\n",
       " 'Rebekah': 20,\n",
       " 'Suzette': 10,\n",
       " 'Janis': 31,\n",
       " 'Oliva': 2,\n",
       " 'Jeanette': 106,\n",
       " 'Horace': 34,\n",
       " 'Marge': 8,\n",
       " 'Julio': 72,\n",
       " 'Johanna': 34,\n",
       " 'Cyndi': 4,\n",
       " 'Spencer': 27,\n",
       " 'Gemma': 4,\n",
       " 'Felicita': 8,\n",
       " 'Molly': 72,\n",
       " 'Patty': 50,\n",
       " 'Maryann': 59,\n",
       " 'Kimberlee': 12,\n",
       " 'Meta': 9,\n",
       " 'Xavier': 15,\n",
       " 'Clara': 173,\n",
       " 'Rita': 243,\n",
       " 'Samantha': 130,\n",
       " 'Mozella': 1,\n",
       " 'Iesha': 5,\n",
       " 'Bernie': 10,\n",
       " 'Max': 68,\n",
       " 'Vicky': 46,\n",
       " 'Rona': 6,\n",
       " 'Juliana': 20,\n",
       " 'Blanca': 50,\n",
       " 'Elisabeth': 31,\n",
       " 'Vicente': 20,\n",
       " 'Holly': 155,\n",
       " 'Ron': 77,\n",
       " 'Alysia': 3,\n",
       " 'Sam': 91,\n",
       " 'Lorri': 4,\n",
       " 'Monserrate': 4,\n",
       " 'Randell': 14,\n",
       " 'In': 5,\n",
       " 'Caridad': 6,\n",
       " 'Shelly': 59,\n",
       " 'Cecily': 3,\n",
       " 'Pierre': 25,\n",
       " 'Margarita': 54,\n",
       " 'Jamila': 5,\n",
       " 'Bryan': 205,\n",
       " 'Georgette': 16,\n",
       " 'Joi': 9,\n",
       " 'Niesha': 1,\n",
       " 'Sonja': 33,\n",
       " 'Iris': 62,\n",
       " 'Donnie': 57,\n",
       " 'Leona': 73,\n",
       " 'Brooke': 34,\n",
       " 'Adela': 18,\n",
       " 'Polly': 35,\n",
       " 'Audrey': 137,\n",
       " 'Sheila': 206,\n",
       " 'Isaiah': 15,\n",
       " 'Shane': 93,\n",
       " 'Deja': 4,\n",
       " 'Roberto': 110,\n",
       " 'Susanne': 14,\n",
       " 'Neville': 6,\n",
       " 'Clyde': 105,\n",
       " 'Ramon': 89,\n",
       " 'Vergie': 5,\n",
       " 'Bette': 33,\n",
       " 'Maggie': 61,\n",
       " 'Herman': 99,\n",
       " 'Willa': 11,\n",
       " 'Janelle': 22,\n",
       " 'Carmine': 6,\n",
       " 'Desiree': 46,\n",
       " 'Noelle': 9,\n",
       " 'Raquel': 26,\n",
       " 'Elisha': 15,\n",
       " 'Else': 2,\n",
       " 'Magdalena': 19,\n",
       " 'Morris': 51,\n",
       " 'Faustino': 10,\n",
       " 'Tiffiny': 5,\n",
       " 'Aurelio': 9,\n",
       " 'Clay': 26,\n",
       " 'Tyler': 109,\n",
       " 'Shaunte': 1,\n",
       " 'Armando': 70,\n",
       " 'Seth': 47,\n",
       " 'Rae': 11,\n",
       " 'Rickey': 58,\n",
       " 'Estelle': 38,\n",
       " 'Shona': 10,\n",
       " 'Mallory': 21,\n",
       " 'Franklin': 93,\n",
       " 'Mariana': 11,\n",
       " 'Harris': 15,\n",
       " 'Trisha': 23,\n",
       " 'Levi': 34,\n",
       " 'Galen': 11,\n",
       " 'Nita': 15,\n",
       " 'Amira': 3,\n",
       " 'Jasmine': 32,\n",
       " 'Elmer': 70,\n",
       " 'Lorenzo': 44,\n",
       " 'Thomasina': 3,\n",
       " 'Lyle': 41,\n",
       " 'Caitlin': 27,\n",
       " 'Marianne': 38,\n",
       " 'Burt': 8,\n",
       " 'Arden': 8,\n",
       " 'Jayne': 22,\n",
       " 'Julianne': 15,\n",
       " 'Earnestine': 11,\n",
       " 'Cassandra': 72,\n",
       " 'Dixie': 29,\n",
       " 'Fernando': 82,\n",
       " 'Alexis': 53,\n",
       " 'Precious': 4,\n",
       " 'Isabella': 13,\n",
       " 'Kristan': 3,\n",
       " 'Beth': 125,\n",
       " 'Dexter': 31,\n",
       " 'Hallie': 8,\n",
       " 'Kay': 59,\n",
       " 'Enrique': 49,\n",
       " 'Ferdinand': 10,\n",
       " 'Goldie': 23,\n",
       " 'Jeanna': 7,\n",
       " 'Venessa': 9,\n",
       " 'Noel': 39,\n",
       " 'Leticia': 50,\n",
       " 'Abbie': 9,\n",
       " 'Bradly': 6,\n",
       " 'Clifton': 47,\n",
       " 'Mellissa': 7,\n",
       " ...}"
      ]
     },
     "execution_count": 20,
     "metadata": {},
     "output_type": "execute_result"
    }
   ],
   "source": [
    "name_counts"
   ]
  },
  {
   "cell_type": "code",
   "execution_count": 21,
   "metadata": {
    "ExecuteTime": {
     "end_time": "2019-02-02T10:39:30.743002Z",
     "start_time": "2019-02-02T10:39:30.739992Z"
    }
   },
   "outputs": [],
   "source": [
    "## The following line will take a long time to compute, can you guess why?\n",
    "# name_repeats = reduce(lambda new_dict,x: dict(list(new_dict.items())+[(x.name,new_dict.get(x.name,0)+1)]), all_students, {} )"
   ]
  },
  {
   "cell_type": "markdown",
   "metadata": {},
   "source": [
    "## Get List of Students Containing Unique Names"
   ]
  },
  {
   "cell_type": "markdown",
   "metadata": {},
   "source": [
    "__A Purely Imperative Approach__"
   ]
  },
  {
   "cell_type": "code",
   "execution_count": 22,
   "metadata": {
    "ExecuteTime": {
     "end_time": "2019-02-02T10:39:32.620554Z",
     "start_time": "2019-02-02T10:39:32.572628Z"
    }
   },
   "outputs": [],
   "source": [
    "unique_names = set()\n",
    "students_with_unique_names = []\n",
    "for student in all_students:\n",
    "    if student.name in unique_names:\n",
    "        continue\n",
    "    students_with_unique_names.append(student)\n",
    "    unique_names.add(student.name)"
   ]
  },
  {
   "cell_type": "code",
   "execution_count": 23,
   "metadata": {
    "ExecuteTime": {
     "end_time": "2019-02-02T10:39:33.511545Z",
     "start_time": "2019-02-02T10:39:33.504734Z"
    }
   },
   "outputs": [
    {
     "data": {
      "text/plain": [
       "4674"
      ]
     },
     "execution_count": 23,
     "metadata": {},
     "output_type": "execute_result"
    }
   ],
   "source": [
    "len(students_with_unique_names)"
   ]
  },
  {
   "cell_type": "markdown",
   "metadata": {},
   "source": [
    "__Alternate Approch w/ Functional Operators__"
   ]
  },
  {
   "cell_type": "code",
   "execution_count": 28,
   "metadata": {
    "ExecuteTime": {
     "end_time": "2019-02-02T10:39:34.772073Z",
     "start_time": "2019-02-02T10:39:34.685182Z"
    }
   },
   "outputs": [],
   "source": [
    "''' map out the features/parameters which need to be evaluated upon '''\n",
    "student_and_names = dict(map(lambda x: (x.name, x), all_students))\n",
    "\n",
    "''' remap the set of names to a list of student objects '''\n",
    "uniquely_named_students = list(map(lambda x: student_and_names[x], student_and_names))"
   ]
  },
  {
   "cell_type": "code",
   "execution_count": 29,
   "metadata": {
    "ExecuteTime": {
     "end_time": "2019-02-02T10:39:35.750316Z",
     "start_time": "2019-02-02T10:39:35.744514Z"
    }
   },
   "outputs": [
    {
     "name": "stdout",
     "output_type": "stream",
     "text": [
      "4674\n"
     ]
    }
   ],
   "source": [
    "print(len(uniquely_named_students))"
   ]
  },
  {
   "cell_type": "markdown",
   "metadata": {},
   "source": [
    "## Get a Sorted List of Students with CG > 9.5"
   ]
  },
  {
   "cell_type": "markdown",
   "metadata": {},
   "source": [
    "__Approach 1: Filter followed by Sort__"
   ]
  },
  {
   "cell_type": "code",
   "execution_count": 119,
   "metadata": {
    "ExecuteTime": {
     "end_time": "2019-02-02T10:23:17.560617Z",
     "start_time": "2019-02-02T10:23:17.510542Z"
    }
   },
   "outputs": [],
   "source": [
    "meritorious_students = list(filter(lambda x: x.grade>9.5, all_students))\n",
    "sorted_meritorious_students1 = sorted(meritorious_students, key=lambda x:x.grade, reverse=True)"
   ]
  },
  {
   "cell_type": "markdown",
   "metadata": {},
   "source": [
    "__Approach 2: Sort followed by Filter__"
   ]
  },
  {
   "cell_type": "code",
   "execution_count": 121,
   "metadata": {
    "ExecuteTime": {
     "end_time": "2019-02-02T10:23:31.155895Z",
     "start_time": "2019-02-02T10:23:30.958088Z"
    }
   },
   "outputs": [],
   "source": [
    "sorted_students = sorted(all_students, key=lambda x:x.grade, reverse=True)\n",
    "sorted_meritorious_students2 = list(filter(lambda x: x.grade>9.5, sorted_students))"
   ]
  },
  {
   "cell_type": "markdown",
   "metadata": {
    "ExecuteTime": {
     "end_time": "2019-02-02T10:24:03.895844Z",
     "start_time": "2019-02-02T10:24:03.893276Z"
    }
   },
   "source": [
    "*Why did the first approach take less time?*"
   ]
  },
  {
   "cell_type": "markdown",
   "metadata": {},
   "source": [
    "## Compare the Average Grade of CSE Students and EEE Students"
   ]
  },
  {
   "cell_type": "code",
   "execution_count": 23,
   "metadata": {
    "ExecuteTime": {
     "end_time": "2019-02-02T05:24:46.337044Z",
     "start_time": "2019-02-02T05:24:46.075788Z"
    }
   },
   "outputs": [],
   "source": [
    "cse_average_grade = reduce(lambda x,y: x+y,map(lambda x: x.grade, filter(lambda x: x.discipline==\"A7\", all_students)))/len(cse_students)"
   ]
  },
  {
   "cell_type": "code",
   "execution_count": 24,
   "metadata": {
    "ExecuteTime": {
     "end_time": "2019-02-02T05:24:46.480000Z",
     "start_time": "2019-02-02T05:24:46.338346Z"
    }
   },
   "outputs": [
    {
     "data": {
      "text/plain": [
       "8.00307507999992"
      ]
     },
     "execution_count": 24,
     "metadata": {},
     "output_type": "execute_result"
    }
   ],
   "source": [
    "cse_average_grade"
   ]
  },
  {
   "cell_type": "code",
   "execution_count": 25,
   "metadata": {
    "ExecuteTime": {
     "end_time": "2019-02-02T05:24:46.736017Z",
     "start_time": "2019-02-02T05:24:46.481851Z"
    }
   },
   "outputs": [],
   "source": [
    "eee_average_grade = reduce(lambda x,y:(\"\",x[1]+y[1]), filter(lambda x: x[0]==\"A3\", map(lambda x:(x.discipline,x.grade),all_students)))[1]/len(eee_students)"
   ]
  },
  {
   "cell_type": "code",
   "execution_count": 26,
   "metadata": {
    "ExecuteTime": {
     "end_time": "2019-02-02T05:24:46.911237Z",
     "start_time": "2019-02-02T05:24:46.737321Z"
    }
   },
   "outputs": [
    {
     "data": {
      "text/plain": [
       "6.9982245599999535"
      ]
     },
     "execution_count": 26,
     "metadata": {},
     "output_type": "execute_result"
    }
   ],
   "source": [
    "eee_average_grade"
   ]
  },
  {
   "cell_type": "markdown",
   "metadata": {},
   "source": [
    "## CSV File"
   ]
  },
  {
   "cell_type": "code",
   "execution_count": 27,
   "metadata": {
    "ExecuteTime": {
     "end_time": "2019-02-02T05:24:47.364712Z",
     "start_time": "2019-02-02T05:24:46.913118Z"
    }
   },
   "outputs": [],
   "source": [
    "unrolled_data = list(map(lambda x: (x.name, x.discipline, x.grade, x.courses), all_students))"
   ]
  },
  {
   "cell_type": "code",
   "execution_count": 28,
   "metadata": {
    "ExecuteTime": {
     "end_time": "2019-02-02T05:24:47.670495Z",
     "start_time": "2019-02-02T05:24:47.368482Z"
    }
   },
   "outputs": [],
   "source": [
    "with open('students.csv', 'w') as studentsCsvFile:\n",
    "    writer = csv.writer(studentsCsvFile)\n",
    "    writer.writerow((\"Name\",\"Discipline\",\"Grade\",\"Courses\"))\n",
    "    writer.writerows(unrolled_data)"
   ]
  },
  {
   "cell_type": "markdown",
   "metadata": {},
   "source": [
    "## Pickle File"
   ]
  },
  {
   "cell_type": "code",
   "execution_count": 29,
   "metadata": {
    "ExecuteTime": {
     "end_time": "2019-02-02T05:24:47.961517Z",
     "start_time": "2019-02-02T05:24:47.672093Z"
    }
   },
   "outputs": [],
   "source": [
    "file = open('important', 'wb')\n",
    "\n",
    "pickle.dump(all_students,file)\n",
    "\n",
    "file.close()"
   ]
  },
  {
   "cell_type": "markdown",
   "metadata": {},
   "source": [
    "# Next Section"
   ]
  },
  {
   "cell_type": "markdown",
   "metadata": {
    "ExecuteTime": {
     "end_time": "2019-01-20T06:44:25.877279Z",
     "start_time": "2019-01-20T06:44:25.871606Z"
    }
   },
   "source": [
    "## Why NumPy"
   ]
  },
  {
   "cell_type": "markdown",
   "metadata": {},
   "source": [
    "### Lists vs Arrays\n",
    "\n"
   ]
  },
  {
   "cell_type": "code",
   "execution_count": 40,
   "metadata": {},
   "outputs": [],
   "source": [
    "import numpy as np\n",
    "\n",
    "list_1 = range(500000)\n",
    "list_2 = range(500000)\n",
    "\n",
    "array_1 = np.arange(500000)\n",
    "array_2 = np.arange(500000)"
   ]
  },
  {
   "cell_type": "markdown",
   "metadata": {},
   "source": [
    "We'll compare time taken for list operations and NumPy array operations"
   ]
  },
  {
   "cell_type": "code",
   "execution_count": 47,
   "metadata": {},
   "outputs": [
    {
     "name": "stdout",
     "output_type": "stream",
     "text": [
      "Time taken:  0.05448508262634277\n"
     ]
    }
   ],
   "source": [
    "import time\n",
    "\n",
    "start = time.time()\n",
    "\n",
    "sum_list = [a+b for a,b in zip(list_1,list_2)]\n",
    "\n",
    "end = time.time()\n",
    "\n",
    "print(\"Time taken: \",end - start)\n",
    "\n"
   ]
  },
  {
   "cell_type": "code",
   "execution_count": 48,
   "metadata": {},
   "outputs": [
    {
     "name": "stdout",
     "output_type": "stream",
     "text": [
      "Time taken:  0.0026819705963134766\n"
     ]
    }
   ],
   "source": [
    "start = time.time()\n",
    "\n",
    "sum_array = array_1 + array_2\n",
    "\n",
    "end = time.time()\n",
    "print(\"Time taken: \",end - start)\n",
    "\n"
   ]
  },
  {
   "cell_type": "markdown",
   "metadata": {},
   "source": [
    "***There's a significant difference in the two times (roughly a factor of 20)***"
   ]
  },
  {
   "cell_type": "markdown",
   "metadata": {},
   "source": [
    "## Why Pandas"
   ]
  },
  {
   "cell_type": "code",
   "execution_count": 201,
   "metadata": {
    "ExecuteTime": {
     "end_time": "2019-02-02T10:39:52.415462Z",
     "start_time": "2019-02-02T10:39:52.226078Z"
    }
   },
   "outputs": [
    {
     "data": {
      "text/html": [
       "<div>\n",
       "<style scoped>\n",
       "    .dataframe tbody tr th:only-of-type {\n",
       "        vertical-align: middle;\n",
       "    }\n",
       "\n",
       "    .dataframe tbody tr th {\n",
       "        vertical-align: top;\n",
       "    }\n",
       "\n",
       "    .dataframe thead th {\n",
       "        text-align: right;\n",
       "    }\n",
       "</style>\n",
       "<table border=\"1\" class=\"dataframe\">\n",
       "  <thead>\n",
       "    <tr style=\"text-align: right;\">\n",
       "      <th></th>\n",
       "      <th>Name</th>\n",
       "      <th>Discipline</th>\n",
       "      <th>Grade</th>\n",
       "      <th>Courses</th>\n",
       "    </tr>\n",
       "  </thead>\n",
       "  <tbody>\n",
       "    <tr>\n",
       "      <th>0</th>\n",
       "      <td>Linda</td>\n",
       "      <td>A7</td>\n",
       "      <td>6.000</td>\n",
       "      <td>['Data Structures, OOP']</td>\n",
       "    </tr>\n",
       "    <tr>\n",
       "      <th>1</th>\n",
       "      <td>Beatrice</td>\n",
       "      <td>A7</td>\n",
       "      <td>6.000</td>\n",
       "      <td>['Data Structures, OOP']</td>\n",
       "    </tr>\n",
       "    <tr>\n",
       "      <th>2</th>\n",
       "      <td>Shaun</td>\n",
       "      <td>A7</td>\n",
       "      <td>8.296</td>\n",
       "      <td>['Data Structures, OOP']</td>\n",
       "    </tr>\n",
       "    <tr>\n",
       "      <th>3</th>\n",
       "      <td>Rose</td>\n",
       "      <td>A7</td>\n",
       "      <td>8.232</td>\n",
       "      <td>['Data Structures, OOP']</td>\n",
       "    </tr>\n",
       "    <tr>\n",
       "      <th>4</th>\n",
       "      <td>Bryan</td>\n",
       "      <td>A7</td>\n",
       "      <td>7.760</td>\n",
       "      <td>['Data Structures, OOP']</td>\n",
       "    </tr>\n",
       "  </tbody>\n",
       "</table>\n",
       "</div>"
      ],
      "text/plain": [
       "       Name Discipline  Grade                   Courses\n",
       "0     Linda         A7  6.000  ['Data Structures, OOP']\n",
       "1  Beatrice         A7  6.000  ['Data Structures, OOP']\n",
       "2     Shaun         A7  8.296  ['Data Structures, OOP']\n",
       "3      Rose         A7  8.232  ['Data Structures, OOP']\n",
       "4     Bryan         A7  7.760  ['Data Structures, OOP']"
      ]
     },
     "execution_count": 201,
     "metadata": {},
     "output_type": "execute_result"
    }
   ],
   "source": [
    "df = pd.read_csv(\"./students.csv\", header=0)\n",
    "df.head(5)"
   ]
  },
  {
   "cell_type": "code",
   "execution_count": 202,
   "metadata": {
    "ExecuteTime": {
     "end_time": "2019-02-02T10:39:53.378166Z",
     "start_time": "2019-02-02T10:39:53.373195Z"
    }
   },
   "outputs": [
    {
     "data": {
      "text/plain": [
       "(200000, 4)"
      ]
     },
     "execution_count": 202,
     "metadata": {},
     "output_type": "execute_result"
    }
   ],
   "source": [
    "df.shape"
   ]
  },
  {
   "cell_type": "code",
   "execution_count": 203,
   "metadata": {
    "ExecuteTime": {
     "end_time": "2019-02-02T10:39:54.357606Z",
     "start_time": "2019-02-02T10:39:54.312352Z"
    }
   },
   "outputs": [
    {
     "data": {
      "text/html": [
       "<div>\n",
       "<style scoped>\n",
       "    .dataframe tbody tr th:only-of-type {\n",
       "        vertical-align: middle;\n",
       "    }\n",
       "\n",
       "    .dataframe tbody tr th {\n",
       "        vertical-align: top;\n",
       "    }\n",
       "\n",
       "    .dataframe thead th {\n",
       "        text-align: right;\n",
       "    }\n",
       "</style>\n",
       "<table border=\"1\" class=\"dataframe\">\n",
       "  <thead>\n",
       "    <tr style=\"text-align: right;\">\n",
       "      <th></th>\n",
       "      <th>Grade</th>\n",
       "    </tr>\n",
       "  </thead>\n",
       "  <tbody>\n",
       "    <tr>\n",
       "      <th>count</th>\n",
       "      <td>200000.000000</td>\n",
       "    </tr>\n",
       "    <tr>\n",
       "      <th>mean</th>\n",
       "      <td>7.500650</td>\n",
       "    </tr>\n",
       "    <tr>\n",
       "      <th>std</th>\n",
       "      <td>1.258101</td>\n",
       "    </tr>\n",
       "    <tr>\n",
       "      <th>min</th>\n",
       "      <td>5.000000</td>\n",
       "    </tr>\n",
       "    <tr>\n",
       "      <th>25%</th>\n",
       "      <td>6.504000</td>\n",
       "    </tr>\n",
       "    <tr>\n",
       "      <th>50%</th>\n",
       "      <td>7.496000</td>\n",
       "    </tr>\n",
       "    <tr>\n",
       "      <th>75%</th>\n",
       "      <td>8.500000</td>\n",
       "    </tr>\n",
       "    <tr>\n",
       "      <th>max</th>\n",
       "      <td>10.000000</td>\n",
       "    </tr>\n",
       "  </tbody>\n",
       "</table>\n",
       "</div>"
      ],
      "text/plain": [
       "               Grade\n",
       "count  200000.000000\n",
       "mean        7.500650\n",
       "std         1.258101\n",
       "min         5.000000\n",
       "25%         6.504000\n",
       "50%         7.496000\n",
       "75%         8.500000\n",
       "max        10.000000"
      ]
     },
     "execution_count": 203,
     "metadata": {},
     "output_type": "execute_result"
    }
   ],
   "source": [
    "df.describe()"
   ]
  },
  {
   "cell_type": "markdown",
   "metadata": {
    "ExecuteTime": {
     "end_time": "2019-01-20T06:45:21.767366Z",
     "start_time": "2019-01-20T06:45:21.762122Z"
    }
   },
   "source": [
    "## Why Matplotlib"
   ]
  },
  {
   "cell_type": "code",
   "execution_count": 44,
   "metadata": {
    "ExecuteTime": {
     "end_time": "2019-02-02T10:39:59.475704Z",
     "start_time": "2019-02-02T10:39:59.360068Z"
    }
   },
   "outputs": [
    {
     "ename": "NameError",
     "evalue": "name 'all_students' is not defined",
     "output_type": "error",
     "traceback": [
      "\u001b[0;31m---------------------------------------------------------------------------\u001b[0m",
      "\u001b[0;31mNameError\u001b[0m                                 Traceback (most recent call last)",
      "\u001b[0;32m<ipython-input-44-baeffe16d163>\u001b[0m in \u001b[0;36m<module>\u001b[0;34m()\u001b[0m\n\u001b[0;32m----> 1\u001b[0;31m \u001b[0mgrades\u001b[0m \u001b[0;34m=\u001b[0m \u001b[0msorted\u001b[0m\u001b[0;34m(\u001b[0m\u001b[0mlist\u001b[0m\u001b[0;34m(\u001b[0m\u001b[0mmap\u001b[0m\u001b[0;34m(\u001b[0m\u001b[0;32mlambda\u001b[0m \u001b[0mx\u001b[0m\u001b[0;34m:\u001b[0m \u001b[0mx\u001b[0m\u001b[0;34m.\u001b[0m\u001b[0mgrade\u001b[0m\u001b[0;34m,\u001b[0m \u001b[0mfilter\u001b[0m\u001b[0;34m(\u001b[0m\u001b[0;32mlambda\u001b[0m \u001b[0mx\u001b[0m\u001b[0;34m:\u001b[0m\u001b[0mx\u001b[0m\u001b[0;34m.\u001b[0m\u001b[0mname\u001b[0m\u001b[0;34m,\u001b[0m\u001b[0mall_students\u001b[0m\u001b[0;34m)\u001b[0m\u001b[0;34m)\u001b[0m\u001b[0;34m)\u001b[0m\u001b[0;34m)\u001b[0m\u001b[0;34m\u001b[0m\u001b[0m\n\u001b[0m",
      "\u001b[0;31mNameError\u001b[0m: name 'all_students' is not defined"
     ]
    }
   ],
   "source": [
    "grades = sorted(list(map(lambda x: x.grade, filter(lambda x:x.name,all_students))))"
   ]
  },
  {
   "cell_type": "code",
   "execution_count": 45,
   "metadata": {
    "ExecuteTime": {
     "end_time": "2019-02-02T10:40:01.078001Z",
     "start_time": "2019-02-02T10:40:00.396080Z"
    }
   },
   "outputs": [
    {
     "ename": "NameError",
     "evalue": "name 'plt' is not defined",
     "output_type": "error",
     "traceback": [
      "\u001b[0;31m---------------------------------------------------------------------------\u001b[0m",
      "\u001b[0;31mNameError\u001b[0m                                 Traceback (most recent call last)",
      "\u001b[0;32m<ipython-input-45-6c4c4bd9fe06>\u001b[0m in \u001b[0;36m<module>\u001b[0;34m()\u001b[0m\n\u001b[0;32m----> 1\u001b[0;31m \u001b[0mplt\u001b[0m\u001b[0;34m.\u001b[0m\u001b[0mplot\u001b[0m\u001b[0;34m(\u001b[0m\u001b[0mgrades\u001b[0m\u001b[0;34m,\u001b[0m\u001b[0;34m'ro'\u001b[0m\u001b[0;34m)\u001b[0m\u001b[0;34m\u001b[0m\u001b[0m\n\u001b[0m\u001b[1;32m      2\u001b[0m \u001b[0mplt\u001b[0m\u001b[0;34m.\u001b[0m\u001b[0maxis\u001b[0m\u001b[0;34m(\u001b[0m\u001b[0;34m[\u001b[0m\u001b[0;36m0\u001b[0m\u001b[0;34m,\u001b[0m \u001b[0;36m200000\u001b[0m\u001b[0;34m,\u001b[0m \u001b[0;36m4\u001b[0m\u001b[0;34m,\u001b[0m \u001b[0;36m10\u001b[0m\u001b[0;34m]\u001b[0m\u001b[0;34m)\u001b[0m\u001b[0;34m\u001b[0m\u001b[0m\n\u001b[1;32m      3\u001b[0m \u001b[0mplt\u001b[0m\u001b[0;34m.\u001b[0m\u001b[0mshow\u001b[0m\u001b[0;34m(\u001b[0m\u001b[0;34m)\u001b[0m\u001b[0;34m\u001b[0m\u001b[0m\n",
      "\u001b[0;31mNameError\u001b[0m: name 'plt' is not defined"
     ]
    }
   ],
   "source": [
    "plt.plot(grades,'ro')\n",
    "plt.axis([0, 200000, 4, 10])\n",
    "plt.show()"
   ]
  },
  {
   "cell_type": "code",
   "execution_count": 206,
   "metadata": {
    "ExecuteTime": {
     "end_time": "2019-02-02T10:40:02.151327Z",
     "start_time": "2019-02-02T10:40:02.092518Z"
    }
   },
   "outputs": [],
   "source": [
    "grade_age = [(x.grade, x.age) for x in all_students]"
   ]
  },
  {
   "cell_type": "code",
   "execution_count": 207,
   "metadata": {
    "ExecuteTime": {
     "end_time": "2019-02-02T10:40:03.854509Z",
     "start_time": "2019-02-02T10:40:03.619136Z"
    }
   },
   "outputs": [],
   "source": [
    "x,y = zip(*grade_age)"
   ]
  },
  {
   "cell_type": "code",
   "execution_count": 208,
   "metadata": {
    "ExecuteTime": {
     "end_time": "2019-02-02T10:40:09.005758Z",
     "start_time": "2019-02-02T10:40:05.606348Z"
    }
   },
   "outputs": [
    {
     "data": {
      "text/plain": [
       "<matplotlib.collections.PathCollection at 0x11a2086a0>"
      ]
     },
     "execution_count": 208,
     "metadata": {},
     "output_type": "execute_result"
    },
    {
     "data": {
      "image/png": "[encoded data removed]",
      "text/plain": [
       "<Figure size 432x288 with 1 Axes>"
      ]
     },
     "metadata": {},
     "output_type": "display_data"
    }
   ],
   "source": [
    "plt.scatter(x=x, y=y)"
   ]
  },
  {
   "cell_type": "code",
   "execution_count": 89,
   "metadata": {
    "ExecuteTime": {
     "end_time": "2019-02-02T10:14:49.223242Z",
     "start_time": "2019-02-02T10:14:49.160214Z"
    }
   },
   "outputs": [],
   "source": [
    "grade_age = list(filter(lambda x: x[1]/x[0] <2, grade_age))\n",
    "x,y = zip(*grade_age)"
   ]
  },
  {
   "cell_type": "code",
   "execution_count": 90,
   "metadata": {
    "ExecuteTime": {
     "end_time": "2019-02-02T10:15:04.617792Z",
     "start_time": "2019-02-02T10:15:04.330232Z"
    }
   },
   "outputs": [
    {
     "data": {
      "text/plain": [
       "<matplotlib.collections.PathCollection at 0x11c531a58>"
      ]
     },
     "execution_count": 90,
     "metadata": {},
     "output_type": "execute_result"
    },
    {
     "data": {
      "image/png": "[encoded data removed]",
      "text/plain": [
       "<Figure size 432x288 with 1 Axes>"
      ]
     },
     "metadata": {},
     "output_type": "display_data"
    }
   ],
   "source": [
    "plt.scatter(x=x, y=y)"
   ]
  },
  {
   "cell_type": "code",
   "execution_count": 43,
   "metadata": {
    "ExecuteTime": {
     "end_time": "2019-02-02T10:15:15.973963Z",
     "start_time": "2019-02-02T10:15:15.966228Z"
    },
    "scrolled": true
   },
   "outputs": [
    {
     "ename": "NameError",
     "evalue": "name 'grade_age' is not defined",
     "output_type": "error",
     "traceback": [
      "\u001b[0;31m---------------------------------------------------------------------------\u001b[0m",
      "\u001b[0;31mNameError\u001b[0m                                 Traceback (most recent call last)",
      "\u001b[0;32m<ipython-input-43-696159fa977e>\u001b[0m in \u001b[0;36m<module>\u001b[0;34m()\u001b[0m\n\u001b[0;32m----> 1\u001b[0;31m \u001b[0mgrade_age\u001b[0m \u001b[0;34m=\u001b[0m \u001b[0mlist\u001b[0m\u001b[0;34m(\u001b[0m\u001b[0mfilter\u001b[0m\u001b[0;34m(\u001b[0m\u001b[0;32mlambda\u001b[0m \u001b[0mx\u001b[0m\u001b[0;34m:\u001b[0m \u001b[0mx\u001b[0m\u001b[0;34m[\u001b[0m\u001b[0;36m1\u001b[0m\u001b[0;34m]\u001b[0m\u001b[0;34m/\u001b[0m\u001b[0mx\u001b[0m\u001b[0;34m[\u001b[0m\u001b[0;36m0\u001b[0m\u001b[0;34m]\u001b[0m \u001b[0;34m>\u001b[0m \u001b[0;36m1.99\u001b[0m\u001b[0;34m,\u001b[0m \u001b[0mgrade_age\u001b[0m\u001b[0;34m)\u001b[0m\u001b[0;34m)\u001b[0m\u001b[0;34m\u001b[0m\u001b[0m\n\u001b[0m\u001b[1;32m      2\u001b[0m \u001b[0mx\u001b[0m\u001b[0;34m,\u001b[0m\u001b[0my\u001b[0m \u001b[0;34m=\u001b[0m \u001b[0mzip\u001b[0m\u001b[0;34m(\u001b[0m\u001b[0;34m*\u001b[0m\u001b[0mgrade_age\u001b[0m\u001b[0;34m)\u001b[0m\u001b[0;34m\u001b[0m\u001b[0m\n",
      "\u001b[0;31mNameError\u001b[0m: name 'grade_age' is not defined"
     ]
    }
   ],
   "source": [
    "grade_age = list(filter(lambda x: x[1]/x[0] > 1.99, grade_age))\n",
    "x,y = zip(*grade_age)"
   ]
  },
  {
   "cell_type": "code",
   "execution_count": 92,
   "metadata": {
    "ExecuteTime": {
     "end_time": "2019-02-02T10:15:18.780902Z",
     "start_time": "2019-02-02T10:15:18.595305Z"
    },
    "scrolled": true
   },
   "outputs": [
    {
     "data": {
      "text/plain": [
       "<matplotlib.collections.PathCollection at 0x11c5d3e48>"
      ]
     },
     "execution_count": 92,
     "metadata": {},
     "output_type": "execute_result"
    },
    {
     "data": {
      "image/png": "[encoded data removed]",
      "text/plain": [
       "<Figure size 432x288 with 1 Axes>"
      ]
     },
     "metadata": {},
     "output_type": "display_data"
    }
   ],
   "source": [
    "plt.scatter(x=x, y=y)"
   ]
  },
  {
   "cell_type": "markdown",
   "metadata": {},
   "source": [
    "## Numpy"
   ]
  },
  {
   "cell_type": "markdown",
   "metadata": {},
   "source": [
    "Numpy is the core library for scientific computing in Python. It provides a high-performance multidimensional array object, and tools for working with these arrays. If you are already familiar with MATLAB, you might find this [tutorial](http://wiki.scipy.org/NumPy_for_Matlab_Users) useful to get started with Numpy."
   ]
  },
  {
   "cell_type": "markdown",
   "metadata": {},
   "source": [
    "To use Numpy, we first need to import the `numpy` package:"
   ]
  },
  {
   "cell_type": "code",
   "execution_count": 2,
   "metadata": {
    "ExecuteTime": {
     "end_time": "2019-01-31T13:16:06.096677Z",
     "start_time": "2019-01-31T13:16:06.093729Z"
    }
   },
   "outputs": [],
   "source": [
    "import numpy as np"
   ]
  },
  {
   "cell_type": "markdown",
   "metadata": {},
   "source": [
    "### Arrays"
   ]
  },
  {
   "cell_type": "markdown",
   "metadata": {},
   "source": [
    "A numpy array is a grid of values, all of the same type, and is indexed by a tuple of nonnegative integers. The number of dimensions is the rank of the array; the shape of an array is a tuple of integers giving the size of the array along each dimension."
   ]
  },
  {
   "cell_type": "markdown",
   "metadata": {},
   "source": [
    "We can initialize numpy arrays from nested Python lists, and access elements using square brackets:"
   ]
  },
  {
   "cell_type": "code",
   "execution_count": 3,
   "metadata": {
    "ExecuteTime": {
     "end_time": "2019-01-31T13:16:07.824460Z",
     "start_time": "2019-01-31T13:16:07.814721Z"
    }
   },
   "outputs": [
    {
     "name": "stdout",
     "output_type": "stream",
     "text": [
      "<class 'numpy.ndarray'> (3,) 1 2 3\n",
      "[5 2 3]\n"
     ]
    }
   ],
   "source": [
    "a = np.array([1, 2, 3])  # Create a rank 1 array\n",
    "print(type(a), a.shape, a[0], a[1], a[2])\n",
    "a[0] = 5                 # Change an element of the array\n",
    "print(a)"
   ]
  },
  {
   "cell_type": "code",
   "execution_count": 4,
   "metadata": {
    "ExecuteTime": {
     "end_time": "2019-01-31T13:16:08.505187Z",
     "start_time": "2019-01-31T13:16:08.501417Z"
    }
   },
   "outputs": [
    {
     "name": "stdout",
     "output_type": "stream",
     "text": [
      "[[1 2 3]\n",
      " [4 5 6]]\n"
     ]
    }
   ],
   "source": [
    "b = np.array([[1,2,3],[4,5,6]])   # Create a rank 2 array\n",
    "print(b)"
   ]
  },
  {
   "cell_type": "code",
   "execution_count": 5,
   "metadata": {
    "ExecuteTime": {
     "end_time": "2019-01-31T13:16:08.709408Z",
     "start_time": "2019-01-31T13:16:08.704994Z"
    }
   },
   "outputs": [
    {
     "name": "stdout",
     "output_type": "stream",
     "text": [
      "(2, 3)\n",
      "1 2 4\n"
     ]
    }
   ],
   "source": [
    "print(b.shape)                   \n",
    "print(b[0, 0], b[0, 1], b[1, 0])"
   ]
  },
  {
   "cell_type": "markdown",
   "metadata": {},
   "source": [
    "Numpy also provides many functions to create arrays:"
   ]
  },
  {
   "cell_type": "code",
   "execution_count": 6,
   "metadata": {
    "ExecuteTime": {
     "end_time": "2019-01-31T13:16:09.111533Z",
     "start_time": "2019-01-31T13:16:09.105682Z"
    }
   },
   "outputs": [
    {
     "name": "stdout",
     "output_type": "stream",
     "text": [
      "[[0. 0.]\n",
      " [0. 0.]]\n"
     ]
    }
   ],
   "source": [
    "a = np.zeros((2,2))  # Create an array of all zeros\n",
    "print(a)"
   ]
  },
  {
   "cell_type": "code",
   "execution_count": 7,
   "metadata": {
    "ExecuteTime": {
     "end_time": "2019-01-31T13:16:09.812984Z",
     "start_time": "2019-01-31T13:16:09.809034Z"
    }
   },
   "outputs": [
    {
     "name": "stdout",
     "output_type": "stream",
     "text": [
      "[[1. 1.]]\n"
     ]
    }
   ],
   "source": [
    "b = np.ones((1,2))   # Create an array of all ones\n",
    "print(b)"
   ]
  },
  {
   "cell_type": "code",
   "execution_count": 8,
   "metadata": {
    "ExecuteTime": {
     "end_time": "2019-01-31T13:16:09.991056Z",
     "start_time": "2019-01-31T13:16:09.986604Z"
    }
   },
   "outputs": [
    {
     "name": "stdout",
     "output_type": "stream",
     "text": [
      "[[7 7]\n",
      " [7 7]]\n"
     ]
    }
   ],
   "source": [
    "c = np.full((2,2), 7) # Create a constant array\n",
    "print(c)"
   ]
  },
  {
   "cell_type": "code",
   "execution_count": 9,
   "metadata": {
    "ExecuteTime": {
     "end_time": "2019-01-31T13:16:10.174169Z",
     "start_time": "2019-01-31T13:16:10.170667Z"
    }
   },
   "outputs": [
    {
     "name": "stdout",
     "output_type": "stream",
     "text": [
      "[[1. 0.]\n",
      " [0. 1.]]\n"
     ]
    }
   ],
   "source": [
    "d = np.eye(2)        # Create a 2x2 identity matrix\n",
    "print(d)"
   ]
  },
  {
   "cell_type": "code",
   "execution_count": 10,
   "metadata": {
    "ExecuteTime": {
     "end_time": "2019-01-31T13:16:10.884389Z",
     "start_time": "2019-01-31T13:16:10.878319Z"
    }
   },
   "outputs": [
    {
     "name": "stdout",
     "output_type": "stream",
     "text": [
      "[[0.49466724 0.22695025]\n",
      " [0.23129596 0.68317444]]\n"
     ]
    }
   ],
   "source": [
    "e = np.random.random((2,2)) # Create an array filled with random values\n",
    "print(e)"
   ]
  },
  {
   "cell_type": "markdown",
   "metadata": {},
   "source": [
    "### Array indexing"
   ]
  },
  {
   "cell_type": "markdown",
   "metadata": {},
   "source": [
    "Numpy offers several ways to index into arrays."
   ]
  },
  {
   "cell_type": "markdown",
   "metadata": {},
   "source": [
    "Slicing: Similar to Python lists, numpy arrays can be sliced. Since arrays may be multidimensional, you must specify a slice for each dimension of the array:"
   ]
  },
  {
   "cell_type": "code",
   "execution_count": 11,
   "metadata": {},
   "outputs": [
    {
     "name": "stdout",
     "output_type": "stream",
     "text": [
      "[[2 3]\n",
      " [6 7]]\n"
     ]
    }
   ],
   "source": [
    "import numpy as np\n",
    "\n",
    "# Create the following array with shape (3, 4)\n",
    "# [[ 1  2  3  4]\n",
    "#  [ 5  6  7  8]\n",
    "#  [ 9 10 11 12]]\n",
    "a = np.array([[1,2,3,4], [5,6,7,8], [9,10,11,12]])\n",
    "\n",
    "# We can use slicing to pull out the subarray consisting of the first 2 rows\n",
    "# and columns 1 and 2; b is the following array of shape (2, 2):\n",
    "\n",
    "# [[2 3]\n",
    "# [6 7]]\n",
    "\n",
    "b = a[:2, 1:3]\n",
    "print(b)"
   ]
  },
  {
   "cell_type": "markdown",
   "metadata": {},
   "source": [
    "A slice of an array is a view into the same data, so modifying it will modify the original array."
   ]
  },
  {
   "cell_type": "raw",
   "metadata": {},
   "source": [
    "print(a[0, 1])  \n",
    "b[0, 0] = 77    # b[0, 0] is the same piece of data as a[0, 1]\n",
    "print(a[0, 1])"
   ]
  },
  {
   "cell_type": "markdown",
   "metadata": {},
   "source": [
    "You can also mix integer indexing with slice indexing. However, doing so will yield an array of lower rank than the original array. Note that this is quite different from the way that MATLAB handles array slicing:"
   ]
  },
  {
   "cell_type": "code",
   "execution_count": 12,
   "metadata": {},
   "outputs": [
    {
     "name": "stdout",
     "output_type": "stream",
     "text": [
      "[[ 1  2  3  4]\n",
      " [ 5  6  7  8]\n",
      " [ 9 10 11 12]]\n"
     ]
    }
   ],
   "source": [
    "# Create the following rank 2 array with shape (3, 4)\n",
    "a = np.array([[1,2,3,4], [5,6,7,8], [9,10,11,12]])\n",
    "print(a)"
   ]
  },
  {
   "cell_type": "markdown",
   "metadata": {},
   "source": [
    "Two ways of accessing the data in the middle row of the array.\n",
    "Mixing integer indexing with slices yields an array of lower rank,\n",
    "while using only slices yields an array of the same rank as the\n",
    "original array:"
   ]
  },
  {
   "cell_type": "code",
   "execution_count": 13,
   "metadata": {},
   "outputs": [
    {
     "name": "stdout",
     "output_type": "stream",
     "text": [
      "[5 6 7 8] (4,)\n",
      "[[5 6 7 8]] (1, 4)\n",
      "[[5 6 7 8]] (1, 4)\n"
     ]
    }
   ],
   "source": [
    "row_r1 = a[1, :]    # Rank 1 view of the second row of a  \n",
    "row_r2 = a[1:2, :]  # Rank 2 view of the second row of a\n",
    "row_r3 = a[[1], :]  # Rank 2 view of the second row of a\n",
    "print(row_r1, row_r1.shape) \n",
    "print(row_r2, row_r2.shape)\n",
    "print(row_r3, row_r3.shape)"
   ]
  },
  {
   "cell_type": "code",
   "execution_count": 14,
   "metadata": {},
   "outputs": [
    {
     "name": "stdout",
     "output_type": "stream",
     "text": [
      "[ 2  6 10] (3,)\n",
      "\n",
      "[[ 2]\n",
      " [ 6]\n",
      " [10]] (3, 1)\n"
     ]
    }
   ],
   "source": [
    "# We can make the same distinction when accessing columns of an array:\n",
    "col_r1 = a[:, 1]\n",
    "col_r2 = a[:, 1:2]\n",
    "print(col_r1, col_r1.shape)\n",
    "print()\n",
    "print(col_r2, col_r2.shape)"
   ]
  },
  {
   "cell_type": "markdown",
   "metadata": {},
   "source": [
    "Integer array indexing: When you index into numpy arrays using slicing, the resulting array view will always be a subarray of the original array. In contrast, integer array indexing allows you to construct arbitrary arrays using the data from another array. Here is an example:"
   ]
  },
  {
   "cell_type": "code",
   "execution_count": 15,
   "metadata": {},
   "outputs": [
    {
     "name": "stdout",
     "output_type": "stream",
     "text": [
      "[1 4 5]\n",
      "[1 4 5]\n"
     ]
    }
   ],
   "source": [
    "a = np.array([[1,2], [3, 4], [5, 6]])\n",
    "\n",
    "# An example of integer array indexing.\n",
    "# The returned array will have shape (3,) and \n",
    "print(a[[0, 1, 2], [0, 1, 0]])\n",
    "\n",
    "# The above example of integer array indexing is equivalent to this:\n",
    "print(np.array([a[0, 0], a[1, 1], a[2, 0]]))"
   ]
  },
  {
   "cell_type": "code",
   "execution_count": 16,
   "metadata": {},
   "outputs": [
    {
     "name": "stdout",
     "output_type": "stream",
     "text": [
      "[2 2]\n",
      "[2 2]\n"
     ]
    }
   ],
   "source": [
    "# When using integer array indexing, you can reuse the same\n",
    "# element from the source array:\n",
    "print(a[[0, 0], [1, 1]])\n",
    "\n",
    "# Equivalent to the previous integer array indexing example\n",
    "print(np.array([a[0, 1], a[0, 1]]))"
   ]
  },
  {
   "cell_type": "markdown",
   "metadata": {},
   "source": [
    "One useful trick with integer array indexing is selecting or mutating one element from each row of a matrix:"
   ]
  },
  {
   "cell_type": "code",
   "execution_count": 17,
   "metadata": {},
   "outputs": [
    {
     "name": "stdout",
     "output_type": "stream",
     "text": [
      "[[ 1  2  3]\n",
      " [ 4  5  6]\n",
      " [ 7  8  9]\n",
      " [10 11 12]]\n"
     ]
    }
   ],
   "source": [
    "# Create a new array from which we will select elements\n",
    "a = np.array([[1,2,3], [4,5,6], [7,8,9], [10, 11, 12]])\n",
    "print(a)"
   ]
  },
  {
   "cell_type": "code",
   "execution_count": 18,
   "metadata": {},
   "outputs": [
    {
     "name": "stdout",
     "output_type": "stream",
     "text": [
      "[ 1  6  7 11]\n"
     ]
    }
   ],
   "source": [
    "# Create an array of indices\n",
    "b = np.array([0, 2, 0, 1])\n",
    "\n",
    "# Select one element from each row of a using the indices in b\n",
    "print(a[np.arange(4), b])  # Prints \"[ 1  6  7 11]\""
   ]
  },
  {
   "cell_type": "code",
   "execution_count": 19,
   "metadata": {},
   "outputs": [
    {
     "name": "stdout",
     "output_type": "stream",
     "text": [
      "[[11  2  3]\n",
      " [ 4  5 16]\n",
      " [17  8  9]\n",
      " [10 21 12]]\n"
     ]
    }
   ],
   "source": [
    "# Mutate one element from each row of a using the indices in b\n",
    "a[np.arange(4), b] += 10\n",
    "print(a)"
   ]
  },
  {
   "cell_type": "markdown",
   "metadata": {},
   "source": [
    "Boolean array indexing: Boolean array indexing lets you pick out arbitrary elements of an array. Frequently this type of indexing is used to select the elements of an array that satisfy some condition. Here is an example:"
   ]
  },
  {
   "cell_type": "code",
   "execution_count": 21,
   "metadata": {},
   "outputs": [
    {
     "name": "stdout",
     "output_type": "stream",
     "text": [
      "[[False False]\n",
      " [ True  True]\n",
      " [ True  True]]\n"
     ]
    }
   ],
   "source": [
    "import numpy as np\n",
    "\n",
    "a = np.array([[1,2], [3, 4], [5, 6]])\n",
    "\n",
    "bool_idx = (a > 2)  # Find the elements of a that are bigger than 2;\n",
    "                    # this returns a numpy array of Booleans of the same\n",
    "                    # shape as a, where each slot of bool_idx tells\n",
    "                    # whether that element of a is > 2.\n",
    "\n",
    "print(bool_idx)"
   ]
  },
  {
   "cell_type": "code",
   "execution_count": 225,
   "metadata": {},
   "outputs": [
    {
     "name": "stdout",
     "output_type": "stream",
     "text": [
      "[3 4 5 6]\n",
      "[3 4 5 6]\n"
     ]
    }
   ],
   "source": [
    "# We use boolean array indexing to construct a rank 1 array\n",
    "# consisting of the elements of a corresponding to the True values\n",
    "# of bool_idx\n",
    "print(a[bool_idx])\n",
    "\n",
    "# We can do all of the above in a single concise statement:\n",
    "print(a[a > 2])"
   ]
  },
  {
   "cell_type": "markdown",
   "metadata": {},
   "source": [
    "For brevity we have left out a lot of details about numpy array indexing; if you want to know more you should read the documentation."
   ]
  },
  {
   "cell_type": "markdown",
   "metadata": {},
   "source": [
    "### Datatypes"
   ]
  },
  {
   "cell_type": "markdown",
   "metadata": {},
   "source": [
    "Every numpy array is a grid of elements of the same type. Numpy provides a large set of numeric datatypes that you can use to construct arrays. Numpy tries to guess a datatype when you create an array, but functions that construct arrays usually also include an optional argument to explicitly specify the datatype. Here is an example:"
   ]
  },
  {
   "cell_type": "code",
   "execution_count": 226,
   "metadata": {},
   "outputs": [
    {
     "name": "stdout",
     "output_type": "stream",
     "text": [
      "int64 float64 int64\n"
     ]
    }
   ],
   "source": [
    "x = np.array([1, 2])  # Let numpy choose the datatype\n",
    "y = np.array([1.0, 2.0])  # Let numpy choose the datatype\n",
    "z = np.array([1, 2], dtype=np.int64)  # Force a particular datatype\n",
    "\n",
    "print(x.dtype, y.dtype, z.dtype)"
   ]
  },
  {
   "cell_type": "markdown",
   "metadata": {},
   "source": [
    "You can read all about numpy datatypes in the [documentation](http://docs.scipy.org/doc/numpy/reference/arrays.dtypes.html)."
   ]
  },
  {
   "cell_type": "markdown",
   "metadata": {},
   "source": [
    "### Array math"
   ]
  },
  {
   "cell_type": "markdown",
   "metadata": {},
   "source": [
    "Basic mathematical functions operate elementwise on arrays, and are available both as operator overloads and as functions in the numpy module:"
   ]
  },
  {
   "cell_type": "code",
   "execution_count": 227,
   "metadata": {},
   "outputs": [
    {
     "name": "stdout",
     "output_type": "stream",
     "text": [
      "[[  6.   8.]\n",
      " [ 10.  12.]]\n",
      "[[  6.   8.]\n",
      " [ 10.  12.]]\n"
     ]
    }
   ],
   "source": [
    "x = np.array([[1,2],[3,4]], dtype=np.float64)\n",
    "y = np.array([[5,6],[7,8]], dtype=np.float64)\n",
    "\n",
    "# Elementwise sum; both produce the array\n",
    "print(x + y)\n",
    "print(np.add(x, y))"
   ]
  },
  {
   "cell_type": "code",
   "execution_count": 228,
   "metadata": {},
   "outputs": [
    {
     "name": "stdout",
     "output_type": "stream",
     "text": [
      "[[-4. -4.]\n",
      " [-4. -4.]]\n",
      "[[-4. -4.]\n",
      " [-4. -4.]]\n"
     ]
    }
   ],
   "source": [
    "# Elementwise difference; both produce the array\n",
    "print(x - y)\n",
    "print(np.subtract(x, y))"
   ]
  },
  {
   "cell_type": "code",
   "execution_count": 229,
   "metadata": {},
   "outputs": [
    {
     "name": "stdout",
     "output_type": "stream",
     "text": [
      "[[  5.  12.]\n",
      " [ 21.  32.]]\n",
      "[[  5.  12.]\n",
      " [ 21.  32.]]\n"
     ]
    }
   ],
   "source": [
    "# Elementwise product; both produce the array\n",
    "print(x * y)\n",
    "print(np.multiply(x, y))"
   ]
  },
  {
   "cell_type": "code",
   "execution_count": 230,
   "metadata": {},
   "outputs": [
    {
     "name": "stdout",
     "output_type": "stream",
     "text": [
      "[[ 0.2         0.33333333]\n",
      " [ 0.42857143  0.5       ]]\n",
      "[[ 0.2         0.33333333]\n",
      " [ 0.42857143  0.5       ]]\n"
     ]
    }
   ],
   "source": [
    "# Elementwise division; both produce the array\n",
    "# [[ 0.2         0.33333333]\n",
    "#  [ 0.42857143  0.5       ]]\n",
    "print(x / y)\n",
    "print(np.divide(x, y))"
   ]
  },
  {
   "cell_type": "code",
   "execution_count": 231,
   "metadata": {},
   "outputs": [
    {
     "name": "stdout",
     "output_type": "stream",
     "text": [
      "[[ 1.          1.41421356]\n",
      " [ 1.73205081  2.        ]]\n"
     ]
    }
   ],
   "source": [
    "# Elementwise square root; produces the array\n",
    "# [[ 1.          1.41421356]\n",
    "#  [ 1.73205081  2.        ]]\n",
    "print(np.sqrt(x))"
   ]
  },
  {
   "cell_type": "markdown",
   "metadata": {},
   "source": [
    "Note that unlike MATLAB, `*` is elementwise multiplication, not matrix multiplication. We instead use the dot function to compute inner products of vectors, to multiply a vector by a matrix, and to multiply matrices. dot is available both as a function in the numpy module and as an instance method of array objects:"
   ]
  },
  {
   "cell_type": "code",
   "execution_count": 232,
   "metadata": {},
   "outputs": [
    {
     "name": "stdout",
     "output_type": "stream",
     "text": [
      "219\n",
      "219\n"
     ]
    }
   ],
   "source": [
    "x = np.array([[1,2],[3,4]])\n",
    "y = np.array([[5,6],[7,8]])\n",
    "\n",
    "v = np.array([9,10])\n",
    "w = np.array([11, 12])\n",
    "\n",
    "# Inner product of vectors; both produce 219\n",
    "print(v.dot(w))\n",
    "print(np.dot(v, w))"
   ]
  },
  {
   "cell_type": "code",
   "execution_count": 23,
   "metadata": {},
   "outputs": [
    {
     "ename": "ValueError",
     "evalue": "shapes (4,3) and (1,3) not aligned: 3 (dim 1) != 1 (dim 0)",
     "output_type": "error",
     "traceback": [
      "\u001b[0;31m---------------------------------------------------------------------------\u001b[0m",
      "\u001b[0;31mValueError\u001b[0m                                Traceback (most recent call last)",
      "\u001b[0;32m<ipython-input-23-cda8826e85f5>\u001b[0m in \u001b[0;36m<module>\u001b[0;34m()\u001b[0m\n\u001b[1;32m      1\u001b[0m \u001b[0;31m# Matrix / vector product; both produce the rank 1 array [29 67]\u001b[0m\u001b[0;34m\u001b[0m\u001b[0;34m\u001b[0m\u001b[0m\n\u001b[0;32m----> 2\u001b[0;31m \u001b[0mprint\u001b[0m\u001b[0;34m(\u001b[0m\u001b[0mx\u001b[0m\u001b[0;34m.\u001b[0m\u001b[0mdot\u001b[0m\u001b[0;34m(\u001b[0m\u001b[0mv\u001b[0m\u001b[0;34m)\u001b[0m\u001b[0;34m)\u001b[0m\u001b[0;34m\u001b[0m\u001b[0m\n\u001b[0m\u001b[1;32m      3\u001b[0m \u001b[0mprint\u001b[0m\u001b[0;34m(\u001b[0m\u001b[0mnp\u001b[0m\u001b[0;34m.\u001b[0m\u001b[0mdot\u001b[0m\u001b[0;34m(\u001b[0m\u001b[0mx\u001b[0m\u001b[0;34m,\u001b[0m \u001b[0mv\u001b[0m\u001b[0;34m)\u001b[0m\u001b[0;34m)\u001b[0m\u001b[0;34m\u001b[0m\u001b[0m\n",
      "\u001b[0;31mValueError\u001b[0m: shapes (4,3) and (1,3) not aligned: 3 (dim 1) != 1 (dim 0)"
     ]
    }
   ],
   "source": [
    "# Matrix / vector product; both produce the rank 1 array [29 67]\n",
    "print(x.dot(v))\n",
    "print(np.dot(x, v))"
   ]
  },
  {
   "cell_type": "code",
   "execution_count": 24,
   "metadata": {},
   "outputs": [
    {
     "ename": "ValueError",
     "evalue": "shapes (4,3) and (4,3) not aligned: 3 (dim 1) != 4 (dim 0)",
     "output_type": "error",
     "traceback": [
      "\u001b[0;31m---------------------------------------------------------------------------\u001b[0m",
      "\u001b[0;31mValueError\u001b[0m                                Traceback (most recent call last)",
      "\u001b[0;32m<ipython-input-24-6b3da095db32>\u001b[0m in \u001b[0;36m<module>\u001b[0;34m()\u001b[0m\n\u001b[1;32m      2\u001b[0m \u001b[0;31m# [[19 22]\u001b[0m\u001b[0;34m\u001b[0m\u001b[0;34m\u001b[0m\u001b[0m\n\u001b[1;32m      3\u001b[0m \u001b[0;31m#  [43 50]]\u001b[0m\u001b[0;34m\u001b[0m\u001b[0;34m\u001b[0m\u001b[0m\n\u001b[0;32m----> 4\u001b[0;31m \u001b[0mprint\u001b[0m\u001b[0;34m(\u001b[0m\u001b[0mx\u001b[0m\u001b[0;34m.\u001b[0m\u001b[0mdot\u001b[0m\u001b[0;34m(\u001b[0m\u001b[0my\u001b[0m\u001b[0;34m)\u001b[0m\u001b[0;34m)\u001b[0m\u001b[0;34m\u001b[0m\u001b[0m\n\u001b[0m\u001b[1;32m      5\u001b[0m \u001b[0mprint\u001b[0m\u001b[0;34m(\u001b[0m\u001b[0mnp\u001b[0m\u001b[0;34m.\u001b[0m\u001b[0mdot\u001b[0m\u001b[0;34m(\u001b[0m\u001b[0mx\u001b[0m\u001b[0;34m,\u001b[0m \u001b[0my\u001b[0m\u001b[0;34m)\u001b[0m\u001b[0;34m)\u001b[0m\u001b[0;34m\u001b[0m\u001b[0m\n",
      "\u001b[0;31mValueError\u001b[0m: shapes (4,3) and (4,3) not aligned: 3 (dim 1) != 4 (dim 0)"
     ]
    }
   ],
   "source": [
    "# Matrix / matrix product; both produce the rank 2 array\n",
    "# [[19 22]\n",
    "#  [43 50]]\n",
    "print(x.dot(y))\n",
    "print(np.dot(x, y))"
   ]
  },
  {
   "cell_type": "markdown",
   "metadata": {},
   "source": [
    "Numpy provides many useful functions for performing computations on arrays; one of the most useful is `sum`:"
   ]
  },
  {
   "cell_type": "code",
   "execution_count": 25,
   "metadata": {},
   "outputs": [
    {
     "name": "stdout",
     "output_type": "stream",
     "text": [
      "10\n",
      "[4 6]\n",
      "[3 7]\n"
     ]
    }
   ],
   "source": [
    "x = np.array([[1,2],[3,4]])\n",
    "\n",
    "print(np.sum(x))  # Compute sum of all elements; prints \"10\"\n",
    "print(np.sum(x, axis=0))  # Compute sum of each column; prints \"[4 6]\"\n",
    "print(np.sum(x, axis=1))  # Compute sum of each row; prints \"[3 7]\""
   ]
  },
  {
   "cell_type": "markdown",
   "metadata": {},
   "source": [
    "You can find the full list of mathematical functions provided by numpy in the [documentation](http://docs.scipy.org/doc/numpy/reference/routines.math.html).\n",
    "\n",
    "Apart from computing mathematical functions using arrays, we frequently need to reshape or otherwise manipulate data in arrays. The simplest example of this type of operation is transposing a matrix; to transpose a matrix, simply use the T attribute of an array object:"
   ]
  },
  {
   "cell_type": "code",
   "execution_count": 26,
   "metadata": {},
   "outputs": [
    {
     "name": "stdout",
     "output_type": "stream",
     "text": [
      "[[1 2]\n",
      " [3 4]]\n",
      "[[1 3]\n",
      " [2 4]]\n"
     ]
    }
   ],
   "source": [
    "print(x)\n",
    "print(x.T)"
   ]
  },
  {
   "cell_type": "code",
   "execution_count": 27,
   "metadata": {},
   "outputs": [
    {
     "name": "stdout",
     "output_type": "stream",
     "text": [
      "[[1 2 3]]\n",
      "[[1]\n",
      " [2]\n",
      " [3]]\n"
     ]
    }
   ],
   "source": [
    "v = np.array([[1,2,3]])\n",
    "print(v) \n",
    "print(v.T)"
   ]
  },
  {
   "cell_type": "markdown",
   "metadata": {},
   "source": [
    "### Broadcasting"
   ]
  },
  {
   "cell_type": "markdown",
   "metadata": {},
   "source": [
    "Broadcasting is a powerful mechanism that allows numpy to work with arrays of different shapes when performing arithmetic operations. Frequently we have a smaller array and a larger array, and we want to use the smaller array multiple times to perform some operation on the larger array.\n",
    "\n",
    "For example, suppose that we want to add a constant vector to each row of a matrix. We could do it like this:"
   ]
  },
  {
   "cell_type": "code",
   "execution_count": 37,
   "metadata": {},
   "outputs": [
    {
     "name": "stdout",
     "output_type": "stream",
     "text": [
      "[[20  2  3]\n",
      " [ 4  5  6]\n",
      " [ 7  8  9]\n",
      " [10 11 12]]\n",
      "[[21  2  4]\n",
      " [ 5  5  7]\n",
      " [ 8  8 10]\n",
      " [11 11 13]]\n"
     ]
    }
   ],
   "source": [
    "# We will add the vector v to each row of the matrix x,\n",
    "# storing the result in the matrix y\n",
    "x = np.array([[1,2,3], [4,5,6], [7,8,9], [10, 11, 12]])\n",
    "v = np.array([1, 0, 1])\n",
    "y = np.empty_like(x)   # Create an empty matrix with the same shape as x\n",
    "\n",
    "\n",
    "# Add the vector v to each row of the matrix x with an explicit loop\n",
    "for i in range(4):\n",
    "    y[i, :] = x[i, :] + v\n",
    "\n",
    "print(y)"
   ]
  },
  {
   "cell_type": "markdown",
   "metadata": {},
   "source": [
    "This works; however when the matrix `x` is very large, computing an explicit loop in Python could be slow. Note that adding the vector v to each row of the matrix `x` is equivalent to forming a matrix `vv` by stacking multiple copies of `v` vertically, then performing elementwise summation of `x` and `vv`. We could implement this approach like this:"
   ]
  },
  {
   "cell_type": "code",
   "execution_count": 240,
   "metadata": {},
   "outputs": [
    {
     "name": "stdout",
     "output_type": "stream",
     "text": [
      "[[1 0 1]\n",
      " [1 0 1]\n",
      " [1 0 1]\n",
      " [1 0 1]]\n"
     ]
    }
   ],
   "source": [
    "vv = np.tile(v, (4, 1))  # Stack 4 copies of v on top of each other\n",
    "print(vv)                 # Prints \"[[1 0 1]\n",
    "                         #          [1 0 1]\n",
    "                         #          [1 0 1]\n",
    "                         #          [1 0 1]]\""
   ]
  },
  {
   "cell_type": "code",
   "execution_count": 241,
   "metadata": {},
   "outputs": [
    {
     "name": "stdout",
     "output_type": "stream",
     "text": [
      "[[ 2  2  4]\n",
      " [ 5  5  7]\n",
      " [ 8  8 10]\n",
      " [11 11 13]]\n"
     ]
    }
   ],
   "source": [
    "y = x + vv  # Add x and vv elementwise\n",
    "print(y)"
   ]
  },
  {
   "cell_type": "markdown",
   "metadata": {},
   "source": [
    "Numpy broadcasting allows us to perform this computation without actually creating multiple copies of v. Consider this version, using broadcasting:"
   ]
  },
  {
   "cell_type": "code",
   "execution_count": 242,
   "metadata": {},
   "outputs": [
    {
     "name": "stdout",
     "output_type": "stream",
     "text": [
      "[[ 2  2  4]\n",
      " [ 5  5  7]\n",
      " [ 8  8 10]\n",
      " [11 11 13]]\n"
     ]
    }
   ],
   "source": [
    "import numpy as np\n",
    "\n",
    "# We will add the vector v to each row of the matrix x,\n",
    "# storing the result in the matrix y\n",
    "x = np.array([[1,2,3], [4,5,6], [7,8,9], [10, 11, 12]])\n",
    "v = np.array([1, 0, 1])\n",
    "y = x + v  # Add v to each row of x using broadcasting\n",
    "print(y)"
   ]
  },
  {
   "cell_type": "markdown",
   "metadata": {},
   "source": [
    "The line `y = x + v` works even though `x` has shape `(4, 3)` and `v` has shape `(3,)` due to broadcasting; this line works as if v actually had shape `(4, 3)`, where each row was a copy of `v`, and the sum was performed elementwise.\n",
    "\n",
    "Broadcasting two arrays together follows these rules:\n",
    "\n",
    "1. If the arrays do not have the same rank, prepend the shape of the lower rank array with 1s until both shapes have the same length.\n",
    "2. The two arrays are said to be compatible in a dimension if they have the same size in the dimension, or if one of the arrays has size 1 in that dimension.\n",
    "3. The arrays can be broadcast together if they are compatible in all dimensions.\n",
    "4. After broadcasting, each array behaves as if it had shape equal to the elementwise maximum of shapes of the two input arrays.\n",
    "5. In any dimension where one array had size 1 and the other array had size greater than 1, the first array behaves as if it were copied along that dimension\n",
    "\n",
    "If this explanation does not make sense, try reading the explanation from the [documentation](http://docs.scipy.org/doc/numpy/user/basics.broadcasting.html) or this [explanation](http://wiki.scipy.org/EricsBroadcastingDoc).\n",
    "\n",
    "Functions that support broadcasting are known as universal functions. You can find the list of all universal functions in the [documentation](http://docs.scipy.org/doc/numpy/reference/ufuncs.html#available-ufuncs).\n",
    "\n",
    "Here are some applications of broadcasting:"
   ]
  },
  {
   "cell_type": "code",
   "execution_count": 64,
   "metadata": {},
   "outputs": [],
   "source": [
    "M = np.ones((2, 3))\n",
    "a = np.arange(3)"
   ]
  },
  {
   "cell_type": "markdown",
   "metadata": {},
   "source": [
    "Let's consider the shape of these arrays:\n",
    "* M.shape = (2,3)\n",
    "* a.shape = (3,)\n",
    "\n",
    "By rule 1, prepend the rank of a by 1. The new shapes thus are:\n",
    "* M.shape = (2,3)\n",
    "* a.shape = (1,3)\n",
    "\n",
    "Now by rule 5, copy the dimensions to make the arrays compatible\n",
    "* M.shape = (2,3)\n",
    "* a.shape = (2,3)\n"
   ]
  },
  {
   "cell_type": "code",
   "execution_count": 65,
   "metadata": {},
   "outputs": [
    {
     "data": {
      "text/plain": [
       "array([[1., 2., 3.],\n",
       "       [1., 2., 3.]])"
      ]
     },
     "execution_count": 65,
     "metadata": {},
     "output_type": "execute_result"
    }
   ],
   "source": [
    "M+a"
   ]
  },
  {
   "cell_type": "code",
   "execution_count": 38,
   "metadata": {},
   "outputs": [
    {
     "name": "stdout",
     "output_type": "stream",
     "text": [
      "[[ 4  5]\n",
      " [ 8 10]\n",
      " [12 15]]\n"
     ]
    }
   ],
   "source": [
    "# Compute outer product of vectors\n",
    "v = np.array([1,2,3])  # v has shape (3,)\n",
    "w = np.array([4,5])    # w has shape (2,)\n",
    "# To compute an outer product, we first reshape v to be a column\n",
    "# vector of shape (3, 1); we can then broadcast it against w to yield\n",
    "# an output of shape (3, 2), which is the outer product of v and w:\n",
    "\n",
    "print(np.reshape(v, (3, 1)) * w)"
   ]
  },
  {
   "cell_type": "code",
   "execution_count": 39,
   "metadata": {},
   "outputs": [
    {
     "name": "stdout",
     "output_type": "stream",
     "text": [
      "[[2 4 6]\n",
      " [5 7 9]]\n"
     ]
    }
   ],
   "source": [
    "# Add a vector to each row of a matrix\n",
    "x = np.array([[1,2,3], [4,5,6]])\n",
    "# x has shape (2, 3) and v has shape (3,) so they broadcast to (2, 3),\n",
    "# giving the following matrix:\n",
    "\n",
    "print(x + v)"
   ]
  },
  {
   "cell_type": "code",
   "execution_count": 40,
   "metadata": {},
   "outputs": [
    {
     "name": "stdout",
     "output_type": "stream",
     "text": [
      "[[ 5  6  7]\n",
      " [ 9 10 11]]\n"
     ]
    }
   ],
   "source": [
    "# Add a vector to each column of a matrix\n",
    "# x has shape (2, 3) and w has shape (2,).\n",
    "# If we transpose x then it has shape (3, 2) and can be broadcast\n",
    "# against w to yield a result of shape (3, 2); transposing this result\n",
    "# yields the final result of shape (2, 3) which is the matrix x with\n",
    "# the vector w added to each column. Gives the following matrix:\n",
    "\n",
    "print((x.T + w).T)"
   ]
  },
  {
   "cell_type": "code",
   "execution_count": 41,
   "metadata": {},
   "outputs": [
    {
     "name": "stdout",
     "output_type": "stream",
     "text": [
      "[[ 5  6  7]\n",
      " [ 9 10 11]]\n"
     ]
    }
   ],
   "source": [
    "# Another solution is to reshape w to be a row vector of shape (2, 1);\n",
    "# we can then broadcast it directly against x to produce the same\n",
    "# output.\n",
    "print(x + np.reshape(w, (2, 1)))"
   ]
  },
  {
   "cell_type": "code",
   "execution_count": 42,
   "metadata": {},
   "outputs": [
    {
     "name": "stdout",
     "output_type": "stream",
     "text": [
      "[[ 2  4  6]\n",
      " [ 8 10 12]]\n"
     ]
    }
   ],
   "source": [
    "# Multiply a matrix by a constant:\n",
    "# x has shape (2, 3). Numpy treats scalars as arrays of shape ();\n",
    "# these can be broadcast together to shape (2, 3), producing the\n",
    "# following array:\n",
    "print(x * 2)"
   ]
  },
  {
   "cell_type": "markdown",
   "metadata": {},
   "source": [
    "Broadcasting typically makes your code more concise and faster, so you should strive to use it where possible."
   ]
  },
  {
   "cell_type": "markdown",
   "metadata": {},
   "source": [
    "This brief overview has touched on many of the important things that you need to know about numpy, but is far from complete. Check out the [numpy reference](http://docs.scipy.org/doc/numpy/reference/) to find out much more about numpy."
   ]
  },
  {
   "cell_type": "markdown",
   "metadata": {},
   "source": [
    "## An example"
   ]
  },
  {
   "cell_type": "markdown",
   "metadata": {},
   "source": [
    "### Finding Nearest Neighbours"
   ]
  },
  {
   "cell_type": "code",
   "execution_count": 139,
   "metadata": {},
   "outputs": [
    {
     "name": "stdout",
     "output_type": "stream",
     "text": [
      "(4, 3)\n"
     ]
    }
   ],
   "source": [
    "x= np.float64(np.random.randint(0, 5,(4,3) ))\n",
    "print(x.shape)"
   ]
  },
  {
   "cell_type": "markdown",
   "metadata": {},
   "source": [
    "* Without broadcasting, we can write is using loops"
   ]
  },
  {
   "cell_type": "code",
   "execution_count": 140,
   "metadata": {},
   "outputs": [
    {
     "data": {
      "text/plain": [
       "array([[0., 1., 4.],\n",
       "       [2., 1., 4.],\n",
       "       [2., 3., 1.],\n",
       "       [2., 4., 2.]])"
      ]
     },
     "execution_count": 140,
     "metadata": {},
     "output_type": "execute_result"
    }
   ],
   "source": [
    "x"
   ]
  },
  {
   "cell_type": "code",
   "execution_count": 141,
   "metadata": {},
   "outputs": [
    {
     "name": "stdout",
     "output_type": "stream",
     "text": [
      "[1, 0, 3, 2]\n"
     ]
    }
   ],
   "source": [
    "minDistances = []\n",
    "        \n",
    "def distance(x,y):\n",
    "    dist = 0\n",
    "    for i in range(len(x)):\n",
    "        dist += (x[i]-y[i])**2\n",
    "    return dist\n",
    "\n",
    "for i in range(len(x)):\n",
    "    minDist = np.inf\n",
    "    minIndex = 0\n",
    "    for j in range(len(x)):\n",
    "        if(i==j):\n",
    "            continue\n",
    "        if(minDist>distance(x[i],x[j])):\n",
    "            minDist = distance(x[i],x[j])\n",
    "            minIndex = j\n",
    "    minDistances.append(minIndex)\n",
    "        \n",
    "print(minDistances)  "
   ]
  },
  {
   "cell_type": "code",
   "execution_count": 142,
   "metadata": {},
   "outputs": [
    {
     "data": {
      "text/plain": [
       "array([[[0., 1., 4.]],\n",
       "\n",
       "       [[2., 1., 4.]],\n",
       "\n",
       "       [[2., 3., 1.]],\n",
       "\n",
       "       [[2., 4., 2.]]])"
      ]
     },
     "execution_count": 142,
     "metadata": {},
     "output_type": "execute_result"
    }
   ],
   "source": [
    "x.reshape(4,1,3)"
   ]
  },
  {
   "cell_type": "code",
   "execution_count": 143,
   "metadata": {},
   "outputs": [],
   "source": [
    "difference = x.reshape(4,1,3) - x"
   ]
  },
  {
   "cell_type": "markdown",
   "metadata": {},
   "source": [
    "Let's just analyse what happened.\n",
    "\n",
    "    *x.reshape(4,1,3) has the shape (4,1,3)\n",
    "    *              x has the shape (4,3)\n",
    "               \n",
    "Rule 1 says to prepend rank of x by 1\n",
    "So,\n",
    "    * x.reshape(4,1,3).shape  = (4,1,3)\n",
    "    * x.shape = (1,4,3)\n",
    "    \n",
    "Now using rule 5, shapes become:\n",
    "    \n",
    "    * x.reshape(4,1,3).shape  = (4,4,3)\n",
    "    * x.shape = (4,4,3)\n",
    "    \n"
   ]
  },
  {
   "cell_type": "code",
   "execution_count": 144,
   "metadata": {},
   "outputs": [
    {
     "data": {
      "text/plain": [
       "array([[[ 0.,  0.,  0.],\n",
       "        [-2.,  0.,  0.],\n",
       "        [-2., -2.,  3.],\n",
       "        [-2., -3.,  2.]],\n",
       "\n",
       "       [[ 2.,  0.,  0.],\n",
       "        [ 0.,  0.,  0.],\n",
       "        [ 0., -2.,  3.],\n",
       "        [ 0., -3.,  2.]],\n",
       "\n",
       "       [[ 2.,  2., -3.],\n",
       "        [ 0.,  2., -3.],\n",
       "        [ 0.,  0.,  0.],\n",
       "        [ 0., -1., -1.]],\n",
       "\n",
       "       [[ 2.,  3., -2.],\n",
       "        [ 0.,  3., -2.],\n",
       "        [ 0.,  1.,  1.],\n",
       "        [ 0.,  0.,  0.]]])"
      ]
     },
     "execution_count": 144,
     "metadata": {},
     "output_type": "execute_result"
    }
   ],
   "source": [
    "difference"
   ]
  },
  {
   "cell_type": "code",
   "execution_count": 145,
   "metadata": {},
   "outputs": [
    {
     "data": {
      "text/plain": [
       "(4, 4)"
      ]
     },
     "execution_count": 145,
     "metadata": {},
     "output_type": "execute_result"
    }
   ],
   "source": [
    "D = np.sum(np.square(difference), axis=2)\n",
    "D.shape"
   ]
  },
  {
   "cell_type": "code",
   "execution_count": 146,
   "metadata": {},
   "outputs": [
    {
     "data": {
      "text/plain": [
       "array([[ 0.,  4., 17., 17.],\n",
       "       [ 4.,  0., 13., 13.],\n",
       "       [17., 13.,  0.,  2.],\n",
       "       [17., 13.,  2.,  0.]])"
      ]
     },
     "execution_count": 146,
     "metadata": {},
     "output_type": "execute_result"
    }
   ],
   "source": [
    "D\n"
   ]
  },
  {
   "cell_type": "code",
   "execution_count": 147,
   "metadata": {},
   "outputs": [
    {
     "data": {
      "text/plain": [
       "array([[inf,  4., 17., 17.],\n",
       "       [ 4., inf, 13., 13.],\n",
       "       [17., 13., inf,  2.],\n",
       "       [17., 13.,  2., inf]])"
      ]
     },
     "execution_count": 147,
     "metadata": {},
     "output_type": "execute_result"
    }
   ],
   "source": [
    "i= np.arange(4)\n",
    "D[i,i] = np.inf\n",
    "D"
   ]
  },
  {
   "cell_type": "code",
   "execution_count": 148,
   "metadata": {},
   "outputs": [
    {
     "data": {
      "text/plain": [
       "(array([1, 0, 3, 2]), (4,))"
      ]
     },
     "execution_count": 148,
     "metadata": {},
     "output_type": "execute_result"
    }
   ],
   "source": [
    "j = np.argmin(D,1)\n",
    "j[:], j.shape"
   ]
  },
  {
   "cell_type": "markdown",
   "metadata": {},
   "source": [
    "#### Bigger Example\n"
   ]
  },
  {
   "cell_type": "code",
   "execution_count": 150,
   "metadata": {},
   "outputs": [
    {
     "data": {
      "text/plain": [
       "(array([508, 546, 632, 176, 446, 992, 574, 909, 864,  11]), (1000,))"
      ]
     },
     "execution_count": 150,
     "metadata": {},
     "output_type": "execute_result"
    }
   ],
   "source": [
    "x= np.float64(np.random.randint(0, 100,(1000,3) ))\n",
    "diff = x.reshape(1000,1,3) - x\n",
    "D = np.sum(np.square(diff), axis=2)\n",
    "i= np.arange(1000)\n",
    "D[i,i] = np.inf\n",
    "j = np.argmin(D,1)\n",
    "j[:10], j.shape"
   ]
  },
  {
   "cell_type": "code",
   "execution_count": 151,
   "metadata": {},
   "outputs": [
    {
     "name": "stdout",
     "output_type": "stream",
     "text": [
      "[508, 546, 632, 176, 446, 992, 574, 909, 864, 11, 636, 9, 857, 252, 187, 907, 373, 286, 718, 183, 65, 740, 623, 896, 879, 925, 755, 539, 381, 589, 349, 643, 987, 432, 24, 332, 972, 401, 215, 316, 918, 629, 696, 796, 860, 364, 360, 299, 207, 875, 910, 595, 188, 94, 650, 542, 754, 440, 678, 773, 735, 887, 721, 191, 91, 20, 2, 152, 962, 363, 326, 565, 69, 583, 610, 31, 486, 723, 870, 111, 991, 666, 302, 363, 439, 241, 875, 314, 933, 658, 456, 64, 355, 202, 53, 794, 317, 699, 671, 368, 141, 146, 752, 991, 955, 116, 162, 318, 156, 980, 947, 878, 272, 999, 934, 840, 105, 251, 497, 985, 930, 826, 716, 780, 373, 525, 358, 191, 760, 322, 690, 862, 501, 488, 659, 407, 786, 730, 563, 522, 867, 100, 465, 774, 514, 238, 101, 103, 603, 159, 581, 992, 67, 833, 606, 715, 108, 512, 624, 149, 604, 387, 240, 913, 499, 633, 447, 681, 392, 501, 359, 855, 655, 768, 593, 644, 902, 144, 463, 204, 128, 503, 929, 276, 243, 316, 661, 237, 52, 230, 302, 63, 68, 724, 461, 272, 862, 814, 429, 546, 480, 836, 93, 506, 179, 962, 582, 740, 893, 994, 670, 692, 334, 978, 909, 475, 198, 153, 773, 624, 540, 482, 646, 878, 57, 959, 684, 399, 76, 296, 723, 667, 542, 169, 412, 926, 311, 187, 145, 890, 463, 85, 783, 184, 535, 664, 482, 484, 728, 884, 970, 117, 13, 566, 354, 617, 915, 319, 31, 551, 873, 761, 776, 420, 576, 527, 871, 627, 748, 409, 330, 954, 112, 383, 360, 129, 183, 351, 359, 328, 758, 801, 678, 656, 520, 809, 17, 294, 998, 19, 864, 463, 580, 790, 287, 869, 160, 777, 475, 47, 956, 661, 190, 840, 918, 407, 261, 484, 714, 182, 882, 804, 202, 835, 87, 959, 185, 96, 507, 257, 776, 318, 129, 337, 269, 314, 70, 673, 821, 390, 999, 327, 35, 393, 972, 749, 952, 323, 641, 331, 397, 362, 466, 380, 853, 672, 88, 142, 787, 74, 738, 277, 940, 542, 254, 92, 496, 787, 190, 278, 274, 283, 527, 69, 45, 367, 238, 365, 99, 810, 592, 624, 663, 16, 729, 587, 487, 944, 816, 602, 343, 569, 417, 273, 582, 897, 500, 161, 132, 583, 329, 734, 701, 333, 891, 449, 381, 340, 744, 631, 884, 37, 526, 58, 216, 617, 483, 305, 869, 269, 374, 83, 551, 749, 474, 255, 872, 382, 908, 684, 197, 201, 460, 600, 477, 703, 446, 114, 654, 198, 372, 573, 435, 941, 883, 432, 226, 12, 938, 84, 57, 146, 943, 777, 151, 786, 426, 166, 970, 395, 554, 940, 480, 555, 905, 580, 90, 541, 534, 614, 422, 194, 539, 240, 507, 933, 342, 716, 812, 74, 675, 557, 647, 558, 5, 298, 498, 424, 221, 601, 200, 65, 221, 406, 307, 438, 76, 376, 133, 826, 774, 426, 60, 655, 610, 606, 356, 118, 654, 749, 386, 169, 854, 181, 700, 803, 203, 318, 0, 929, 781, 562, 157, 4, 692, 717, 110, 701, 698, 533, 58, 718, 413, 435, 706, 125, 402, 362, 747, 657, 544, 679, 772, 576, 797, 50, 623, 553, 877, 462, 618, 457, 55, 98, 530, 813, 199, 585, 710, 137, 712, 412, 607, 537, 450, 591, 280, 471, 473, 981, 580, 462, 511, 138, 702, 71, 920, 234, 973, 381, 732, 340, 881, 731, 620, 806, 533, 695, 921, 798, 292, 150, 206, 73, 568, 547, 920, 375, 105, 626, 756, 555, 919, 174, 950, 51, 796, 980, 856, 833, 423, 479, 807, 163, 160, 888, 154, 257, 913, 399, 74, 673, 369, 963, 459, 981, 898, 255, 874, 650, 574, 875, 318, 22, 219, 737, 589, 267, 853, 780, 903, 399, 576, 708, 644, 990, 10, 617, 968, 39, 565, 338, 520, 732, 175, 828, 222, 472, 999, 795, 619, 415, 959, 424, 498, 493, 283, 529, 89, 134, 841, 186, 936, 372, 770, 823, 81, 231, 697, 682, 969, 98, 713, 327, 969, 952, 813, 508, 58, 531, 971, 714, 669, 652, 226, 546, 215, 856, 709, 941, 130, 896, 514, 801, 207, 587, 42, 386, 39, 97, 504, 392, 564, 406, 443, 13, 524, 844, 633, 688, 548, 302, 550, 688, 681, 155, 122, 515, 18, 386, 974, 948, 890, 230, 193, 143, 65, 914, 248, 374, 137, 573, 570, 763, 391, 60, 505, 625, 350, 348, 21, 930, 313, 728, 326, 117, 541, 528, 314, 335, 873, 184, 102, 294, 95, 26, 23, 25, 280, 867, 128, 261, 354, 733, 641, 575, 307, 839, 825, 577, 664, 720, 532, 59, 490, 897, 320, 443, 866, 165, 629, 510, 988, 242, 673, 861, 445, 357, 900, 775, 764, 834, 311, 815, 95, 649, 43, 534, 579, 883, 92, 281, 538, 505, 311, 842, 575, 602, 793, 285, 866, 141, 468, 676, 197, 585, 322, 510, 595, 915, 562, 328, 161, 923, 879, 768, 489, 400, 645, 859, 242, 755, 390, 153, 872, 313, 201, 863, 157, 712, 303, 568, 805, 196, 62, 105, 96, 662, 931, 613, 846, 326, 497, 628, 102, 171, 647, 12, 966, 829, 44, 785, 196, 837, 290, 793, 810, 140, 564, 295, 78, 310, 416, 260, 618, 49, 544, 538, 223, 367, 636, 572, 310, 434, 249, 19, 621, 61, 979, 272, 722, 394, 943, 208, 44, 563, 23, 775, 616, 398, 788, 446, 176, 630, 512, 454, 171, 15, 418, 7, 50, 85, 138, 163, 985, 256, 235, 707, 40, 592, 566, 480, 288, 823, 935, 25, 235, 616, 674, 509, 120, 848, 653, 88, 114, 924, 662, 52, 438, 148, 352, 433, 454, 442, 377, 510, 954, 587, 721, 273, 594, 836, 675, 616, 271, 104, 300, 301, 844, 315, 522, 719, 205, 613, 850, 433, 858, 732, 638, 674, 448, 680, 334, 568, 720, 810, 18, 845, 213, 888, 662, 615, 557, 8, 57, 914, 199, 680, 782, 242, 227, 103, 5, 887, 936, 128, 626, 532, 288, 648]\n"
     ]
    }
   ],
   "source": [
    "minDistances = []\n",
    "        \n",
    "def distance(x,y):\n",
    "    dist = 0\n",
    "    for i in range(len(x)):\n",
    "        dist += (x[i]-y[i])**2\n",
    "    return dist\n",
    "\n",
    "for i in range(len(x)):\n",
    "    minDist = np.inf\n",
    "    minIndex = 0\n",
    "    for j in range(len(x)):\n",
    "        if(i==j):\n",
    "            continue\n",
    "        if(minDist>distance(x[i],x[j])):\n",
    "            minDist = distance(x[i],x[j])\n",
    "            minIndex = j\n",
    "    minDistances.append(minIndex)\n",
    "        \n",
    "print(minDistances)  "
   ]
  },
  {
   "cell_type": "markdown",
   "metadata": {},
   "source": [
    "### Matplotlib"
   ]
  },
  {
   "cell_type": "code",
   "execution_count": 169,
   "metadata": {},
   "outputs": [
    {
     "name": "stdout",
     "output_type": "stream",
     "text": [
      "Using matplotlib backend: MacOSX\n"
     ]
    }
   ],
   "source": [
    "%matplotlib"
   ]
  },
  {
   "cell_type": "code",
   "execution_count": 170,
   "metadata": {},
   "outputs": [],
   "source": [
    "import matplotlib.pyplot as plt\n",
    "%matplotlib inline"
   ]
  },
  {
   "cell_type": "markdown",
   "metadata": {},
   "source": [
    "Using Matplotlib inline, the plots will be embedded into the notebook as png files"
   ]
  },
  {
   "cell_type": "code",
   "execution_count": 171,
   "metadata": {},
   "outputs": [
    {
     "data": {
      "image/png": "[encoded data removed]",
      "text/plain": [
       "<Figure size 432x288 with 1 Axes>"
      ]
     },
     "metadata": {},
     "output_type": "display_data"
    }
   ],
   "source": [
    "import numpy as np\n",
    "x = np.linspace(0, 10, 100)\n",
    "\n",
    "fig = plt.figure()\n",
    "plt.plot(x, np.sin(x), '-')\n",
    "plt.plot(x, np.cos(x), '--');"
   ]
  },
  {
   "cell_type": "code",
   "execution_count": 172,
   "metadata": {},
   "outputs": [],
   "source": [
    "fig.savefig('my_figure.png')"
   ]
  },
  {
   "cell_type": "markdown",
   "metadata": {},
   "source": [
    "#### Two interfaces\n",
    "\n",
    "* Matplotlib offers two kinds of interfaces. One is a MATLAB-style interface, and other is an object oriented style interface\n",
    "\n",
    "https://jakevdp.github.io/PythonDataScienceHandbook/04.00-introduction-to-matplotlib.html"
   ]
  },
  {
   "cell_type": "markdown",
   "metadata": {},
   "source": [
    "### MATLAB-style Interface"
   ]
  },
  {
   "cell_type": "code",
   "execution_count": 186,
   "metadata": {},
   "outputs": [
    {
     "data": {
      "image/png": "[encoded data removed]",
      "text/plain": [
       "<Figure size 432x288 with 2 Axes>"
      ]
     },
     "metadata": {},
     "output_type": "display_data"
    }
   ],
   "source": [
    "plt.figure()  # create a plot figure\n",
    "\n",
    "# create the first of two panels and set current axis\n",
    "plt.subplot(2, 1, 1) # (rows, columns, panel number)\n",
    "plt.plot(x, np.sin(x))\n",
    "\n",
    "# create the second panel and set current axis\n",
    "plt.subplot(2, 1, 2)\n",
    "plt.plot(x, np.cos(x));"
   ]
  },
  {
   "cell_type": "markdown",
   "metadata": {},
   "source": [
    "### OOP-style Interface"
   ]
  },
  {
   "cell_type": "code",
   "execution_count": 185,
   "metadata": {},
   "outputs": [
    {
     "data": {
      "image/png": "[encoded data removed]",
      "text/plain": [
       "<Figure size 432x288 with 2 Axes>"
      ]
     },
     "metadata": {},
     "output_type": "display_data"
    }
   ],
   "source": [
    "# First create a grid of plots\n",
    "# ax will be an array of two Axes objects\n",
    "fig, ax = plt.subplots(2)\n",
    "\n",
    "# Call plot() method on the appropriate object\n",
    "ax[0].plot(x, np.sin(x))\n",
    "ax[1].plot(x, np.cos(x));"
   ]
  },
  {
   "cell_type": "code",
   "execution_count": null,
   "metadata": {},
   "outputs": [],
   "source": []
  }
 ],
 "metadata": {
  "kernelspec": {
   "display_name": "Python 3",
   "language": "python",
   "name": "python3"
  },
  "language_info": {
   "codemirror_mode": {
    "name": "ipython",
    "version": 3
   },
   "file_extension": ".py",
   "mimetype": "text/x-python",
   "name": "python",
   "nbconvert_exporter": "python",
   "pygments_lexer": "ipython3",
   "version": "3.6.5"
  },
  "toc": {
   "base_numbering": 1,
   "nav_menu": {},
   "number_sections": true,
   "sideBar": true,
   "skip_h1_title": false,
   "title_cell": "Table of Contents",
   "title_sidebar": "Contents",
   "toc_cell": false,
   "toc_position": {},
   "toc_section_display": true,
   "toc_window_display": false
  },
  "varInspector": {
   "cols": {
    "lenName": 16,
    "lenType": 16,
    "lenVar": 40
   },
   "kernels_config": {
    "python": {
     "delete_cmd_postfix": "",
     "delete_cmd_prefix": "del ",
     "library": "var_list.py",
     "varRefreshCmd": "print(var_dic_list())"
    },
    "r": {
     "delete_cmd_postfix": ") ",
     "delete_cmd_prefix": "rm(",
     "library": "var_list.r",
     "varRefreshCmd": "cat(var_dic_list()) "
    }
   },
   "types_to_exclude": [
    "module",
    "function",
    "builtin_function_or_method",
    "instance",
    "_Feature"
   ],
   "window_display": false
  }
 },
 "nbformat": 4,
 "nbformat_minor": 2
}
